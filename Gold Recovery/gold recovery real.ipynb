{
 "cells": [
  {
   "cell_type": "markdown",
   "metadata": {
    "toc": true
   },
   "source": [
    "<h1>Содержание<span class=\"tocSkip\"></span></h1>\n",
    "<div class=\"toc\"><ul class=\"toc-item\"><li><span><a href=\"#Подготовка-данных\" data-toc-modified-id=\"Подготовка-данных-1\"><span class=\"toc-item-num\">1&nbsp;&nbsp;</span>Подготовка данных</a></span></li><li><span><a href=\"#Анализ-данных\" data-toc-modified-id=\"Анализ-данных-2\"><span class=\"toc-item-num\">2&nbsp;&nbsp;</span>Анализ данных</a></span></li><li><span><a href=\"#Модель\" data-toc-modified-id=\"Модель-3\"><span class=\"toc-item-num\">3&nbsp;&nbsp;</span>Модель</a></span></li><li><span><a href=\"#Чек-лист-готовности-проекта\" data-toc-modified-id=\"Чек-лист-готовности-проекта-4\"><span class=\"toc-item-num\">4&nbsp;&nbsp;</span>Чек-лист готовности проекта</a></span></li></ul></div>"
   ]
  },
  {
   "cell_type": "markdown",
   "metadata": {},
   "source": [
    "# Восстановление золота из руды"
   ]
  },
  {
   "cell_type": "markdown",
   "metadata": {},
   "source": [
    "Подготовьте прототип модели машинного обучения для «Цифры». Компания разрабатывает решения для эффективной работы промышленных предприятий.\n",
    "\n",
    "Модель должна предсказать коэффициент восстановления золота из золотосодержащей руды. Используйте данные с параметрами добычи и очистки. \n",
    "\n",
    "Модель поможет оптимизировать производство, чтобы не запускать предприятие с убыточными характеристиками.\n",
    "\n",
    "Вам нужно:\n",
    "\n",
    "1. Подготовить данные;\n",
    "2. Провести исследовательский анализ данных;\n",
    "3. Построить и обучить модель.\n",
    "\n",
    "Чтобы выполнить проект, обращайтесь к библиотекам *pandas*, *matplotlib* и *sklearn.* Вам поможет их документация."
   ]
  },
  {
   "cell_type": "markdown",
   "metadata": {},
   "source": [
    "## Подготовка данных"
   ]
  },
  {
   "cell_type": "markdown",
   "metadata": {},
   "source": [
    "Загрузим все необходимые для работы библиотеки"
   ]
  },
  {
   "cell_type": "code",
   "execution_count": 1,
   "metadata": {},
   "outputs": [],
   "source": [
    "import pandas as pd\n",
    "\n",
    "from sklearn.tree import DecisionTreeRegressor\n",
    "from sklearn.linear_model import LinearRegression\n",
    "from sklearn.ensemble import RandomForestRegressor\n",
    "\n",
    "from sklearn.metrics import (mean_squared_error,\n",
    "                             mean_absolute_error,\n",
    "                             r2_score,\n",
    "                             make_scorer)\n",
    "                             \n",
    "from sklearn.model_selection import (cross_val_score,\n",
    "                                     train_test_split)\n",
    "\n",
    "from sklearn.dummy import DummyRegressor\n",
    "\n",
    "import numpy as np\n",
    "import matplotlib.pyplot as plt"
   ]
  },
  {
   "cell_type": "markdown",
   "metadata": {},
   "source": [
    "Откроем и изучим файлы"
   ]
  },
  {
   "cell_type": "code",
   "execution_count": 2,
   "metadata": {},
   "outputs": [],
   "source": [
    "try:\n",
    "    data_full = pd.read_csv('/Users/yana/Documents/Обучение Питон/Мои проекты/Gold recovery/gold_industry_full.csv')\n",
    "except:\n",
    "    data_full = pd.read_csv('/datasets/gold_industry_full.csv')"
   ]
  },
  {
   "cell_type": "code",
   "execution_count": 3,
   "metadata": {
    "scrolled": false
   },
   "outputs": [
    {
     "data": {
      "text/html": [
       "<div>\n",
       "<style scoped>\n",
       "    .dataframe tbody tr th:only-of-type {\n",
       "        vertical-align: middle;\n",
       "    }\n",
       "\n",
       "    .dataframe tbody tr th {\n",
       "        vertical-align: top;\n",
       "    }\n",
       "\n",
       "    .dataframe thead th {\n",
       "        text-align: right;\n",
       "    }\n",
       "</style>\n",
       "<table border=\"1\" class=\"dataframe\">\n",
       "  <thead>\n",
       "    <tr style=\"text-align: right;\">\n",
       "      <th></th>\n",
       "      <th>date</th>\n",
       "      <th>rougher.input.feed_au</th>\n",
       "      <th>rougher.input.feed_ag</th>\n",
       "      <th>rougher.input.feed_pb</th>\n",
       "      <th>rougher.input.feed_sol</th>\n",
       "      <th>rougher.input.feed_rate</th>\n",
       "      <th>rougher.input.feed_size</th>\n",
       "      <th>rougher.input.floatbank10_sulfate</th>\n",
       "      <th>rougher.input.floatbank10_xanthate</th>\n",
       "      <th>rougher.state.floatbank10_a_air</th>\n",
       "      <th>...</th>\n",
       "      <th>secondary_cleaner.output.tail_sol</th>\n",
       "      <th>final.output.concentrate_au</th>\n",
       "      <th>final.output.concentrate_ag</th>\n",
       "      <th>final.output.concentrate_pb</th>\n",
       "      <th>final.output.concentrate_sol</th>\n",
       "      <th>final.output.recovery</th>\n",
       "      <th>final.output.tail_au</th>\n",
       "      <th>final.output.tail_ag</th>\n",
       "      <th>final.output.tail_pb</th>\n",
       "      <th>final.output.tail_sol</th>\n",
       "    </tr>\n",
       "  </thead>\n",
       "  <tbody>\n",
       "    <tr>\n",
       "      <th>0</th>\n",
       "      <td>2016-01-15 00:00:00</td>\n",
       "      <td>6.486150</td>\n",
       "      <td>6.100378</td>\n",
       "      <td>2.284912</td>\n",
       "      <td>36.808594</td>\n",
       "      <td>523.546326</td>\n",
       "      <td>55.486599</td>\n",
       "      <td>11.986616</td>\n",
       "      <td>6.007990</td>\n",
       "      <td>999.706909</td>\n",
       "      <td>...</td>\n",
       "      <td>8.764648</td>\n",
       "      <td>42.192020</td>\n",
       "      <td>6.055403</td>\n",
       "      <td>9.889648</td>\n",
       "      <td>5.507324</td>\n",
       "      <td>70.541216</td>\n",
       "      <td>2.143149</td>\n",
       "      <td>10.411962</td>\n",
       "      <td>0.895447</td>\n",
       "      <td>16.904297</td>\n",
       "    </tr>\n",
       "    <tr>\n",
       "      <th>1</th>\n",
       "      <td>2016-01-15 01:00:00</td>\n",
       "      <td>6.478583</td>\n",
       "      <td>6.161113</td>\n",
       "      <td>2.266033</td>\n",
       "      <td>35.753385</td>\n",
       "      <td>525.290581</td>\n",
       "      <td>57.278666</td>\n",
       "      <td>11.971193</td>\n",
       "      <td>6.005766</td>\n",
       "      <td>1000.286398</td>\n",
       "      <td>...</td>\n",
       "      <td>9.001494</td>\n",
       "      <td>42.701629</td>\n",
       "      <td>6.029369</td>\n",
       "      <td>9.968944</td>\n",
       "      <td>5.257781</td>\n",
       "      <td>69.266198</td>\n",
       "      <td>2.224930</td>\n",
       "      <td>10.462676</td>\n",
       "      <td>0.927452</td>\n",
       "      <td>16.634514</td>\n",
       "    </tr>\n",
       "    <tr>\n",
       "      <th>2</th>\n",
       "      <td>2016-01-15 02:00:00</td>\n",
       "      <td>6.362222</td>\n",
       "      <td>6.116455</td>\n",
       "      <td>2.159622</td>\n",
       "      <td>35.971630</td>\n",
       "      <td>530.026610</td>\n",
       "      <td>57.510649</td>\n",
       "      <td>11.920603</td>\n",
       "      <td>6.197377</td>\n",
       "      <td>999.719565</td>\n",
       "      <td>...</td>\n",
       "      <td>8.842896</td>\n",
       "      <td>42.657501</td>\n",
       "      <td>6.055926</td>\n",
       "      <td>10.213995</td>\n",
       "      <td>5.383759</td>\n",
       "      <td>68.116445</td>\n",
       "      <td>2.257889</td>\n",
       "      <td>10.507046</td>\n",
       "      <td>0.953716</td>\n",
       "      <td>16.208849</td>\n",
       "    </tr>\n",
       "  </tbody>\n",
       "</table>\n",
       "<p>3 rows × 87 columns</p>\n",
       "</div>"
      ],
      "text/plain": [
       "                  date  rougher.input.feed_au  rougher.input.feed_ag  \\\n",
       "0  2016-01-15 00:00:00               6.486150               6.100378   \n",
       "1  2016-01-15 01:00:00               6.478583               6.161113   \n",
       "2  2016-01-15 02:00:00               6.362222               6.116455   \n",
       "\n",
       "   rougher.input.feed_pb  rougher.input.feed_sol  rougher.input.feed_rate  \\\n",
       "0               2.284912               36.808594               523.546326   \n",
       "1               2.266033               35.753385               525.290581   \n",
       "2               2.159622               35.971630               530.026610   \n",
       "\n",
       "   rougher.input.feed_size  rougher.input.floatbank10_sulfate  \\\n",
       "0                55.486599                          11.986616   \n",
       "1                57.278666                          11.971193   \n",
       "2                57.510649                          11.920603   \n",
       "\n",
       "   rougher.input.floatbank10_xanthate  rougher.state.floatbank10_a_air  ...  \\\n",
       "0                            6.007990                       999.706909  ...   \n",
       "1                            6.005766                      1000.286398  ...   \n",
       "2                            6.197377                       999.719565  ...   \n",
       "\n",
       "   secondary_cleaner.output.tail_sol  final.output.concentrate_au  \\\n",
       "0                           8.764648                    42.192020   \n",
       "1                           9.001494                    42.701629   \n",
       "2                           8.842896                    42.657501   \n",
       "\n",
       "   final.output.concentrate_ag  final.output.concentrate_pb  \\\n",
       "0                     6.055403                     9.889648   \n",
       "1                     6.029369                     9.968944   \n",
       "2                     6.055926                    10.213995   \n",
       "\n",
       "   final.output.concentrate_sol  final.output.recovery  final.output.tail_au  \\\n",
       "0                      5.507324              70.541216              2.143149   \n",
       "1                      5.257781              69.266198              2.224930   \n",
       "2                      5.383759              68.116445              2.257889   \n",
       "\n",
       "   final.output.tail_ag  final.output.tail_pb  final.output.tail_sol  \n",
       "0             10.411962              0.895447              16.904297  \n",
       "1             10.462676              0.927452              16.634514  \n",
       "2             10.507046              0.953716              16.208849  \n",
       "\n",
       "[3 rows x 87 columns]"
      ]
     },
     "execution_count": 3,
     "metadata": {},
     "output_type": "execute_result"
    }
   ],
   "source": [
    "data_full.head(3)"
   ]
  },
  {
   "cell_type": "code",
   "execution_count": 4,
   "metadata": {},
   "outputs": [],
   "source": [
    "try:\n",
    "    data_train = pd.read_csv('/Users/yana/Documents/Обучение Питон/Мои проекты/Gold recovery/gold_industry_train.csv')\n",
    "except:\n",
    "    data_train = pd.read_csv('/datasets/gold_industry_train.csv')"
   ]
  },
  {
   "cell_type": "code",
   "execution_count": 5,
   "metadata": {
    "scrolled": false
   },
   "outputs": [
    {
     "data": {
      "text/html": [
       "<div>\n",
       "<style scoped>\n",
       "    .dataframe tbody tr th:only-of-type {\n",
       "        vertical-align: middle;\n",
       "    }\n",
       "\n",
       "    .dataframe tbody tr th {\n",
       "        vertical-align: top;\n",
       "    }\n",
       "\n",
       "    .dataframe thead th {\n",
       "        text-align: right;\n",
       "    }\n",
       "</style>\n",
       "<table border=\"1\" class=\"dataframe\">\n",
       "  <thead>\n",
       "    <tr style=\"text-align: right;\">\n",
       "      <th></th>\n",
       "      <th>date</th>\n",
       "      <th>rougher.input.feed_au</th>\n",
       "      <th>rougher.input.feed_ag</th>\n",
       "      <th>rougher.input.feed_pb</th>\n",
       "      <th>rougher.input.feed_sol</th>\n",
       "      <th>rougher.input.feed_rate</th>\n",
       "      <th>rougher.input.feed_size</th>\n",
       "      <th>rougher.input.floatbank10_sulfate</th>\n",
       "      <th>rougher.input.floatbank10_xanthate</th>\n",
       "      <th>rougher.state.floatbank10_a_air</th>\n",
       "      <th>...</th>\n",
       "      <th>secondary_cleaner.output.tail_sol</th>\n",
       "      <th>final.output.concentrate_au</th>\n",
       "      <th>final.output.concentrate_ag</th>\n",
       "      <th>final.output.concentrate_pb</th>\n",
       "      <th>final.output.concentrate_sol</th>\n",
       "      <th>final.output.recovery</th>\n",
       "      <th>final.output.tail_au</th>\n",
       "      <th>final.output.tail_ag</th>\n",
       "      <th>final.output.tail_pb</th>\n",
       "      <th>final.output.tail_sol</th>\n",
       "    </tr>\n",
       "  </thead>\n",
       "  <tbody>\n",
       "    <tr>\n",
       "      <th>0</th>\n",
       "      <td>2016-01-15 00:00:00</td>\n",
       "      <td>6.486150</td>\n",
       "      <td>6.100378</td>\n",
       "      <td>2.284912</td>\n",
       "      <td>36.808594</td>\n",
       "      <td>523.546326</td>\n",
       "      <td>55.486599</td>\n",
       "      <td>11.986616</td>\n",
       "      <td>6.007990</td>\n",
       "      <td>999.706909</td>\n",
       "      <td>...</td>\n",
       "      <td>8.764648</td>\n",
       "      <td>42.192020</td>\n",
       "      <td>6.055403</td>\n",
       "      <td>9.889648</td>\n",
       "      <td>5.507324</td>\n",
       "      <td>70.541216</td>\n",
       "      <td>2.143149</td>\n",
       "      <td>10.411962</td>\n",
       "      <td>0.895447</td>\n",
       "      <td>16.904297</td>\n",
       "    </tr>\n",
       "    <tr>\n",
       "      <th>1</th>\n",
       "      <td>2016-01-15 01:00:00</td>\n",
       "      <td>6.478583</td>\n",
       "      <td>6.161113</td>\n",
       "      <td>2.266033</td>\n",
       "      <td>35.753385</td>\n",
       "      <td>525.290581</td>\n",
       "      <td>57.278666</td>\n",
       "      <td>11.971193</td>\n",
       "      <td>6.005766</td>\n",
       "      <td>1000.286398</td>\n",
       "      <td>...</td>\n",
       "      <td>9.001494</td>\n",
       "      <td>42.701629</td>\n",
       "      <td>6.029369</td>\n",
       "      <td>9.968944</td>\n",
       "      <td>5.257781</td>\n",
       "      <td>69.266198</td>\n",
       "      <td>2.224930</td>\n",
       "      <td>10.462676</td>\n",
       "      <td>0.927452</td>\n",
       "      <td>16.634514</td>\n",
       "    </tr>\n",
       "    <tr>\n",
       "      <th>2</th>\n",
       "      <td>2016-01-15 02:00:00</td>\n",
       "      <td>6.362222</td>\n",
       "      <td>6.116455</td>\n",
       "      <td>2.159622</td>\n",
       "      <td>35.971630</td>\n",
       "      <td>530.026610</td>\n",
       "      <td>57.510649</td>\n",
       "      <td>11.920603</td>\n",
       "      <td>6.197377</td>\n",
       "      <td>999.719565</td>\n",
       "      <td>...</td>\n",
       "      <td>8.842896</td>\n",
       "      <td>42.657501</td>\n",
       "      <td>6.055926</td>\n",
       "      <td>10.213995</td>\n",
       "      <td>5.383759</td>\n",
       "      <td>68.116445</td>\n",
       "      <td>2.257889</td>\n",
       "      <td>10.507046</td>\n",
       "      <td>0.953716</td>\n",
       "      <td>16.208849</td>\n",
       "    </tr>\n",
       "  </tbody>\n",
       "</table>\n",
       "<p>3 rows × 87 columns</p>\n",
       "</div>"
      ],
      "text/plain": [
       "                  date  rougher.input.feed_au  rougher.input.feed_ag  \\\n",
       "0  2016-01-15 00:00:00               6.486150               6.100378   \n",
       "1  2016-01-15 01:00:00               6.478583               6.161113   \n",
       "2  2016-01-15 02:00:00               6.362222               6.116455   \n",
       "\n",
       "   rougher.input.feed_pb  rougher.input.feed_sol  rougher.input.feed_rate  \\\n",
       "0               2.284912               36.808594               523.546326   \n",
       "1               2.266033               35.753385               525.290581   \n",
       "2               2.159622               35.971630               530.026610   \n",
       "\n",
       "   rougher.input.feed_size  rougher.input.floatbank10_sulfate  \\\n",
       "0                55.486599                          11.986616   \n",
       "1                57.278666                          11.971193   \n",
       "2                57.510649                          11.920603   \n",
       "\n",
       "   rougher.input.floatbank10_xanthate  rougher.state.floatbank10_a_air  ...  \\\n",
       "0                            6.007990                       999.706909  ...   \n",
       "1                            6.005766                      1000.286398  ...   \n",
       "2                            6.197377                       999.719565  ...   \n",
       "\n",
       "   secondary_cleaner.output.tail_sol  final.output.concentrate_au  \\\n",
       "0                           8.764648                    42.192020   \n",
       "1                           9.001494                    42.701629   \n",
       "2                           8.842896                    42.657501   \n",
       "\n",
       "   final.output.concentrate_ag  final.output.concentrate_pb  \\\n",
       "0                     6.055403                     9.889648   \n",
       "1                     6.029369                     9.968944   \n",
       "2                     6.055926                    10.213995   \n",
       "\n",
       "   final.output.concentrate_sol  final.output.recovery  final.output.tail_au  \\\n",
       "0                      5.507324              70.541216              2.143149   \n",
       "1                      5.257781              69.266198              2.224930   \n",
       "2                      5.383759              68.116445              2.257889   \n",
       "\n",
       "   final.output.tail_ag  final.output.tail_pb  final.output.tail_sol  \n",
       "0             10.411962              0.895447              16.904297  \n",
       "1             10.462676              0.927452              16.634514  \n",
       "2             10.507046              0.953716              16.208849  \n",
       "\n",
       "[3 rows x 87 columns]"
      ]
     },
     "execution_count": 5,
     "metadata": {},
     "output_type": "execute_result"
    }
   ],
   "source": [
    "data_train.head(3)"
   ]
  },
  {
   "cell_type": "code",
   "execution_count": 6,
   "metadata": {},
   "outputs": [],
   "source": [
    "try:\n",
    "    data_test = pd.read_csv('/Users/yana/Documents/Обучение Питон/Мои проекты/Gold recovery/gold_industry_test.csv')\n",
    "except:\n",
    "    data_test = pd.read_csv('/datasets/gold_industry_test.csv')"
   ]
  },
  {
   "cell_type": "code",
   "execution_count": 7,
   "metadata": {
    "scrolled": true
   },
   "outputs": [
    {
     "data": {
      "text/html": [
       "<div>\n",
       "<style scoped>\n",
       "    .dataframe tbody tr th:only-of-type {\n",
       "        vertical-align: middle;\n",
       "    }\n",
       "\n",
       "    .dataframe tbody tr th {\n",
       "        vertical-align: top;\n",
       "    }\n",
       "\n",
       "    .dataframe thead th {\n",
       "        text-align: right;\n",
       "    }\n",
       "</style>\n",
       "<table border=\"1\" class=\"dataframe\">\n",
       "  <thead>\n",
       "    <tr style=\"text-align: right;\">\n",
       "      <th></th>\n",
       "      <th>date</th>\n",
       "      <th>rougher.input.feed_au</th>\n",
       "      <th>rougher.input.feed_ag</th>\n",
       "      <th>rougher.input.feed_pb</th>\n",
       "      <th>rougher.input.feed_sol</th>\n",
       "      <th>rougher.input.feed_rate</th>\n",
       "      <th>rougher.input.feed_size</th>\n",
       "      <th>rougher.input.floatbank10_sulfate</th>\n",
       "      <th>rougher.input.floatbank10_xanthate</th>\n",
       "      <th>rougher.state.floatbank10_a_air</th>\n",
       "      <th>...</th>\n",
       "      <th>secondary_cleaner.state.floatbank4_a_air</th>\n",
       "      <th>secondary_cleaner.state.floatbank4_a_level</th>\n",
       "      <th>secondary_cleaner.state.floatbank4_b_air</th>\n",
       "      <th>secondary_cleaner.state.floatbank4_b_level</th>\n",
       "      <th>secondary_cleaner.state.floatbank5_a_air</th>\n",
       "      <th>secondary_cleaner.state.floatbank5_a_level</th>\n",
       "      <th>secondary_cleaner.state.floatbank5_b_air</th>\n",
       "      <th>secondary_cleaner.state.floatbank5_b_level</th>\n",
       "      <th>secondary_cleaner.state.floatbank6_a_air</th>\n",
       "      <th>secondary_cleaner.state.floatbank6_a_level</th>\n",
       "    </tr>\n",
       "  </thead>\n",
       "  <tbody>\n",
       "    <tr>\n",
       "      <th>0</th>\n",
       "      <td>2017-12-09 14:59:59</td>\n",
       "      <td>4.365491</td>\n",
       "      <td>6.158718</td>\n",
       "      <td>3.875727</td>\n",
       "      <td>39.135119</td>\n",
       "      <td>555.820208</td>\n",
       "      <td>94.544358</td>\n",
       "      <td>6.146982</td>\n",
       "      <td>9.308612</td>\n",
       "      <td>1196.238112</td>\n",
       "      <td>...</td>\n",
       "      <td>23.018622</td>\n",
       "      <td>-500.492702</td>\n",
       "      <td>20.020205</td>\n",
       "      <td>-500.220296</td>\n",
       "      <td>17.963512</td>\n",
       "      <td>-499.939490</td>\n",
       "      <td>12.990306</td>\n",
       "      <td>-500.080993</td>\n",
       "      <td>19.990336</td>\n",
       "      <td>-499.191575</td>\n",
       "    </tr>\n",
       "    <tr>\n",
       "      <th>1</th>\n",
       "      <td>2017-12-09 15:59:59</td>\n",
       "      <td>4.362781</td>\n",
       "      <td>6.048130</td>\n",
       "      <td>3.902537</td>\n",
       "      <td>39.713906</td>\n",
       "      <td>544.731687</td>\n",
       "      <td>123.742430</td>\n",
       "      <td>6.210119</td>\n",
       "      <td>9.297709</td>\n",
       "      <td>1201.904177</td>\n",
       "      <td>...</td>\n",
       "      <td>23.024963</td>\n",
       "      <td>-501.153409</td>\n",
       "      <td>20.054122</td>\n",
       "      <td>-500.314711</td>\n",
       "      <td>17.979515</td>\n",
       "      <td>-499.272871</td>\n",
       "      <td>12.992404</td>\n",
       "      <td>-499.976268</td>\n",
       "      <td>20.013986</td>\n",
       "      <td>-500.625471</td>\n",
       "    </tr>\n",
       "    <tr>\n",
       "      <th>2</th>\n",
       "      <td>2017-12-09 16:59:59</td>\n",
       "      <td>5.081681</td>\n",
       "      <td>6.082745</td>\n",
       "      <td>4.564078</td>\n",
       "      <td>37.208683</td>\n",
       "      <td>558.155110</td>\n",
       "      <td>82.610855</td>\n",
       "      <td>7.363824</td>\n",
       "      <td>9.003562</td>\n",
       "      <td>1200.826926</td>\n",
       "      <td>...</td>\n",
       "      <td>22.993827</td>\n",
       "      <td>-501.559663</td>\n",
       "      <td>20.029144</td>\n",
       "      <td>-500.000662</td>\n",
       "      <td>18.012723</td>\n",
       "      <td>-500.024764</td>\n",
       "      <td>13.016445</td>\n",
       "      <td>-500.058432</td>\n",
       "      <td>19.973767</td>\n",
       "      <td>-501.394155</td>\n",
       "    </tr>\n",
       "  </tbody>\n",
       "</table>\n",
       "<p>3 rows × 53 columns</p>\n",
       "</div>"
      ],
      "text/plain": [
       "                  date  rougher.input.feed_au  rougher.input.feed_ag  \\\n",
       "0  2017-12-09 14:59:59               4.365491               6.158718   \n",
       "1  2017-12-09 15:59:59               4.362781               6.048130   \n",
       "2  2017-12-09 16:59:59               5.081681               6.082745   \n",
       "\n",
       "   rougher.input.feed_pb  rougher.input.feed_sol  rougher.input.feed_rate  \\\n",
       "0               3.875727               39.135119               555.820208   \n",
       "1               3.902537               39.713906               544.731687   \n",
       "2               4.564078               37.208683               558.155110   \n",
       "\n",
       "   rougher.input.feed_size  rougher.input.floatbank10_sulfate  \\\n",
       "0                94.544358                           6.146982   \n",
       "1               123.742430                           6.210119   \n",
       "2                82.610855                           7.363824   \n",
       "\n",
       "   rougher.input.floatbank10_xanthate  rougher.state.floatbank10_a_air  ...  \\\n",
       "0                            9.308612                      1196.238112  ...   \n",
       "1                            9.297709                      1201.904177  ...   \n",
       "2                            9.003562                      1200.826926  ...   \n",
       "\n",
       "   secondary_cleaner.state.floatbank4_a_air  \\\n",
       "0                                 23.018622   \n",
       "1                                 23.024963   \n",
       "2                                 22.993827   \n",
       "\n",
       "   secondary_cleaner.state.floatbank4_a_level  \\\n",
       "0                                 -500.492702   \n",
       "1                                 -501.153409   \n",
       "2                                 -501.559663   \n",
       "\n",
       "   secondary_cleaner.state.floatbank4_b_air  \\\n",
       "0                                 20.020205   \n",
       "1                                 20.054122   \n",
       "2                                 20.029144   \n",
       "\n",
       "   secondary_cleaner.state.floatbank4_b_level  \\\n",
       "0                                 -500.220296   \n",
       "1                                 -500.314711   \n",
       "2                                 -500.000662   \n",
       "\n",
       "   secondary_cleaner.state.floatbank5_a_air  \\\n",
       "0                                 17.963512   \n",
       "1                                 17.979515   \n",
       "2                                 18.012723   \n",
       "\n",
       "   secondary_cleaner.state.floatbank5_a_level  \\\n",
       "0                                 -499.939490   \n",
       "1                                 -499.272871   \n",
       "2                                 -500.024764   \n",
       "\n",
       "   secondary_cleaner.state.floatbank5_b_air  \\\n",
       "0                                 12.990306   \n",
       "1                                 12.992404   \n",
       "2                                 13.016445   \n",
       "\n",
       "   secondary_cleaner.state.floatbank5_b_level  \\\n",
       "0                                 -500.080993   \n",
       "1                                 -499.976268   \n",
       "2                                 -500.058432   \n",
       "\n",
       "   secondary_cleaner.state.floatbank6_a_air  \\\n",
       "0                                 19.990336   \n",
       "1                                 20.013986   \n",
       "2                                 19.973767   \n",
       "\n",
       "   secondary_cleaner.state.floatbank6_a_level  \n",
       "0                                 -499.191575  \n",
       "1                                 -500.625471  \n",
       "2                                 -501.394155  \n",
       "\n",
       "[3 rows x 53 columns]"
      ]
     },
     "execution_count": 7,
     "metadata": {},
     "output_type": "execute_result"
    }
   ],
   "source": [
    "data_test.head(3)"
   ]
  },
  {
   "cell_type": "markdown",
   "metadata": {},
   "source": [
    "Вычислим эффективность обогащения на обучающей выборке для признака rougher.output.recovery. Найдем MAE между нашими расчётами и значением признака."
   ]
  },
  {
   "cell_type": "code",
   "execution_count": 8,
   "metadata": {},
   "outputs": [
    {
     "name": "stdout",
     "output_type": "stream",
     "text": [
      "Абсолютная средняя ошибка = 1.0851689485498649e-14\n"
     ]
    }
   ],
   "source": [
    "concentrate_au = data_train['rougher.output.concentrate_au']\n",
    "feed_au = data_train['rougher.input.feed_au']\n",
    "tail_au = data_train['rougher.output.tail_au']\n",
    "output_recovery = data_train['rougher.output.recovery']\n",
    "output_recovery_calc = (concentrate_au * (feed_au - tail_au) / feed_au \n",
    "                        / (concentrate_au - tail_au) * 100)\n",
    "\n",
    "print('Абсолютная средняя ошибка =', mean_absolute_error(output_recovery, output_recovery_calc))"
   ]
  },
  {
   "cell_type": "markdown",
   "metadata": {},
   "source": [
    "Вывод: Средняя квадратичная ошибка стремится к 0. Расчеты проведены верно."
   ]
  },
  {
   "cell_type": "markdown",
   "metadata": {},
   "source": [
    "Проверим, каких столбиков нет в тестовой выборке"
   ]
  },
  {
   "cell_type": "code",
   "execution_count": 9,
   "metadata": {},
   "outputs": [],
   "source": [
    "train_set = list(data_train.columns.values)\n",
    "full_set = list(data_full.columns.values)\n",
    "test_set = list(data_test.columns.values)"
   ]
  },
  {
   "cell_type": "code",
   "execution_count": 10,
   "metadata": {
    "scrolled": true
   },
   "outputs": [
    {
     "data": {
      "text/plain": [
       "['primary_cleaner.output.concentrate_pb',\n",
       " 'rougher.output.tail_sol',\n",
       " 'final.output.tail_pb',\n",
       " 'secondary_cleaner.output.tail_pb',\n",
       " 'primary_cleaner.output.concentrate_au',\n",
       " 'rougher.calculation.au_pb_ratio',\n",
       " 'final.output.concentrate_ag',\n",
       " 'final.output.tail_au',\n",
       " 'final.output.concentrate_sol',\n",
       " 'primary_cleaner.output.tail_au',\n",
       " 'rougher.output.concentrate_pb',\n",
       " 'rougher.output.concentrate_ag',\n",
       " 'final.output.tail_sol',\n",
       " 'primary_cleaner.output.tail_pb',\n",
       " 'secondary_cleaner.output.tail_au',\n",
       " 'rougher.output.concentrate_sol',\n",
       " 'final.output.concentrate_pb',\n",
       " 'primary_cleaner.output.tail_sol',\n",
       " 'final.output.concentrate_au',\n",
       " 'rougher.output.tail_au',\n",
       " 'secondary_cleaner.output.tail_ag',\n",
       " 'rougher.calculation.floatbank11_sulfate_to_au_feed',\n",
       " 'rougher.output.tail_ag',\n",
       " 'rougher.calculation.floatbank10_sulfate_to_au_feed',\n",
       " 'secondary_cleaner.output.tail_sol',\n",
       " 'rougher.output.tail_pb',\n",
       " 'rougher.output.concentrate_au',\n",
       " 'rougher.output.recovery',\n",
       " 'rougher.calculation.sulfate_to_au_concentrate',\n",
       " 'final.output.recovery',\n",
       " 'final.output.tail_ag',\n",
       " 'primary_cleaner.output.concentrate_sol',\n",
       " 'primary_cleaner.output.tail_ag',\n",
       " 'primary_cleaner.output.concentrate_ag']"
      ]
     },
     "execution_count": 10,
     "metadata": {},
     "output_type": "execute_result"
    }
   ],
   "source": [
    "not_in_test = list(set(data_train)-set(data_test))\n",
    "not_in_test"
   ]
  },
  {
   "cell_type": "markdown",
   "metadata": {},
   "source": [
    "<b>Вывод:</b> в тестовой выборке отсутсвуют показатели, которые считаются после проведения этапов обработки руды."
   ]
  },
  {
   "cell_type": "markdown",
   "metadata": {},
   "source": [
    "В дальнейшем, для проверки качества модели нам понадобятся некоторые столбики, которые отсутствуют в тестовой выборки. Добавим их"
   ]
  },
  {
   "cell_type": "code",
   "execution_count": 11,
   "metadata": {},
   "outputs": [],
   "source": [
    "data_test = data_test.merge(data_full[['date', 'rougher.output.recovery', 'final.output.recovery']], on='date')"
   ]
  },
  {
   "cell_type": "markdown",
   "metadata": {},
   "source": [
    "Выполним предобработку данных"
   ]
  },
  {
   "cell_type": "markdown",
   "metadata": {},
   "source": [
    "Напишем функцию для просмотра общей информации по данным"
   ]
  },
  {
   "cell_type": "code",
   "execution_count": 12,
   "metadata": {},
   "outputs": [],
   "source": [
    "def check(data):\n",
    "    print('Описание:')\n",
    "    print(data.describe())\n",
    "    print()\n",
    "    print(data.info())\n",
    "    print()\n",
    "    print('Дубликатов:')\n",
    "    print(data.duplicated().sum())\n",
    "    print()\n",
    "    print('Пропусков:')\n",
    "    display(pd.DataFrame(round(data.isna().mean()*100,)).style.\\\n",
    "background_gradient('coolwarm'))\n",
    "    print()\n",
    "    print(data.shape)"
   ]
  },
  {
   "cell_type": "code",
   "execution_count": 13,
   "metadata": {},
   "outputs": [
    {
     "name": "stdout",
     "output_type": "stream",
     "text": [
      "Описание:\n",
      "       rougher.input.feed_au  rougher.input.feed_ag  rougher.input.feed_pb  \\\n",
      "count           19439.000000           19439.000000           19339.000000   \n",
      "mean                8.266097               8.794927               3.598085   \n",
      "std                 1.955092               1.936847               1.049486   \n",
      "min                 0.010000               0.010000               0.010000   \n",
      "25%                 6.854384               7.237967               2.887280   \n",
      "50%                 8.125839               8.593574               3.534895   \n",
      "75%                 9.769917              10.213771               4.244161   \n",
      "max                13.731330              14.596026               7.142594   \n",
      "\n",
      "       rougher.input.feed_sol  rougher.input.feed_rate  \\\n",
      "count            19340.000000             19428.000000   \n",
      "mean                36.695114               478.320042   \n",
      "std                  5.145445               105.373758   \n",
      "min                  0.010000                 0.002986   \n",
      "25%                 34.207799               416.525453   \n",
      "50%                 37.202650               499.416120   \n",
      "75%                 40.039133               550.172183   \n",
      "max                 53.477742               717.508837   \n",
      "\n",
      "       rougher.input.feed_size  rougher.input.floatbank10_sulfate  \\\n",
      "count             19294.000000                       19405.000000   \n",
      "mean                 58.970310                          12.334373   \n",
      "std                  21.634478                           3.427317   \n",
      "min                   0.046369                           0.001083   \n",
      "25%                  47.435103                          10.000362   \n",
      "50%                  54.610197                          12.001174   \n",
      "75%                  65.023044                          14.716595   \n",
      "max                 484.967466                          36.118275   \n",
      "\n",
      "       rougher.input.floatbank10_xanthate  rougher.state.floatbank10_a_air  \\\n",
      "count                        19431.000000                     19438.000000   \n",
      "mean                             6.021474                      1105.315068   \n",
      "std                              1.127263                       160.826798   \n",
      "min                              0.000568                        -0.042069   \n",
      "25%                              5.398678                       999.661867   \n",
      "50%                              6.008273                      1001.072890   \n",
      "75%                              6.798051                      1205.620588   \n",
      "max                              9.703448                      1521.980372   \n",
      "\n",
      "       rougher.state.floatbank10_a_level  ...  \\\n",
      "count                       19438.000000  ...   \n",
      "mean                         -376.610690  ...   \n",
      "std                            93.909667  ...   \n",
      "min                          -657.949759  ...   \n",
      "25%                          -499.835165  ...   \n",
      "50%                          -300.263994  ...   \n",
      "75%                          -299.981998  ...   \n",
      "max                          -273.776101  ...   \n",
      "\n",
      "       secondary_cleaner.output.tail_sol  final.output.concentrate_au  \\\n",
      "count                       17691.000000                 19439.000000   \n",
      "mean                            7.167247                    44.076513   \n",
      "std                             3.916079                     5.129784   \n",
      "min                             0.000000                     0.000000   \n",
      "25%                             3.845475                    43.402215   \n",
      "50%                             7.685827                    45.011244   \n",
      "75%                            10.411296                    46.275313   \n",
      "max                            26.000772                    52.756638   \n",
      "\n",
      "       final.output.concentrate_ag  final.output.concentrate_pb  \\\n",
      "count                 19438.000000                 19438.000000   \n",
      "mean                      5.168470                     9.978895   \n",
      "std                       1.372348                     1.669240   \n",
      "min                       0.000000                     0.000000   \n",
      "25%                       4.251240                     9.137262   \n",
      "50%                       5.066094                    10.102433   \n",
      "75%                       5.895527                    11.035769   \n",
      "max                      16.001945                    17.031899   \n",
      "\n",
      "       final.output.concentrate_sol  final.output.recovery  \\\n",
      "count                  19228.000000           19439.000000   \n",
      "mean                       9.501224              67.050208   \n",
      "std                        2.787537              10.125840   \n",
      "min                        0.000000               0.000000   \n",
      "25%                        7.722820              63.299712   \n",
      "50%                        9.218961              68.172738   \n",
      "75%                       10.947813              72.686642   \n",
      "max                       19.615720             100.000000   \n",
      "\n",
      "       final.output.tail_au  final.output.tail_ag  final.output.tail_pb  \\\n",
      "count          19439.000000          19438.000000          19338.000000   \n",
      "mean               3.042467              9.688589              2.705795   \n",
      "std                0.922808              2.328642              0.949077   \n",
      "min                0.000000              0.000000              0.000000   \n",
      "25%                2.461138              8.062878              2.040119   \n",
      "50%                2.984909              9.743623              2.748730   \n",
      "75%                3.571351             11.134294              3.333216   \n",
      "max                8.245022             19.552149              5.804178   \n",
      "\n",
      "       final.output.tail_sol  \n",
      "count           19433.000000  \n",
      "mean               10.583728  \n",
      "std                 2.868782  \n",
      "min                 0.000000  \n",
      "25%                 8.938947  \n",
      "50%                10.622456  \n",
      "75%                12.104271  \n",
      "max                22.317730  \n",
      "\n",
      "[8 rows x 86 columns]\n",
      "\n",
      "<class 'pandas.core.frame.DataFrame'>\n",
      "RangeIndex: 19439 entries, 0 to 19438\n",
      "Data columns (total 87 columns):\n",
      " #   Column                                              Non-Null Count  Dtype  \n",
      "---  ------                                              --------------  -----  \n",
      " 0   date                                                19439 non-null  object \n",
      " 1   rougher.input.feed_au                               19439 non-null  float64\n",
      " 2   rougher.input.feed_ag                               19439 non-null  float64\n",
      " 3   rougher.input.feed_pb                               19339 non-null  float64\n",
      " 4   rougher.input.feed_sol                              19340 non-null  float64\n",
      " 5   rougher.input.feed_rate                             19428 non-null  float64\n",
      " 6   rougher.input.feed_size                             19294 non-null  float64\n",
      " 7   rougher.input.floatbank10_sulfate                   19405 non-null  float64\n",
      " 8   rougher.input.floatbank10_xanthate                  19431 non-null  float64\n",
      " 9   rougher.state.floatbank10_a_air                     19438 non-null  float64\n",
      " 10  rougher.state.floatbank10_a_level                   19438 non-null  float64\n",
      " 11  rougher.state.floatbank10_b_air                     19438 non-null  float64\n",
      " 12  rougher.state.floatbank10_b_level                   19438 non-null  float64\n",
      " 13  rougher.state.floatbank10_c_air                     19438 non-null  float64\n",
      " 14  rougher.state.floatbank10_c_level                   19438 non-null  float64\n",
      " 15  rougher.state.floatbank10_d_air                     19439 non-null  float64\n",
      " 16  rougher.state.floatbank10_d_level                   19439 non-null  float64\n",
      " 17  rougher.state.floatbank10_e_air                     19003 non-null  float64\n",
      " 18  rougher.state.floatbank10_e_level                   19439 non-null  float64\n",
      " 19  rougher.state.floatbank10_f_air                     19439 non-null  float64\n",
      " 20  rougher.state.floatbank10_f_level                   19439 non-null  float64\n",
      " 21  rougher.input.floatbank11_sulfate                   19395 non-null  float64\n",
      " 22  rougher.input.floatbank11_xanthate                  18986 non-null  float64\n",
      " 23  rougher.calculation.sulfate_to_au_concentrate       19437 non-null  float64\n",
      " 24  rougher.calculation.floatbank10_sulfate_to_au_feed  19437 non-null  float64\n",
      " 25  rougher.calculation.floatbank11_sulfate_to_au_feed  19437 non-null  float64\n",
      " 26  rougher.calculation.au_pb_ratio                     19439 non-null  float64\n",
      " 27  rougher.output.concentrate_au                       19439 non-null  float64\n",
      " 28  rougher.output.concentrate_ag                       19439 non-null  float64\n",
      " 29  rougher.output.concentrate_pb                       19439 non-null  float64\n",
      " 30  rougher.output.concentrate_sol                      19416 non-null  float64\n",
      " 31  rougher.output.recovery                             19439 non-null  float64\n",
      " 32  rougher.output.tail_au                              19439 non-null  float64\n",
      " 33  rougher.output.tail_ag                              19438 non-null  float64\n",
      " 34  rougher.output.tail_pb                              19439 non-null  float64\n",
      " 35  rougher.output.tail_sol                             19439 non-null  float64\n",
      " 36  primary_cleaner.input.sulfate                       19415 non-null  float64\n",
      " 37  primary_cleaner.input.depressant                    19402 non-null  float64\n",
      " 38  primary_cleaner.input.feed_size                     19439 non-null  float64\n",
      " 39  primary_cleaner.input.xanthate                      19335 non-null  float64\n",
      " 40  primary_cleaner.state.floatbank8_a_air              19435 non-null  float64\n",
      " 41  primary_cleaner.state.floatbank8_a_level            19438 non-null  float64\n",
      " 42  primary_cleaner.state.floatbank8_b_air              19435 non-null  float64\n",
      " 43  primary_cleaner.state.floatbank8_b_level            19438 non-null  float64\n",
      " 44  primary_cleaner.state.floatbank8_c_air              19437 non-null  float64\n",
      " 45  primary_cleaner.state.floatbank8_c_level            19438 non-null  float64\n",
      " 46  primary_cleaner.state.floatbank8_d_air              19436 non-null  float64\n",
      " 47  primary_cleaner.state.floatbank8_d_level            19438 non-null  float64\n",
      " 48  primary_cleaner.output.concentrate_au               19439 non-null  float64\n",
      " 49  primary_cleaner.output.concentrate_ag               19439 non-null  float64\n",
      " 50  primary_cleaner.output.concentrate_pb               19323 non-null  float64\n",
      " 51  primary_cleaner.output.concentrate_sol              19069 non-null  float64\n",
      " 52  primary_cleaner.output.tail_au                      19439 non-null  float64\n",
      " 53  primary_cleaner.output.tail_ag                      19435 non-null  float64\n",
      " 54  primary_cleaner.output.tail_pb                      19418 non-null  float64\n",
      " 55  primary_cleaner.output.tail_sol                     19377 non-null  float64\n",
      " 56  secondary_cleaner.state.floatbank2_a_air            19219 non-null  float64\n",
      " 57  secondary_cleaner.state.floatbank2_a_level          19438 non-null  float64\n",
      " 58  secondary_cleaner.state.floatbank2_b_air            19416 non-null  float64\n",
      " 59  secondary_cleaner.state.floatbank2_b_level          19438 non-null  float64\n",
      " 60  secondary_cleaner.state.floatbank3_a_air            19426 non-null  float64\n",
      " 61  secondary_cleaner.state.floatbank3_a_level          19438 non-null  float64\n",
      " 62  secondary_cleaner.state.floatbank3_b_air            19438 non-null  float64\n",
      " 63  secondary_cleaner.state.floatbank3_b_level          19438 non-null  float64\n",
      " 64  secondary_cleaner.state.floatbank4_a_air            19433 non-null  float64\n",
      " 65  secondary_cleaner.state.floatbank4_a_level          19438 non-null  float64\n",
      " 66  secondary_cleaner.state.floatbank4_b_air            19438 non-null  float64\n",
      " 67  secondary_cleaner.state.floatbank4_b_level          19438 non-null  float64\n",
      " 68  secondary_cleaner.state.floatbank5_a_air            19438 non-null  float64\n",
      " 69  secondary_cleaner.state.floatbank5_a_level          19438 non-null  float64\n",
      " 70  secondary_cleaner.state.floatbank5_b_air            19438 non-null  float64\n",
      " 71  secondary_cleaner.state.floatbank5_b_level          19438 non-null  float64\n",
      " 72  secondary_cleaner.state.floatbank6_a_air            19437 non-null  float64\n",
      " 73  secondary_cleaner.state.floatbank6_a_level          19438 non-null  float64\n",
      " 74  secondary_cleaner.output.tail_au                    19439 non-null  float64\n",
      " 75  secondary_cleaner.output.tail_ag                    19437 non-null  float64\n",
      " 76  secondary_cleaner.output.tail_pb                    19427 non-null  float64\n",
      " 77  secondary_cleaner.output.tail_sol                   17691 non-null  float64\n",
      " 78  final.output.concentrate_au                         19439 non-null  float64\n",
      " 79  final.output.concentrate_ag                         19438 non-null  float64\n",
      " 80  final.output.concentrate_pb                         19438 non-null  float64\n",
      " 81  final.output.concentrate_sol                        19228 non-null  float64\n",
      " 82  final.output.recovery                               19439 non-null  float64\n",
      " 83  final.output.tail_au                                19439 non-null  float64\n",
      " 84  final.output.tail_ag                                19438 non-null  float64\n",
      " 85  final.output.tail_pb                                19338 non-null  float64\n",
      " 86  final.output.tail_sol                               19433 non-null  float64\n",
      "dtypes: float64(86), object(1)\n",
      "memory usage: 12.9+ MB\n",
      "None\n",
      "\n",
      "Дубликатов:\n"
     ]
    },
    {
     "name": "stdout",
     "output_type": "stream",
     "text": [
      "0\n",
      "\n",
      "Пропусков:\n"
     ]
    },
    {
     "data": {
      "text/html": [
       "<style type=\"text/css\">\n",
       "#T_4ccea_row0_col0, #T_4ccea_row1_col0, #T_4ccea_row2_col0, #T_4ccea_row5_col0, #T_4ccea_row7_col0, #T_4ccea_row8_col0, #T_4ccea_row9_col0, #T_4ccea_row10_col0, #T_4ccea_row11_col0, #T_4ccea_row12_col0, #T_4ccea_row13_col0, #T_4ccea_row14_col0, #T_4ccea_row15_col0, #T_4ccea_row16_col0, #T_4ccea_row18_col0, #T_4ccea_row19_col0, #T_4ccea_row20_col0, #T_4ccea_row21_col0, #T_4ccea_row23_col0, #T_4ccea_row24_col0, #T_4ccea_row25_col0, #T_4ccea_row26_col0, #T_4ccea_row27_col0, #T_4ccea_row28_col0, #T_4ccea_row29_col0, #T_4ccea_row30_col0, #T_4ccea_row31_col0, #T_4ccea_row32_col0, #T_4ccea_row33_col0, #T_4ccea_row34_col0, #T_4ccea_row35_col0, #T_4ccea_row36_col0, #T_4ccea_row37_col0, #T_4ccea_row38_col0, #T_4ccea_row40_col0, #T_4ccea_row41_col0, #T_4ccea_row42_col0, #T_4ccea_row43_col0, #T_4ccea_row44_col0, #T_4ccea_row45_col0, #T_4ccea_row46_col0, #T_4ccea_row47_col0, #T_4ccea_row48_col0, #T_4ccea_row49_col0, #T_4ccea_row52_col0, #T_4ccea_row53_col0, #T_4ccea_row54_col0, #T_4ccea_row55_col0, #T_4ccea_row57_col0, #T_4ccea_row58_col0, #T_4ccea_row59_col0, #T_4ccea_row60_col0, #T_4ccea_row61_col0, #T_4ccea_row62_col0, #T_4ccea_row63_col0, #T_4ccea_row64_col0, #T_4ccea_row65_col0, #T_4ccea_row66_col0, #T_4ccea_row67_col0, #T_4ccea_row68_col0, #T_4ccea_row69_col0, #T_4ccea_row70_col0, #T_4ccea_row71_col0, #T_4ccea_row72_col0, #T_4ccea_row73_col0, #T_4ccea_row74_col0, #T_4ccea_row75_col0, #T_4ccea_row76_col0, #T_4ccea_row78_col0, #T_4ccea_row79_col0, #T_4ccea_row80_col0, #T_4ccea_row82_col0, #T_4ccea_row83_col0, #T_4ccea_row84_col0, #T_4ccea_row86_col0 {\n",
       "  background-color: #3b4cc0;\n",
       "  color: #f1f1f1;\n",
       "}\n",
       "#T_4ccea_row3_col0, #T_4ccea_row4_col0, #T_4ccea_row6_col0, #T_4ccea_row39_col0, #T_4ccea_row50_col0, #T_4ccea_row56_col0, #T_4ccea_row81_col0, #T_4ccea_row85_col0 {\n",
       "  background-color: #5d7ce6;\n",
       "  color: #f1f1f1;\n",
       "}\n",
       "#T_4ccea_row17_col0, #T_4ccea_row22_col0, #T_4ccea_row51_col0 {\n",
       "  background-color: #82a6fb;\n",
       "  color: #f1f1f1;\n",
       "}\n",
       "#T_4ccea_row77_col0 {\n",
       "  background-color: #b40426;\n",
       "  color: #f1f1f1;\n",
       "}\n",
       "</style>\n",
       "<table id=\"T_4ccea\">\n",
       "  <thead>\n",
       "    <tr>\n",
       "      <th class=\"blank level0\" >&nbsp;</th>\n",
       "      <th id=\"T_4ccea_level0_col0\" class=\"col_heading level0 col0\" >0</th>\n",
       "    </tr>\n",
       "  </thead>\n",
       "  <tbody>\n",
       "    <tr>\n",
       "      <th id=\"T_4ccea_level0_row0\" class=\"row_heading level0 row0\" >date</th>\n",
       "      <td id=\"T_4ccea_row0_col0\" class=\"data row0 col0\" >0.000000</td>\n",
       "    </tr>\n",
       "    <tr>\n",
       "      <th id=\"T_4ccea_level0_row1\" class=\"row_heading level0 row1\" >rougher.input.feed_au</th>\n",
       "      <td id=\"T_4ccea_row1_col0\" class=\"data row1 col0\" >0.000000</td>\n",
       "    </tr>\n",
       "    <tr>\n",
       "      <th id=\"T_4ccea_level0_row2\" class=\"row_heading level0 row2\" >rougher.input.feed_ag</th>\n",
       "      <td id=\"T_4ccea_row2_col0\" class=\"data row2 col0\" >0.000000</td>\n",
       "    </tr>\n",
       "    <tr>\n",
       "      <th id=\"T_4ccea_level0_row3\" class=\"row_heading level0 row3\" >rougher.input.feed_pb</th>\n",
       "      <td id=\"T_4ccea_row3_col0\" class=\"data row3 col0\" >1.000000</td>\n",
       "    </tr>\n",
       "    <tr>\n",
       "      <th id=\"T_4ccea_level0_row4\" class=\"row_heading level0 row4\" >rougher.input.feed_sol</th>\n",
       "      <td id=\"T_4ccea_row4_col0\" class=\"data row4 col0\" >1.000000</td>\n",
       "    </tr>\n",
       "    <tr>\n",
       "      <th id=\"T_4ccea_level0_row5\" class=\"row_heading level0 row5\" >rougher.input.feed_rate</th>\n",
       "      <td id=\"T_4ccea_row5_col0\" class=\"data row5 col0\" >0.000000</td>\n",
       "    </tr>\n",
       "    <tr>\n",
       "      <th id=\"T_4ccea_level0_row6\" class=\"row_heading level0 row6\" >rougher.input.feed_size</th>\n",
       "      <td id=\"T_4ccea_row6_col0\" class=\"data row6 col0\" >1.000000</td>\n",
       "    </tr>\n",
       "    <tr>\n",
       "      <th id=\"T_4ccea_level0_row7\" class=\"row_heading level0 row7\" >rougher.input.floatbank10_sulfate</th>\n",
       "      <td id=\"T_4ccea_row7_col0\" class=\"data row7 col0\" >0.000000</td>\n",
       "    </tr>\n",
       "    <tr>\n",
       "      <th id=\"T_4ccea_level0_row8\" class=\"row_heading level0 row8\" >rougher.input.floatbank10_xanthate</th>\n",
       "      <td id=\"T_4ccea_row8_col0\" class=\"data row8 col0\" >0.000000</td>\n",
       "    </tr>\n",
       "    <tr>\n",
       "      <th id=\"T_4ccea_level0_row9\" class=\"row_heading level0 row9\" >rougher.state.floatbank10_a_air</th>\n",
       "      <td id=\"T_4ccea_row9_col0\" class=\"data row9 col0\" >0.000000</td>\n",
       "    </tr>\n",
       "    <tr>\n",
       "      <th id=\"T_4ccea_level0_row10\" class=\"row_heading level0 row10\" >rougher.state.floatbank10_a_level</th>\n",
       "      <td id=\"T_4ccea_row10_col0\" class=\"data row10 col0\" >0.000000</td>\n",
       "    </tr>\n",
       "    <tr>\n",
       "      <th id=\"T_4ccea_level0_row11\" class=\"row_heading level0 row11\" >rougher.state.floatbank10_b_air</th>\n",
       "      <td id=\"T_4ccea_row11_col0\" class=\"data row11 col0\" >0.000000</td>\n",
       "    </tr>\n",
       "    <tr>\n",
       "      <th id=\"T_4ccea_level0_row12\" class=\"row_heading level0 row12\" >rougher.state.floatbank10_b_level</th>\n",
       "      <td id=\"T_4ccea_row12_col0\" class=\"data row12 col0\" >0.000000</td>\n",
       "    </tr>\n",
       "    <tr>\n",
       "      <th id=\"T_4ccea_level0_row13\" class=\"row_heading level0 row13\" >rougher.state.floatbank10_c_air</th>\n",
       "      <td id=\"T_4ccea_row13_col0\" class=\"data row13 col0\" >0.000000</td>\n",
       "    </tr>\n",
       "    <tr>\n",
       "      <th id=\"T_4ccea_level0_row14\" class=\"row_heading level0 row14\" >rougher.state.floatbank10_c_level</th>\n",
       "      <td id=\"T_4ccea_row14_col0\" class=\"data row14 col0\" >0.000000</td>\n",
       "    </tr>\n",
       "    <tr>\n",
       "      <th id=\"T_4ccea_level0_row15\" class=\"row_heading level0 row15\" >rougher.state.floatbank10_d_air</th>\n",
       "      <td id=\"T_4ccea_row15_col0\" class=\"data row15 col0\" >0.000000</td>\n",
       "    </tr>\n",
       "    <tr>\n",
       "      <th id=\"T_4ccea_level0_row16\" class=\"row_heading level0 row16\" >rougher.state.floatbank10_d_level</th>\n",
       "      <td id=\"T_4ccea_row16_col0\" class=\"data row16 col0\" >0.000000</td>\n",
       "    </tr>\n",
       "    <tr>\n",
       "      <th id=\"T_4ccea_level0_row17\" class=\"row_heading level0 row17\" >rougher.state.floatbank10_e_air</th>\n",
       "      <td id=\"T_4ccea_row17_col0\" class=\"data row17 col0\" >2.000000</td>\n",
       "    </tr>\n",
       "    <tr>\n",
       "      <th id=\"T_4ccea_level0_row18\" class=\"row_heading level0 row18\" >rougher.state.floatbank10_e_level</th>\n",
       "      <td id=\"T_4ccea_row18_col0\" class=\"data row18 col0\" >0.000000</td>\n",
       "    </tr>\n",
       "    <tr>\n",
       "      <th id=\"T_4ccea_level0_row19\" class=\"row_heading level0 row19\" >rougher.state.floatbank10_f_air</th>\n",
       "      <td id=\"T_4ccea_row19_col0\" class=\"data row19 col0\" >0.000000</td>\n",
       "    </tr>\n",
       "    <tr>\n",
       "      <th id=\"T_4ccea_level0_row20\" class=\"row_heading level0 row20\" >rougher.state.floatbank10_f_level</th>\n",
       "      <td id=\"T_4ccea_row20_col0\" class=\"data row20 col0\" >0.000000</td>\n",
       "    </tr>\n",
       "    <tr>\n",
       "      <th id=\"T_4ccea_level0_row21\" class=\"row_heading level0 row21\" >rougher.input.floatbank11_sulfate</th>\n",
       "      <td id=\"T_4ccea_row21_col0\" class=\"data row21 col0\" >0.000000</td>\n",
       "    </tr>\n",
       "    <tr>\n",
       "      <th id=\"T_4ccea_level0_row22\" class=\"row_heading level0 row22\" >rougher.input.floatbank11_xanthate</th>\n",
       "      <td id=\"T_4ccea_row22_col0\" class=\"data row22 col0\" >2.000000</td>\n",
       "    </tr>\n",
       "    <tr>\n",
       "      <th id=\"T_4ccea_level0_row23\" class=\"row_heading level0 row23\" >rougher.calculation.sulfate_to_au_concentrate</th>\n",
       "      <td id=\"T_4ccea_row23_col0\" class=\"data row23 col0\" >0.000000</td>\n",
       "    </tr>\n",
       "    <tr>\n",
       "      <th id=\"T_4ccea_level0_row24\" class=\"row_heading level0 row24\" >rougher.calculation.floatbank10_sulfate_to_au_feed</th>\n",
       "      <td id=\"T_4ccea_row24_col0\" class=\"data row24 col0\" >0.000000</td>\n",
       "    </tr>\n",
       "    <tr>\n",
       "      <th id=\"T_4ccea_level0_row25\" class=\"row_heading level0 row25\" >rougher.calculation.floatbank11_sulfate_to_au_feed</th>\n",
       "      <td id=\"T_4ccea_row25_col0\" class=\"data row25 col0\" >0.000000</td>\n",
       "    </tr>\n",
       "    <tr>\n",
       "      <th id=\"T_4ccea_level0_row26\" class=\"row_heading level0 row26\" >rougher.calculation.au_pb_ratio</th>\n",
       "      <td id=\"T_4ccea_row26_col0\" class=\"data row26 col0\" >0.000000</td>\n",
       "    </tr>\n",
       "    <tr>\n",
       "      <th id=\"T_4ccea_level0_row27\" class=\"row_heading level0 row27\" >rougher.output.concentrate_au</th>\n",
       "      <td id=\"T_4ccea_row27_col0\" class=\"data row27 col0\" >0.000000</td>\n",
       "    </tr>\n",
       "    <tr>\n",
       "      <th id=\"T_4ccea_level0_row28\" class=\"row_heading level0 row28\" >rougher.output.concentrate_ag</th>\n",
       "      <td id=\"T_4ccea_row28_col0\" class=\"data row28 col0\" >0.000000</td>\n",
       "    </tr>\n",
       "    <tr>\n",
       "      <th id=\"T_4ccea_level0_row29\" class=\"row_heading level0 row29\" >rougher.output.concentrate_pb</th>\n",
       "      <td id=\"T_4ccea_row29_col0\" class=\"data row29 col0\" >0.000000</td>\n",
       "    </tr>\n",
       "    <tr>\n",
       "      <th id=\"T_4ccea_level0_row30\" class=\"row_heading level0 row30\" >rougher.output.concentrate_sol</th>\n",
       "      <td id=\"T_4ccea_row30_col0\" class=\"data row30 col0\" >0.000000</td>\n",
       "    </tr>\n",
       "    <tr>\n",
       "      <th id=\"T_4ccea_level0_row31\" class=\"row_heading level0 row31\" >rougher.output.recovery</th>\n",
       "      <td id=\"T_4ccea_row31_col0\" class=\"data row31 col0\" >0.000000</td>\n",
       "    </tr>\n",
       "    <tr>\n",
       "      <th id=\"T_4ccea_level0_row32\" class=\"row_heading level0 row32\" >rougher.output.tail_au</th>\n",
       "      <td id=\"T_4ccea_row32_col0\" class=\"data row32 col0\" >0.000000</td>\n",
       "    </tr>\n",
       "    <tr>\n",
       "      <th id=\"T_4ccea_level0_row33\" class=\"row_heading level0 row33\" >rougher.output.tail_ag</th>\n",
       "      <td id=\"T_4ccea_row33_col0\" class=\"data row33 col0\" >0.000000</td>\n",
       "    </tr>\n",
       "    <tr>\n",
       "      <th id=\"T_4ccea_level0_row34\" class=\"row_heading level0 row34\" >rougher.output.tail_pb</th>\n",
       "      <td id=\"T_4ccea_row34_col0\" class=\"data row34 col0\" >0.000000</td>\n",
       "    </tr>\n",
       "    <tr>\n",
       "      <th id=\"T_4ccea_level0_row35\" class=\"row_heading level0 row35\" >rougher.output.tail_sol</th>\n",
       "      <td id=\"T_4ccea_row35_col0\" class=\"data row35 col0\" >0.000000</td>\n",
       "    </tr>\n",
       "    <tr>\n",
       "      <th id=\"T_4ccea_level0_row36\" class=\"row_heading level0 row36\" >primary_cleaner.input.sulfate</th>\n",
       "      <td id=\"T_4ccea_row36_col0\" class=\"data row36 col0\" >0.000000</td>\n",
       "    </tr>\n",
       "    <tr>\n",
       "      <th id=\"T_4ccea_level0_row37\" class=\"row_heading level0 row37\" >primary_cleaner.input.depressant</th>\n",
       "      <td id=\"T_4ccea_row37_col0\" class=\"data row37 col0\" >0.000000</td>\n",
       "    </tr>\n",
       "    <tr>\n",
       "      <th id=\"T_4ccea_level0_row38\" class=\"row_heading level0 row38\" >primary_cleaner.input.feed_size</th>\n",
       "      <td id=\"T_4ccea_row38_col0\" class=\"data row38 col0\" >0.000000</td>\n",
       "    </tr>\n",
       "    <tr>\n",
       "      <th id=\"T_4ccea_level0_row39\" class=\"row_heading level0 row39\" >primary_cleaner.input.xanthate</th>\n",
       "      <td id=\"T_4ccea_row39_col0\" class=\"data row39 col0\" >1.000000</td>\n",
       "    </tr>\n",
       "    <tr>\n",
       "      <th id=\"T_4ccea_level0_row40\" class=\"row_heading level0 row40\" >primary_cleaner.state.floatbank8_a_air</th>\n",
       "      <td id=\"T_4ccea_row40_col0\" class=\"data row40 col0\" >0.000000</td>\n",
       "    </tr>\n",
       "    <tr>\n",
       "      <th id=\"T_4ccea_level0_row41\" class=\"row_heading level0 row41\" >primary_cleaner.state.floatbank8_a_level</th>\n",
       "      <td id=\"T_4ccea_row41_col0\" class=\"data row41 col0\" >0.000000</td>\n",
       "    </tr>\n",
       "    <tr>\n",
       "      <th id=\"T_4ccea_level0_row42\" class=\"row_heading level0 row42\" >primary_cleaner.state.floatbank8_b_air</th>\n",
       "      <td id=\"T_4ccea_row42_col0\" class=\"data row42 col0\" >0.000000</td>\n",
       "    </tr>\n",
       "    <tr>\n",
       "      <th id=\"T_4ccea_level0_row43\" class=\"row_heading level0 row43\" >primary_cleaner.state.floatbank8_b_level</th>\n",
       "      <td id=\"T_4ccea_row43_col0\" class=\"data row43 col0\" >0.000000</td>\n",
       "    </tr>\n",
       "    <tr>\n",
       "      <th id=\"T_4ccea_level0_row44\" class=\"row_heading level0 row44\" >primary_cleaner.state.floatbank8_c_air</th>\n",
       "      <td id=\"T_4ccea_row44_col0\" class=\"data row44 col0\" >0.000000</td>\n",
       "    </tr>\n",
       "    <tr>\n",
       "      <th id=\"T_4ccea_level0_row45\" class=\"row_heading level0 row45\" >primary_cleaner.state.floatbank8_c_level</th>\n",
       "      <td id=\"T_4ccea_row45_col0\" class=\"data row45 col0\" >0.000000</td>\n",
       "    </tr>\n",
       "    <tr>\n",
       "      <th id=\"T_4ccea_level0_row46\" class=\"row_heading level0 row46\" >primary_cleaner.state.floatbank8_d_air</th>\n",
       "      <td id=\"T_4ccea_row46_col0\" class=\"data row46 col0\" >0.000000</td>\n",
       "    </tr>\n",
       "    <tr>\n",
       "      <th id=\"T_4ccea_level0_row47\" class=\"row_heading level0 row47\" >primary_cleaner.state.floatbank8_d_level</th>\n",
       "      <td id=\"T_4ccea_row47_col0\" class=\"data row47 col0\" >0.000000</td>\n",
       "    </tr>\n",
       "    <tr>\n",
       "      <th id=\"T_4ccea_level0_row48\" class=\"row_heading level0 row48\" >primary_cleaner.output.concentrate_au</th>\n",
       "      <td id=\"T_4ccea_row48_col0\" class=\"data row48 col0\" >0.000000</td>\n",
       "    </tr>\n",
       "    <tr>\n",
       "      <th id=\"T_4ccea_level0_row49\" class=\"row_heading level0 row49\" >primary_cleaner.output.concentrate_ag</th>\n",
       "      <td id=\"T_4ccea_row49_col0\" class=\"data row49 col0\" >0.000000</td>\n",
       "    </tr>\n",
       "    <tr>\n",
       "      <th id=\"T_4ccea_level0_row50\" class=\"row_heading level0 row50\" >primary_cleaner.output.concentrate_pb</th>\n",
       "      <td id=\"T_4ccea_row50_col0\" class=\"data row50 col0\" >1.000000</td>\n",
       "    </tr>\n",
       "    <tr>\n",
       "      <th id=\"T_4ccea_level0_row51\" class=\"row_heading level0 row51\" >primary_cleaner.output.concentrate_sol</th>\n",
       "      <td id=\"T_4ccea_row51_col0\" class=\"data row51 col0\" >2.000000</td>\n",
       "    </tr>\n",
       "    <tr>\n",
       "      <th id=\"T_4ccea_level0_row52\" class=\"row_heading level0 row52\" >primary_cleaner.output.tail_au</th>\n",
       "      <td id=\"T_4ccea_row52_col0\" class=\"data row52 col0\" >0.000000</td>\n",
       "    </tr>\n",
       "    <tr>\n",
       "      <th id=\"T_4ccea_level0_row53\" class=\"row_heading level0 row53\" >primary_cleaner.output.tail_ag</th>\n",
       "      <td id=\"T_4ccea_row53_col0\" class=\"data row53 col0\" >0.000000</td>\n",
       "    </tr>\n",
       "    <tr>\n",
       "      <th id=\"T_4ccea_level0_row54\" class=\"row_heading level0 row54\" >primary_cleaner.output.tail_pb</th>\n",
       "      <td id=\"T_4ccea_row54_col0\" class=\"data row54 col0\" >0.000000</td>\n",
       "    </tr>\n",
       "    <tr>\n",
       "      <th id=\"T_4ccea_level0_row55\" class=\"row_heading level0 row55\" >primary_cleaner.output.tail_sol</th>\n",
       "      <td id=\"T_4ccea_row55_col0\" class=\"data row55 col0\" >0.000000</td>\n",
       "    </tr>\n",
       "    <tr>\n",
       "      <th id=\"T_4ccea_level0_row56\" class=\"row_heading level0 row56\" >secondary_cleaner.state.floatbank2_a_air</th>\n",
       "      <td id=\"T_4ccea_row56_col0\" class=\"data row56 col0\" >1.000000</td>\n",
       "    </tr>\n",
       "    <tr>\n",
       "      <th id=\"T_4ccea_level0_row57\" class=\"row_heading level0 row57\" >secondary_cleaner.state.floatbank2_a_level</th>\n",
       "      <td id=\"T_4ccea_row57_col0\" class=\"data row57 col0\" >0.000000</td>\n",
       "    </tr>\n",
       "    <tr>\n",
       "      <th id=\"T_4ccea_level0_row58\" class=\"row_heading level0 row58\" >secondary_cleaner.state.floatbank2_b_air</th>\n",
       "      <td id=\"T_4ccea_row58_col0\" class=\"data row58 col0\" >0.000000</td>\n",
       "    </tr>\n",
       "    <tr>\n",
       "      <th id=\"T_4ccea_level0_row59\" class=\"row_heading level0 row59\" >secondary_cleaner.state.floatbank2_b_level</th>\n",
       "      <td id=\"T_4ccea_row59_col0\" class=\"data row59 col0\" >0.000000</td>\n",
       "    </tr>\n",
       "    <tr>\n",
       "      <th id=\"T_4ccea_level0_row60\" class=\"row_heading level0 row60\" >secondary_cleaner.state.floatbank3_a_air</th>\n",
       "      <td id=\"T_4ccea_row60_col0\" class=\"data row60 col0\" >0.000000</td>\n",
       "    </tr>\n",
       "    <tr>\n",
       "      <th id=\"T_4ccea_level0_row61\" class=\"row_heading level0 row61\" >secondary_cleaner.state.floatbank3_a_level</th>\n",
       "      <td id=\"T_4ccea_row61_col0\" class=\"data row61 col0\" >0.000000</td>\n",
       "    </tr>\n",
       "    <tr>\n",
       "      <th id=\"T_4ccea_level0_row62\" class=\"row_heading level0 row62\" >secondary_cleaner.state.floatbank3_b_air</th>\n",
       "      <td id=\"T_4ccea_row62_col0\" class=\"data row62 col0\" >0.000000</td>\n",
       "    </tr>\n",
       "    <tr>\n",
       "      <th id=\"T_4ccea_level0_row63\" class=\"row_heading level0 row63\" >secondary_cleaner.state.floatbank3_b_level</th>\n",
       "      <td id=\"T_4ccea_row63_col0\" class=\"data row63 col0\" >0.000000</td>\n",
       "    </tr>\n",
       "    <tr>\n",
       "      <th id=\"T_4ccea_level0_row64\" class=\"row_heading level0 row64\" >secondary_cleaner.state.floatbank4_a_air</th>\n",
       "      <td id=\"T_4ccea_row64_col0\" class=\"data row64 col0\" >0.000000</td>\n",
       "    </tr>\n",
       "    <tr>\n",
       "      <th id=\"T_4ccea_level0_row65\" class=\"row_heading level0 row65\" >secondary_cleaner.state.floatbank4_a_level</th>\n",
       "      <td id=\"T_4ccea_row65_col0\" class=\"data row65 col0\" >0.000000</td>\n",
       "    </tr>\n",
       "    <tr>\n",
       "      <th id=\"T_4ccea_level0_row66\" class=\"row_heading level0 row66\" >secondary_cleaner.state.floatbank4_b_air</th>\n",
       "      <td id=\"T_4ccea_row66_col0\" class=\"data row66 col0\" >0.000000</td>\n",
       "    </tr>\n",
       "    <tr>\n",
       "      <th id=\"T_4ccea_level0_row67\" class=\"row_heading level0 row67\" >secondary_cleaner.state.floatbank4_b_level</th>\n",
       "      <td id=\"T_4ccea_row67_col0\" class=\"data row67 col0\" >0.000000</td>\n",
       "    </tr>\n",
       "    <tr>\n",
       "      <th id=\"T_4ccea_level0_row68\" class=\"row_heading level0 row68\" >secondary_cleaner.state.floatbank5_a_air</th>\n",
       "      <td id=\"T_4ccea_row68_col0\" class=\"data row68 col0\" >0.000000</td>\n",
       "    </tr>\n",
       "    <tr>\n",
       "      <th id=\"T_4ccea_level0_row69\" class=\"row_heading level0 row69\" >secondary_cleaner.state.floatbank5_a_level</th>\n",
       "      <td id=\"T_4ccea_row69_col0\" class=\"data row69 col0\" >0.000000</td>\n",
       "    </tr>\n",
       "    <tr>\n",
       "      <th id=\"T_4ccea_level0_row70\" class=\"row_heading level0 row70\" >secondary_cleaner.state.floatbank5_b_air</th>\n",
       "      <td id=\"T_4ccea_row70_col0\" class=\"data row70 col0\" >0.000000</td>\n",
       "    </tr>\n",
       "    <tr>\n",
       "      <th id=\"T_4ccea_level0_row71\" class=\"row_heading level0 row71\" >secondary_cleaner.state.floatbank5_b_level</th>\n",
       "      <td id=\"T_4ccea_row71_col0\" class=\"data row71 col0\" >0.000000</td>\n",
       "    </tr>\n",
       "    <tr>\n",
       "      <th id=\"T_4ccea_level0_row72\" class=\"row_heading level0 row72\" >secondary_cleaner.state.floatbank6_a_air</th>\n",
       "      <td id=\"T_4ccea_row72_col0\" class=\"data row72 col0\" >0.000000</td>\n",
       "    </tr>\n",
       "    <tr>\n",
       "      <th id=\"T_4ccea_level0_row73\" class=\"row_heading level0 row73\" >secondary_cleaner.state.floatbank6_a_level</th>\n",
       "      <td id=\"T_4ccea_row73_col0\" class=\"data row73 col0\" >0.000000</td>\n",
       "    </tr>\n",
       "    <tr>\n",
       "      <th id=\"T_4ccea_level0_row74\" class=\"row_heading level0 row74\" >secondary_cleaner.output.tail_au</th>\n",
       "      <td id=\"T_4ccea_row74_col0\" class=\"data row74 col0\" >0.000000</td>\n",
       "    </tr>\n",
       "    <tr>\n",
       "      <th id=\"T_4ccea_level0_row75\" class=\"row_heading level0 row75\" >secondary_cleaner.output.tail_ag</th>\n",
       "      <td id=\"T_4ccea_row75_col0\" class=\"data row75 col0\" >0.000000</td>\n",
       "    </tr>\n",
       "    <tr>\n",
       "      <th id=\"T_4ccea_level0_row76\" class=\"row_heading level0 row76\" >secondary_cleaner.output.tail_pb</th>\n",
       "      <td id=\"T_4ccea_row76_col0\" class=\"data row76 col0\" >0.000000</td>\n",
       "    </tr>\n",
       "    <tr>\n",
       "      <th id=\"T_4ccea_level0_row77\" class=\"row_heading level0 row77\" >secondary_cleaner.output.tail_sol</th>\n",
       "      <td id=\"T_4ccea_row77_col0\" class=\"data row77 col0\" >9.000000</td>\n",
       "    </tr>\n",
       "    <tr>\n",
       "      <th id=\"T_4ccea_level0_row78\" class=\"row_heading level0 row78\" >final.output.concentrate_au</th>\n",
       "      <td id=\"T_4ccea_row78_col0\" class=\"data row78 col0\" >0.000000</td>\n",
       "    </tr>\n",
       "    <tr>\n",
       "      <th id=\"T_4ccea_level0_row79\" class=\"row_heading level0 row79\" >final.output.concentrate_ag</th>\n",
       "      <td id=\"T_4ccea_row79_col0\" class=\"data row79 col0\" >0.000000</td>\n",
       "    </tr>\n",
       "    <tr>\n",
       "      <th id=\"T_4ccea_level0_row80\" class=\"row_heading level0 row80\" >final.output.concentrate_pb</th>\n",
       "      <td id=\"T_4ccea_row80_col0\" class=\"data row80 col0\" >0.000000</td>\n",
       "    </tr>\n",
       "    <tr>\n",
       "      <th id=\"T_4ccea_level0_row81\" class=\"row_heading level0 row81\" >final.output.concentrate_sol</th>\n",
       "      <td id=\"T_4ccea_row81_col0\" class=\"data row81 col0\" >1.000000</td>\n",
       "    </tr>\n",
       "    <tr>\n",
       "      <th id=\"T_4ccea_level0_row82\" class=\"row_heading level0 row82\" >final.output.recovery</th>\n",
       "      <td id=\"T_4ccea_row82_col0\" class=\"data row82 col0\" >0.000000</td>\n",
       "    </tr>\n",
       "    <tr>\n",
       "      <th id=\"T_4ccea_level0_row83\" class=\"row_heading level0 row83\" >final.output.tail_au</th>\n",
       "      <td id=\"T_4ccea_row83_col0\" class=\"data row83 col0\" >0.000000</td>\n",
       "    </tr>\n",
       "    <tr>\n",
       "      <th id=\"T_4ccea_level0_row84\" class=\"row_heading level0 row84\" >final.output.tail_ag</th>\n",
       "      <td id=\"T_4ccea_row84_col0\" class=\"data row84 col0\" >0.000000</td>\n",
       "    </tr>\n",
       "    <tr>\n",
       "      <th id=\"T_4ccea_level0_row85\" class=\"row_heading level0 row85\" >final.output.tail_pb</th>\n",
       "      <td id=\"T_4ccea_row85_col0\" class=\"data row85 col0\" >1.000000</td>\n",
       "    </tr>\n",
       "    <tr>\n",
       "      <th id=\"T_4ccea_level0_row86\" class=\"row_heading level0 row86\" >final.output.tail_sol</th>\n",
       "      <td id=\"T_4ccea_row86_col0\" class=\"data row86 col0\" >0.000000</td>\n",
       "    </tr>\n",
       "  </tbody>\n",
       "</table>\n"
      ],
      "text/plain": [
       "<pandas.io.formats.style.Styler at 0x7f997a6a0970>"
      ]
     },
     "metadata": {},
     "output_type": "display_data"
    },
    {
     "name": "stdout",
     "output_type": "stream",
     "text": [
      "\n",
      "(19439, 87)\n"
     ]
    }
   ],
   "source": [
    "check(data_full)"
   ]
  },
  {
   "cell_type": "code",
   "execution_count": 14,
   "metadata": {},
   "outputs": [
    {
     "name": "stdout",
     "output_type": "stream",
     "text": [
      "Описание:\n",
      "       rougher.input.feed_au  rougher.input.feed_ag  rougher.input.feed_pb  \\\n",
      "count           14579.000000           14579.000000           14507.000000   \n",
      "mean                8.352941               8.877460               3.604221   \n",
      "std                 1.934376               1.922536               1.056063   \n",
      "min                 0.010000               0.010000               0.010000   \n",
      "25%                 6.932996               7.341922               2.880490   \n",
      "50%                 8.225284               8.715859               3.532399   \n",
      "75%                 9.832210              10.255843               4.257282   \n",
      "max                13.731330              14.596026               7.052325   \n",
      "\n",
      "       rougher.input.feed_sol  rougher.input.feed_rate  \\\n",
      "count            14502.000000             14572.000000   \n",
      "mean                36.561420               474.332784   \n",
      "std                  5.209823               108.503552   \n",
      "min                  0.010000                 0.002986   \n",
      "25%                 34.093951               411.048483   \n",
      "50%                 37.097511               498.187968   \n",
      "75%                 39.899799               549.586552   \n",
      "max                 53.475325               717.508837   \n",
      "\n",
      "       rougher.input.feed_size  rougher.input.floatbank10_sulfate  \\\n",
      "count             14478.000000                       14548.000000   \n",
      "mean                 58.922712                          12.427399   \n",
      "std                  22.407410                           3.428939   \n",
      "min                   0.049194                           0.001083   \n",
      "25%                  47.278490                          10.002832   \n",
      "50%                  54.361187                          12.003320   \n",
      "75%                  64.464926                          14.929903   \n",
      "max                 484.967466                          36.118275   \n",
      "\n",
      "       rougher.input.floatbank10_xanthate  rougher.state.floatbank10_a_air  \\\n",
      "count                        14572.000000                     14579.000000   \n",
      "mean                             5.994854                      1104.208278   \n",
      "std                              1.152873                       162.235606   \n",
      "min                              0.000568                        -0.042069   \n",
      "25%                              5.304167                       999.644856   \n",
      "50%                              6.003053                      1000.982624   \n",
      "75%                              6.796632                      1292.663971   \n",
      "max                              9.703448                      1512.299531   \n",
      "\n",
      "       rougher.state.floatbank10_a_level  ...  \\\n",
      "count                       14579.000000  ...   \n",
      "mean                         -379.367166  ...   \n",
      "std                            94.652311  ...   \n",
      "min                          -657.949759  ...   \n",
      "25%                          -499.861797  ...   \n",
      "50%                          -300.314199  ...   \n",
      "75%                          -299.989315  ...   \n",
      "max                          -273.776101  ...   \n",
      "\n",
      "       secondary_cleaner.output.tail_sol  final.output.concentrate_au  \\\n",
      "count                       13659.000000                 14579.000000   \n",
      "mean                            7.111347                    43.979499   \n",
      "std                             3.909951                     5.471437   \n",
      "min                             0.000000                     0.000000   \n",
      "25%                             3.784897                    43.345906   \n",
      "50%                             7.629968                    44.975014   \n",
      "75%                            10.367050                    46.275153   \n",
      "max                            26.000772                    52.756638   \n",
      "\n",
      "       final.output.concentrate_ag  final.output.concentrate_pb  \\\n",
      "count                 14578.000000                 14578.000000   \n",
      "mean                      5.192145                     9.923809   \n",
      "std                       1.388014                     1.706976   \n",
      "min                       0.000000                     0.000000   \n",
      "25%                       4.283347                     9.103183   \n",
      "50%                       5.118647                    10.046455   \n",
      "75%                       5.925380                    10.981203   \n",
      "max                      16.001945                    16.705297   \n",
      "\n",
      "       final.output.concentrate_sol  final.output.recovery  \\\n",
      "count                  14387.000000           14579.000000   \n",
      "mean                       9.566676              66.759066   \n",
      "std                        2.805654              10.619709   \n",
      "min                        0.000000               0.000000   \n",
      "25%                        7.860030              63.114596   \n",
      "50%                        9.301970              67.962788   \n",
      "75%                       11.001573              72.598187   \n",
      "max                       19.423912             100.000000   \n",
      "\n",
      "       final.output.tail_au  final.output.tail_ag  final.output.tail_pb  \\\n",
      "count          14579.000000          14578.000000          14504.000000   \n",
      "mean               3.087939              9.731972              2.719985   \n",
      "std                0.915187              2.358143              0.958929   \n",
      "min                0.000000              0.000000              0.000000   \n",
      "25%                2.505287              8.088928              2.036512   \n",
      "50%                3.029238              9.818512              2.774847   \n",
      "75%                3.614098             11.169187              3.353845   \n",
      "max                8.245022             19.552149              5.804178   \n",
      "\n",
      "       final.output.tail_sol  \n",
      "count           14574.000000  \n",
      "mean               10.612745  \n",
      "std                 2.871075  \n",
      "min                 0.000000  \n",
      "25%                 9.013412  \n",
      "50%                10.670515  \n",
      "75%                12.130827  \n",
      "max                22.317730  \n",
      "\n",
      "[8 rows x 86 columns]\n",
      "\n",
      "<class 'pandas.core.frame.DataFrame'>\n",
      "RangeIndex: 14579 entries, 0 to 14578\n",
      "Data columns (total 87 columns):\n",
      " #   Column                                              Non-Null Count  Dtype  \n",
      "---  ------                                              --------------  -----  \n",
      " 0   date                                                14579 non-null  object \n",
      " 1   rougher.input.feed_au                               14579 non-null  float64\n",
      " 2   rougher.input.feed_ag                               14579 non-null  float64\n",
      " 3   rougher.input.feed_pb                               14507 non-null  float64\n",
      " 4   rougher.input.feed_sol                              14502 non-null  float64\n",
      " 5   rougher.input.feed_rate                             14572 non-null  float64\n",
      " 6   rougher.input.feed_size                             14478 non-null  float64\n",
      " 7   rougher.input.floatbank10_sulfate                   14548 non-null  float64\n",
      " 8   rougher.input.floatbank10_xanthate                  14572 non-null  float64\n",
      " 9   rougher.state.floatbank10_a_air                     14579 non-null  float64\n",
      " 10  rougher.state.floatbank10_a_level                   14579 non-null  float64\n",
      " 11  rougher.state.floatbank10_b_air                     14579 non-null  float64\n",
      " 12  rougher.state.floatbank10_b_level                   14579 non-null  float64\n",
      " 13  rougher.state.floatbank10_c_air                     14579 non-null  float64\n",
      " 14  rougher.state.floatbank10_c_level                   14579 non-null  float64\n",
      " 15  rougher.state.floatbank10_d_air                     14579 non-null  float64\n",
      " 16  rougher.state.floatbank10_d_level                   14579 non-null  float64\n",
      " 17  rougher.state.floatbank10_e_air                     14150 non-null  float64\n",
      " 18  rougher.state.floatbank10_e_level                   14579 non-null  float64\n",
      " 19  rougher.state.floatbank10_f_air                     14579 non-null  float64\n",
      " 20  rougher.state.floatbank10_f_level                   14579 non-null  float64\n",
      " 21  rougher.input.floatbank11_sulfate                   14543 non-null  float64\n",
      " 22  rougher.input.floatbank11_xanthate                  14172 non-null  float64\n",
      " 23  rougher.calculation.sulfate_to_au_concentrate       14578 non-null  float64\n",
      " 24  rougher.calculation.floatbank10_sulfate_to_au_feed  14578 non-null  float64\n",
      " 25  rougher.calculation.floatbank11_sulfate_to_au_feed  14578 non-null  float64\n",
      " 26  rougher.calculation.au_pb_ratio                     14579 non-null  float64\n",
      " 27  rougher.output.concentrate_au                       14579 non-null  float64\n",
      " 28  rougher.output.concentrate_ag                       14579 non-null  float64\n",
      " 29  rougher.output.concentrate_pb                       14579 non-null  float64\n",
      " 30  rougher.output.concentrate_sol                      14561 non-null  float64\n",
      " 31  rougher.output.recovery                             14579 non-null  float64\n",
      " 32  rougher.output.tail_au                              14579 non-null  float64\n",
      " 33  rougher.output.tail_ag                              14578 non-null  float64\n",
      " 34  rougher.output.tail_pb                              14579 non-null  float64\n",
      " 35  rougher.output.tail_sol                             14579 non-null  float64\n",
      " 36  primary_cleaner.input.sulfate                       14556 non-null  float64\n",
      " 37  primary_cleaner.input.depressant                    14551 non-null  float64\n",
      " 38  primary_cleaner.input.feed_size                     14579 non-null  float64\n",
      " 39  primary_cleaner.input.xanthate                      14518 non-null  float64\n",
      " 40  primary_cleaner.state.floatbank8_a_air              14576 non-null  float64\n",
      " 41  primary_cleaner.state.floatbank8_a_level            14579 non-null  float64\n",
      " 42  primary_cleaner.state.floatbank8_b_air              14576 non-null  float64\n",
      " 43  primary_cleaner.state.floatbank8_b_level            14579 non-null  float64\n",
      " 44  primary_cleaner.state.floatbank8_c_air              14579 non-null  float64\n",
      " 45  primary_cleaner.state.floatbank8_c_level            14579 non-null  float64\n",
      " 46  primary_cleaner.state.floatbank8_d_air              14578 non-null  float64\n",
      " 47  primary_cleaner.state.floatbank8_d_level            14579 non-null  float64\n",
      " 48  primary_cleaner.output.concentrate_au               14579 non-null  float64\n",
      " 49  primary_cleaner.output.concentrate_ag               14579 non-null  float64\n",
      " 50  primary_cleaner.output.concentrate_pb               14491 non-null  float64\n",
      " 51  primary_cleaner.output.concentrate_sol              14314 non-null  float64\n",
      " 52  primary_cleaner.output.tail_au                      14579 non-null  float64\n",
      " 53  primary_cleaner.output.tail_ag                      14575 non-null  float64\n",
      " 54  primary_cleaner.output.tail_pb                      14573 non-null  float64\n",
      " 55  primary_cleaner.output.tail_sol                     14534 non-null  float64\n",
      " 56  secondary_cleaner.state.floatbank2_a_air            14485 non-null  float64\n",
      " 57  secondary_cleaner.state.floatbank2_a_level          14579 non-null  float64\n",
      " 58  secondary_cleaner.state.floatbank2_b_air            14557 non-null  float64\n",
      " 59  secondary_cleaner.state.floatbank2_b_level          14579 non-null  float64\n",
      " 60  secondary_cleaner.state.floatbank3_a_air            14567 non-null  float64\n",
      " 61  secondary_cleaner.state.floatbank3_a_level          14579 non-null  float64\n",
      " 62  secondary_cleaner.state.floatbank3_b_air            14579 non-null  float64\n",
      " 63  secondary_cleaner.state.floatbank3_b_level          14579 non-null  float64\n",
      " 64  secondary_cleaner.state.floatbank4_a_air            14574 non-null  float64\n",
      " 65  secondary_cleaner.state.floatbank4_a_level          14579 non-null  float64\n",
      " 66  secondary_cleaner.state.floatbank4_b_air            14579 non-null  float64\n",
      " 67  secondary_cleaner.state.floatbank4_b_level          14579 non-null  float64\n",
      " 68  secondary_cleaner.state.floatbank5_a_air            14579 non-null  float64\n",
      " 69  secondary_cleaner.state.floatbank5_a_level          14579 non-null  float64\n",
      " 70  secondary_cleaner.state.floatbank5_b_air            14579 non-null  float64\n",
      " 71  secondary_cleaner.state.floatbank5_b_level          14579 non-null  float64\n",
      " 72  secondary_cleaner.state.floatbank6_a_air            14578 non-null  float64\n",
      " 73  secondary_cleaner.state.floatbank6_a_level          14579 non-null  float64\n",
      " 74  secondary_cleaner.output.tail_au                    14579 non-null  float64\n",
      " 75  secondary_cleaner.output.tail_ag                    14578 non-null  float64\n",
      " 76  secondary_cleaner.output.tail_pb                    14575 non-null  float64\n",
      " 77  secondary_cleaner.output.tail_sol                   13659 non-null  float64\n",
      " 78  final.output.concentrate_au                         14579 non-null  float64\n",
      " 79  final.output.concentrate_ag                         14578 non-null  float64\n",
      " 80  final.output.concentrate_pb                         14578 non-null  float64\n",
      " 81  final.output.concentrate_sol                        14387 non-null  float64\n",
      " 82  final.output.recovery                               14579 non-null  float64\n",
      " 83  final.output.tail_au                                14579 non-null  float64\n",
      " 84  final.output.tail_ag                                14578 non-null  float64\n",
      " 85  final.output.tail_pb                                14504 non-null  float64\n",
      " 86  final.output.tail_sol                               14574 non-null  float64\n",
      "dtypes: float64(86), object(1)\n",
      "memory usage: 9.7+ MB\n",
      "None\n",
      "\n",
      "Дубликатов:\n"
     ]
    },
    {
     "name": "stdout",
     "output_type": "stream",
     "text": [
      "0\n",
      "\n",
      "Пропусков:\n"
     ]
    },
    {
     "data": {
      "text/html": [
       "<style type=\"text/css\">\n",
       "#T_c513b_row0_col0, #T_c513b_row1_col0, #T_c513b_row2_col0, #T_c513b_row3_col0, #T_c513b_row5_col0, #T_c513b_row7_col0, #T_c513b_row8_col0, #T_c513b_row9_col0, #T_c513b_row10_col0, #T_c513b_row11_col0, #T_c513b_row12_col0, #T_c513b_row13_col0, #T_c513b_row14_col0, #T_c513b_row15_col0, #T_c513b_row16_col0, #T_c513b_row18_col0, #T_c513b_row19_col0, #T_c513b_row20_col0, #T_c513b_row21_col0, #T_c513b_row23_col0, #T_c513b_row24_col0, #T_c513b_row25_col0, #T_c513b_row26_col0, #T_c513b_row27_col0, #T_c513b_row28_col0, #T_c513b_row29_col0, #T_c513b_row30_col0, #T_c513b_row31_col0, #T_c513b_row32_col0, #T_c513b_row33_col0, #T_c513b_row34_col0, #T_c513b_row35_col0, #T_c513b_row36_col0, #T_c513b_row37_col0, #T_c513b_row38_col0, #T_c513b_row39_col0, #T_c513b_row40_col0, #T_c513b_row41_col0, #T_c513b_row42_col0, #T_c513b_row43_col0, #T_c513b_row44_col0, #T_c513b_row45_col0, #T_c513b_row46_col0, #T_c513b_row47_col0, #T_c513b_row48_col0, #T_c513b_row49_col0, #T_c513b_row52_col0, #T_c513b_row53_col0, #T_c513b_row54_col0, #T_c513b_row55_col0, #T_c513b_row57_col0, #T_c513b_row58_col0, #T_c513b_row59_col0, #T_c513b_row60_col0, #T_c513b_row61_col0, #T_c513b_row62_col0, #T_c513b_row63_col0, #T_c513b_row64_col0, #T_c513b_row65_col0, #T_c513b_row66_col0, #T_c513b_row67_col0, #T_c513b_row68_col0, #T_c513b_row69_col0, #T_c513b_row70_col0, #T_c513b_row71_col0, #T_c513b_row72_col0, #T_c513b_row73_col0, #T_c513b_row74_col0, #T_c513b_row75_col0, #T_c513b_row76_col0, #T_c513b_row78_col0, #T_c513b_row79_col0, #T_c513b_row80_col0, #T_c513b_row82_col0, #T_c513b_row83_col0, #T_c513b_row84_col0, #T_c513b_row86_col0 {\n",
       "  background-color: #3b4cc0;\n",
       "  color: #f1f1f1;\n",
       "}\n",
       "#T_c513b_row4_col0, #T_c513b_row6_col0, #T_c513b_row50_col0, #T_c513b_row56_col0, #T_c513b_row81_col0, #T_c513b_row85_col0 {\n",
       "  background-color: #6f92f3;\n",
       "  color: #f1f1f1;\n",
       "}\n",
       "#T_c513b_row17_col0, #T_c513b_row22_col0 {\n",
       "  background-color: #dddcdc;\n",
       "  color: #000000;\n",
       "}\n",
       "#T_c513b_row51_col0 {\n",
       "  background-color: #aac7fd;\n",
       "  color: #000000;\n",
       "}\n",
       "#T_c513b_row77_col0 {\n",
       "  background-color: #b40426;\n",
       "  color: #f1f1f1;\n",
       "}\n",
       "</style>\n",
       "<table id=\"T_c513b\">\n",
       "  <thead>\n",
       "    <tr>\n",
       "      <th class=\"blank level0\" >&nbsp;</th>\n",
       "      <th id=\"T_c513b_level0_col0\" class=\"col_heading level0 col0\" >0</th>\n",
       "    </tr>\n",
       "  </thead>\n",
       "  <tbody>\n",
       "    <tr>\n",
       "      <th id=\"T_c513b_level0_row0\" class=\"row_heading level0 row0\" >date</th>\n",
       "      <td id=\"T_c513b_row0_col0\" class=\"data row0 col0\" >0.000000</td>\n",
       "    </tr>\n",
       "    <tr>\n",
       "      <th id=\"T_c513b_level0_row1\" class=\"row_heading level0 row1\" >rougher.input.feed_au</th>\n",
       "      <td id=\"T_c513b_row1_col0\" class=\"data row1 col0\" >0.000000</td>\n",
       "    </tr>\n",
       "    <tr>\n",
       "      <th id=\"T_c513b_level0_row2\" class=\"row_heading level0 row2\" >rougher.input.feed_ag</th>\n",
       "      <td id=\"T_c513b_row2_col0\" class=\"data row2 col0\" >0.000000</td>\n",
       "    </tr>\n",
       "    <tr>\n",
       "      <th id=\"T_c513b_level0_row3\" class=\"row_heading level0 row3\" >rougher.input.feed_pb</th>\n",
       "      <td id=\"T_c513b_row3_col0\" class=\"data row3 col0\" >0.000000</td>\n",
       "    </tr>\n",
       "    <tr>\n",
       "      <th id=\"T_c513b_level0_row4\" class=\"row_heading level0 row4\" >rougher.input.feed_sol</th>\n",
       "      <td id=\"T_c513b_row4_col0\" class=\"data row4 col0\" >1.000000</td>\n",
       "    </tr>\n",
       "    <tr>\n",
       "      <th id=\"T_c513b_level0_row5\" class=\"row_heading level0 row5\" >rougher.input.feed_rate</th>\n",
       "      <td id=\"T_c513b_row5_col0\" class=\"data row5 col0\" >0.000000</td>\n",
       "    </tr>\n",
       "    <tr>\n",
       "      <th id=\"T_c513b_level0_row6\" class=\"row_heading level0 row6\" >rougher.input.feed_size</th>\n",
       "      <td id=\"T_c513b_row6_col0\" class=\"data row6 col0\" >1.000000</td>\n",
       "    </tr>\n",
       "    <tr>\n",
       "      <th id=\"T_c513b_level0_row7\" class=\"row_heading level0 row7\" >rougher.input.floatbank10_sulfate</th>\n",
       "      <td id=\"T_c513b_row7_col0\" class=\"data row7 col0\" >0.000000</td>\n",
       "    </tr>\n",
       "    <tr>\n",
       "      <th id=\"T_c513b_level0_row8\" class=\"row_heading level0 row8\" >rougher.input.floatbank10_xanthate</th>\n",
       "      <td id=\"T_c513b_row8_col0\" class=\"data row8 col0\" >0.000000</td>\n",
       "    </tr>\n",
       "    <tr>\n",
       "      <th id=\"T_c513b_level0_row9\" class=\"row_heading level0 row9\" >rougher.state.floatbank10_a_air</th>\n",
       "      <td id=\"T_c513b_row9_col0\" class=\"data row9 col0\" >0.000000</td>\n",
       "    </tr>\n",
       "    <tr>\n",
       "      <th id=\"T_c513b_level0_row10\" class=\"row_heading level0 row10\" >rougher.state.floatbank10_a_level</th>\n",
       "      <td id=\"T_c513b_row10_col0\" class=\"data row10 col0\" >0.000000</td>\n",
       "    </tr>\n",
       "    <tr>\n",
       "      <th id=\"T_c513b_level0_row11\" class=\"row_heading level0 row11\" >rougher.state.floatbank10_b_air</th>\n",
       "      <td id=\"T_c513b_row11_col0\" class=\"data row11 col0\" >0.000000</td>\n",
       "    </tr>\n",
       "    <tr>\n",
       "      <th id=\"T_c513b_level0_row12\" class=\"row_heading level0 row12\" >rougher.state.floatbank10_b_level</th>\n",
       "      <td id=\"T_c513b_row12_col0\" class=\"data row12 col0\" >0.000000</td>\n",
       "    </tr>\n",
       "    <tr>\n",
       "      <th id=\"T_c513b_level0_row13\" class=\"row_heading level0 row13\" >rougher.state.floatbank10_c_air</th>\n",
       "      <td id=\"T_c513b_row13_col0\" class=\"data row13 col0\" >0.000000</td>\n",
       "    </tr>\n",
       "    <tr>\n",
       "      <th id=\"T_c513b_level0_row14\" class=\"row_heading level0 row14\" >rougher.state.floatbank10_c_level</th>\n",
       "      <td id=\"T_c513b_row14_col0\" class=\"data row14 col0\" >0.000000</td>\n",
       "    </tr>\n",
       "    <tr>\n",
       "      <th id=\"T_c513b_level0_row15\" class=\"row_heading level0 row15\" >rougher.state.floatbank10_d_air</th>\n",
       "      <td id=\"T_c513b_row15_col0\" class=\"data row15 col0\" >0.000000</td>\n",
       "    </tr>\n",
       "    <tr>\n",
       "      <th id=\"T_c513b_level0_row16\" class=\"row_heading level0 row16\" >rougher.state.floatbank10_d_level</th>\n",
       "      <td id=\"T_c513b_row16_col0\" class=\"data row16 col0\" >0.000000</td>\n",
       "    </tr>\n",
       "    <tr>\n",
       "      <th id=\"T_c513b_level0_row17\" class=\"row_heading level0 row17\" >rougher.state.floatbank10_e_air</th>\n",
       "      <td id=\"T_c513b_row17_col0\" class=\"data row17 col0\" >3.000000</td>\n",
       "    </tr>\n",
       "    <tr>\n",
       "      <th id=\"T_c513b_level0_row18\" class=\"row_heading level0 row18\" >rougher.state.floatbank10_e_level</th>\n",
       "      <td id=\"T_c513b_row18_col0\" class=\"data row18 col0\" >0.000000</td>\n",
       "    </tr>\n",
       "    <tr>\n",
       "      <th id=\"T_c513b_level0_row19\" class=\"row_heading level0 row19\" >rougher.state.floatbank10_f_air</th>\n",
       "      <td id=\"T_c513b_row19_col0\" class=\"data row19 col0\" >0.000000</td>\n",
       "    </tr>\n",
       "    <tr>\n",
       "      <th id=\"T_c513b_level0_row20\" class=\"row_heading level0 row20\" >rougher.state.floatbank10_f_level</th>\n",
       "      <td id=\"T_c513b_row20_col0\" class=\"data row20 col0\" >0.000000</td>\n",
       "    </tr>\n",
       "    <tr>\n",
       "      <th id=\"T_c513b_level0_row21\" class=\"row_heading level0 row21\" >rougher.input.floatbank11_sulfate</th>\n",
       "      <td id=\"T_c513b_row21_col0\" class=\"data row21 col0\" >0.000000</td>\n",
       "    </tr>\n",
       "    <tr>\n",
       "      <th id=\"T_c513b_level0_row22\" class=\"row_heading level0 row22\" >rougher.input.floatbank11_xanthate</th>\n",
       "      <td id=\"T_c513b_row22_col0\" class=\"data row22 col0\" >3.000000</td>\n",
       "    </tr>\n",
       "    <tr>\n",
       "      <th id=\"T_c513b_level0_row23\" class=\"row_heading level0 row23\" >rougher.calculation.sulfate_to_au_concentrate</th>\n",
       "      <td id=\"T_c513b_row23_col0\" class=\"data row23 col0\" >0.000000</td>\n",
       "    </tr>\n",
       "    <tr>\n",
       "      <th id=\"T_c513b_level0_row24\" class=\"row_heading level0 row24\" >rougher.calculation.floatbank10_sulfate_to_au_feed</th>\n",
       "      <td id=\"T_c513b_row24_col0\" class=\"data row24 col0\" >0.000000</td>\n",
       "    </tr>\n",
       "    <tr>\n",
       "      <th id=\"T_c513b_level0_row25\" class=\"row_heading level0 row25\" >rougher.calculation.floatbank11_sulfate_to_au_feed</th>\n",
       "      <td id=\"T_c513b_row25_col0\" class=\"data row25 col0\" >0.000000</td>\n",
       "    </tr>\n",
       "    <tr>\n",
       "      <th id=\"T_c513b_level0_row26\" class=\"row_heading level0 row26\" >rougher.calculation.au_pb_ratio</th>\n",
       "      <td id=\"T_c513b_row26_col0\" class=\"data row26 col0\" >0.000000</td>\n",
       "    </tr>\n",
       "    <tr>\n",
       "      <th id=\"T_c513b_level0_row27\" class=\"row_heading level0 row27\" >rougher.output.concentrate_au</th>\n",
       "      <td id=\"T_c513b_row27_col0\" class=\"data row27 col0\" >0.000000</td>\n",
       "    </tr>\n",
       "    <tr>\n",
       "      <th id=\"T_c513b_level0_row28\" class=\"row_heading level0 row28\" >rougher.output.concentrate_ag</th>\n",
       "      <td id=\"T_c513b_row28_col0\" class=\"data row28 col0\" >0.000000</td>\n",
       "    </tr>\n",
       "    <tr>\n",
       "      <th id=\"T_c513b_level0_row29\" class=\"row_heading level0 row29\" >rougher.output.concentrate_pb</th>\n",
       "      <td id=\"T_c513b_row29_col0\" class=\"data row29 col0\" >0.000000</td>\n",
       "    </tr>\n",
       "    <tr>\n",
       "      <th id=\"T_c513b_level0_row30\" class=\"row_heading level0 row30\" >rougher.output.concentrate_sol</th>\n",
       "      <td id=\"T_c513b_row30_col0\" class=\"data row30 col0\" >0.000000</td>\n",
       "    </tr>\n",
       "    <tr>\n",
       "      <th id=\"T_c513b_level0_row31\" class=\"row_heading level0 row31\" >rougher.output.recovery</th>\n",
       "      <td id=\"T_c513b_row31_col0\" class=\"data row31 col0\" >0.000000</td>\n",
       "    </tr>\n",
       "    <tr>\n",
       "      <th id=\"T_c513b_level0_row32\" class=\"row_heading level0 row32\" >rougher.output.tail_au</th>\n",
       "      <td id=\"T_c513b_row32_col0\" class=\"data row32 col0\" >0.000000</td>\n",
       "    </tr>\n",
       "    <tr>\n",
       "      <th id=\"T_c513b_level0_row33\" class=\"row_heading level0 row33\" >rougher.output.tail_ag</th>\n",
       "      <td id=\"T_c513b_row33_col0\" class=\"data row33 col0\" >0.000000</td>\n",
       "    </tr>\n",
       "    <tr>\n",
       "      <th id=\"T_c513b_level0_row34\" class=\"row_heading level0 row34\" >rougher.output.tail_pb</th>\n",
       "      <td id=\"T_c513b_row34_col0\" class=\"data row34 col0\" >0.000000</td>\n",
       "    </tr>\n",
       "    <tr>\n",
       "      <th id=\"T_c513b_level0_row35\" class=\"row_heading level0 row35\" >rougher.output.tail_sol</th>\n",
       "      <td id=\"T_c513b_row35_col0\" class=\"data row35 col0\" >0.000000</td>\n",
       "    </tr>\n",
       "    <tr>\n",
       "      <th id=\"T_c513b_level0_row36\" class=\"row_heading level0 row36\" >primary_cleaner.input.sulfate</th>\n",
       "      <td id=\"T_c513b_row36_col0\" class=\"data row36 col0\" >0.000000</td>\n",
       "    </tr>\n",
       "    <tr>\n",
       "      <th id=\"T_c513b_level0_row37\" class=\"row_heading level0 row37\" >primary_cleaner.input.depressant</th>\n",
       "      <td id=\"T_c513b_row37_col0\" class=\"data row37 col0\" >0.000000</td>\n",
       "    </tr>\n",
       "    <tr>\n",
       "      <th id=\"T_c513b_level0_row38\" class=\"row_heading level0 row38\" >primary_cleaner.input.feed_size</th>\n",
       "      <td id=\"T_c513b_row38_col0\" class=\"data row38 col0\" >0.000000</td>\n",
       "    </tr>\n",
       "    <tr>\n",
       "      <th id=\"T_c513b_level0_row39\" class=\"row_heading level0 row39\" >primary_cleaner.input.xanthate</th>\n",
       "      <td id=\"T_c513b_row39_col0\" class=\"data row39 col0\" >0.000000</td>\n",
       "    </tr>\n",
       "    <tr>\n",
       "      <th id=\"T_c513b_level0_row40\" class=\"row_heading level0 row40\" >primary_cleaner.state.floatbank8_a_air</th>\n",
       "      <td id=\"T_c513b_row40_col0\" class=\"data row40 col0\" >0.000000</td>\n",
       "    </tr>\n",
       "    <tr>\n",
       "      <th id=\"T_c513b_level0_row41\" class=\"row_heading level0 row41\" >primary_cleaner.state.floatbank8_a_level</th>\n",
       "      <td id=\"T_c513b_row41_col0\" class=\"data row41 col0\" >0.000000</td>\n",
       "    </tr>\n",
       "    <tr>\n",
       "      <th id=\"T_c513b_level0_row42\" class=\"row_heading level0 row42\" >primary_cleaner.state.floatbank8_b_air</th>\n",
       "      <td id=\"T_c513b_row42_col0\" class=\"data row42 col0\" >0.000000</td>\n",
       "    </tr>\n",
       "    <tr>\n",
       "      <th id=\"T_c513b_level0_row43\" class=\"row_heading level0 row43\" >primary_cleaner.state.floatbank8_b_level</th>\n",
       "      <td id=\"T_c513b_row43_col0\" class=\"data row43 col0\" >0.000000</td>\n",
       "    </tr>\n",
       "    <tr>\n",
       "      <th id=\"T_c513b_level0_row44\" class=\"row_heading level0 row44\" >primary_cleaner.state.floatbank8_c_air</th>\n",
       "      <td id=\"T_c513b_row44_col0\" class=\"data row44 col0\" >0.000000</td>\n",
       "    </tr>\n",
       "    <tr>\n",
       "      <th id=\"T_c513b_level0_row45\" class=\"row_heading level0 row45\" >primary_cleaner.state.floatbank8_c_level</th>\n",
       "      <td id=\"T_c513b_row45_col0\" class=\"data row45 col0\" >0.000000</td>\n",
       "    </tr>\n",
       "    <tr>\n",
       "      <th id=\"T_c513b_level0_row46\" class=\"row_heading level0 row46\" >primary_cleaner.state.floatbank8_d_air</th>\n",
       "      <td id=\"T_c513b_row46_col0\" class=\"data row46 col0\" >0.000000</td>\n",
       "    </tr>\n",
       "    <tr>\n",
       "      <th id=\"T_c513b_level0_row47\" class=\"row_heading level0 row47\" >primary_cleaner.state.floatbank8_d_level</th>\n",
       "      <td id=\"T_c513b_row47_col0\" class=\"data row47 col0\" >0.000000</td>\n",
       "    </tr>\n",
       "    <tr>\n",
       "      <th id=\"T_c513b_level0_row48\" class=\"row_heading level0 row48\" >primary_cleaner.output.concentrate_au</th>\n",
       "      <td id=\"T_c513b_row48_col0\" class=\"data row48 col0\" >0.000000</td>\n",
       "    </tr>\n",
       "    <tr>\n",
       "      <th id=\"T_c513b_level0_row49\" class=\"row_heading level0 row49\" >primary_cleaner.output.concentrate_ag</th>\n",
       "      <td id=\"T_c513b_row49_col0\" class=\"data row49 col0\" >0.000000</td>\n",
       "    </tr>\n",
       "    <tr>\n",
       "      <th id=\"T_c513b_level0_row50\" class=\"row_heading level0 row50\" >primary_cleaner.output.concentrate_pb</th>\n",
       "      <td id=\"T_c513b_row50_col0\" class=\"data row50 col0\" >1.000000</td>\n",
       "    </tr>\n",
       "    <tr>\n",
       "      <th id=\"T_c513b_level0_row51\" class=\"row_heading level0 row51\" >primary_cleaner.output.concentrate_sol</th>\n",
       "      <td id=\"T_c513b_row51_col0\" class=\"data row51 col0\" >2.000000</td>\n",
       "    </tr>\n",
       "    <tr>\n",
       "      <th id=\"T_c513b_level0_row52\" class=\"row_heading level0 row52\" >primary_cleaner.output.tail_au</th>\n",
       "      <td id=\"T_c513b_row52_col0\" class=\"data row52 col0\" >0.000000</td>\n",
       "    </tr>\n",
       "    <tr>\n",
       "      <th id=\"T_c513b_level0_row53\" class=\"row_heading level0 row53\" >primary_cleaner.output.tail_ag</th>\n",
       "      <td id=\"T_c513b_row53_col0\" class=\"data row53 col0\" >0.000000</td>\n",
       "    </tr>\n",
       "    <tr>\n",
       "      <th id=\"T_c513b_level0_row54\" class=\"row_heading level0 row54\" >primary_cleaner.output.tail_pb</th>\n",
       "      <td id=\"T_c513b_row54_col0\" class=\"data row54 col0\" >0.000000</td>\n",
       "    </tr>\n",
       "    <tr>\n",
       "      <th id=\"T_c513b_level0_row55\" class=\"row_heading level0 row55\" >primary_cleaner.output.tail_sol</th>\n",
       "      <td id=\"T_c513b_row55_col0\" class=\"data row55 col0\" >0.000000</td>\n",
       "    </tr>\n",
       "    <tr>\n",
       "      <th id=\"T_c513b_level0_row56\" class=\"row_heading level0 row56\" >secondary_cleaner.state.floatbank2_a_air</th>\n",
       "      <td id=\"T_c513b_row56_col0\" class=\"data row56 col0\" >1.000000</td>\n",
       "    </tr>\n",
       "    <tr>\n",
       "      <th id=\"T_c513b_level0_row57\" class=\"row_heading level0 row57\" >secondary_cleaner.state.floatbank2_a_level</th>\n",
       "      <td id=\"T_c513b_row57_col0\" class=\"data row57 col0\" >0.000000</td>\n",
       "    </tr>\n",
       "    <tr>\n",
       "      <th id=\"T_c513b_level0_row58\" class=\"row_heading level0 row58\" >secondary_cleaner.state.floatbank2_b_air</th>\n",
       "      <td id=\"T_c513b_row58_col0\" class=\"data row58 col0\" >0.000000</td>\n",
       "    </tr>\n",
       "    <tr>\n",
       "      <th id=\"T_c513b_level0_row59\" class=\"row_heading level0 row59\" >secondary_cleaner.state.floatbank2_b_level</th>\n",
       "      <td id=\"T_c513b_row59_col0\" class=\"data row59 col0\" >0.000000</td>\n",
       "    </tr>\n",
       "    <tr>\n",
       "      <th id=\"T_c513b_level0_row60\" class=\"row_heading level0 row60\" >secondary_cleaner.state.floatbank3_a_air</th>\n",
       "      <td id=\"T_c513b_row60_col0\" class=\"data row60 col0\" >0.000000</td>\n",
       "    </tr>\n",
       "    <tr>\n",
       "      <th id=\"T_c513b_level0_row61\" class=\"row_heading level0 row61\" >secondary_cleaner.state.floatbank3_a_level</th>\n",
       "      <td id=\"T_c513b_row61_col0\" class=\"data row61 col0\" >0.000000</td>\n",
       "    </tr>\n",
       "    <tr>\n",
       "      <th id=\"T_c513b_level0_row62\" class=\"row_heading level0 row62\" >secondary_cleaner.state.floatbank3_b_air</th>\n",
       "      <td id=\"T_c513b_row62_col0\" class=\"data row62 col0\" >0.000000</td>\n",
       "    </tr>\n",
       "    <tr>\n",
       "      <th id=\"T_c513b_level0_row63\" class=\"row_heading level0 row63\" >secondary_cleaner.state.floatbank3_b_level</th>\n",
       "      <td id=\"T_c513b_row63_col0\" class=\"data row63 col0\" >0.000000</td>\n",
       "    </tr>\n",
       "    <tr>\n",
       "      <th id=\"T_c513b_level0_row64\" class=\"row_heading level0 row64\" >secondary_cleaner.state.floatbank4_a_air</th>\n",
       "      <td id=\"T_c513b_row64_col0\" class=\"data row64 col0\" >0.000000</td>\n",
       "    </tr>\n",
       "    <tr>\n",
       "      <th id=\"T_c513b_level0_row65\" class=\"row_heading level0 row65\" >secondary_cleaner.state.floatbank4_a_level</th>\n",
       "      <td id=\"T_c513b_row65_col0\" class=\"data row65 col0\" >0.000000</td>\n",
       "    </tr>\n",
       "    <tr>\n",
       "      <th id=\"T_c513b_level0_row66\" class=\"row_heading level0 row66\" >secondary_cleaner.state.floatbank4_b_air</th>\n",
       "      <td id=\"T_c513b_row66_col0\" class=\"data row66 col0\" >0.000000</td>\n",
       "    </tr>\n",
       "    <tr>\n",
       "      <th id=\"T_c513b_level0_row67\" class=\"row_heading level0 row67\" >secondary_cleaner.state.floatbank4_b_level</th>\n",
       "      <td id=\"T_c513b_row67_col0\" class=\"data row67 col0\" >0.000000</td>\n",
       "    </tr>\n",
       "    <tr>\n",
       "      <th id=\"T_c513b_level0_row68\" class=\"row_heading level0 row68\" >secondary_cleaner.state.floatbank5_a_air</th>\n",
       "      <td id=\"T_c513b_row68_col0\" class=\"data row68 col0\" >0.000000</td>\n",
       "    </tr>\n",
       "    <tr>\n",
       "      <th id=\"T_c513b_level0_row69\" class=\"row_heading level0 row69\" >secondary_cleaner.state.floatbank5_a_level</th>\n",
       "      <td id=\"T_c513b_row69_col0\" class=\"data row69 col0\" >0.000000</td>\n",
       "    </tr>\n",
       "    <tr>\n",
       "      <th id=\"T_c513b_level0_row70\" class=\"row_heading level0 row70\" >secondary_cleaner.state.floatbank5_b_air</th>\n",
       "      <td id=\"T_c513b_row70_col0\" class=\"data row70 col0\" >0.000000</td>\n",
       "    </tr>\n",
       "    <tr>\n",
       "      <th id=\"T_c513b_level0_row71\" class=\"row_heading level0 row71\" >secondary_cleaner.state.floatbank5_b_level</th>\n",
       "      <td id=\"T_c513b_row71_col0\" class=\"data row71 col0\" >0.000000</td>\n",
       "    </tr>\n",
       "    <tr>\n",
       "      <th id=\"T_c513b_level0_row72\" class=\"row_heading level0 row72\" >secondary_cleaner.state.floatbank6_a_air</th>\n",
       "      <td id=\"T_c513b_row72_col0\" class=\"data row72 col0\" >0.000000</td>\n",
       "    </tr>\n",
       "    <tr>\n",
       "      <th id=\"T_c513b_level0_row73\" class=\"row_heading level0 row73\" >secondary_cleaner.state.floatbank6_a_level</th>\n",
       "      <td id=\"T_c513b_row73_col0\" class=\"data row73 col0\" >0.000000</td>\n",
       "    </tr>\n",
       "    <tr>\n",
       "      <th id=\"T_c513b_level0_row74\" class=\"row_heading level0 row74\" >secondary_cleaner.output.tail_au</th>\n",
       "      <td id=\"T_c513b_row74_col0\" class=\"data row74 col0\" >0.000000</td>\n",
       "    </tr>\n",
       "    <tr>\n",
       "      <th id=\"T_c513b_level0_row75\" class=\"row_heading level0 row75\" >secondary_cleaner.output.tail_ag</th>\n",
       "      <td id=\"T_c513b_row75_col0\" class=\"data row75 col0\" >0.000000</td>\n",
       "    </tr>\n",
       "    <tr>\n",
       "      <th id=\"T_c513b_level0_row76\" class=\"row_heading level0 row76\" >secondary_cleaner.output.tail_pb</th>\n",
       "      <td id=\"T_c513b_row76_col0\" class=\"data row76 col0\" >0.000000</td>\n",
       "    </tr>\n",
       "    <tr>\n",
       "      <th id=\"T_c513b_level0_row77\" class=\"row_heading level0 row77\" >secondary_cleaner.output.tail_sol</th>\n",
       "      <td id=\"T_c513b_row77_col0\" class=\"data row77 col0\" >6.000000</td>\n",
       "    </tr>\n",
       "    <tr>\n",
       "      <th id=\"T_c513b_level0_row78\" class=\"row_heading level0 row78\" >final.output.concentrate_au</th>\n",
       "      <td id=\"T_c513b_row78_col0\" class=\"data row78 col0\" >0.000000</td>\n",
       "    </tr>\n",
       "    <tr>\n",
       "      <th id=\"T_c513b_level0_row79\" class=\"row_heading level0 row79\" >final.output.concentrate_ag</th>\n",
       "      <td id=\"T_c513b_row79_col0\" class=\"data row79 col0\" >0.000000</td>\n",
       "    </tr>\n",
       "    <tr>\n",
       "      <th id=\"T_c513b_level0_row80\" class=\"row_heading level0 row80\" >final.output.concentrate_pb</th>\n",
       "      <td id=\"T_c513b_row80_col0\" class=\"data row80 col0\" >0.000000</td>\n",
       "    </tr>\n",
       "    <tr>\n",
       "      <th id=\"T_c513b_level0_row81\" class=\"row_heading level0 row81\" >final.output.concentrate_sol</th>\n",
       "      <td id=\"T_c513b_row81_col0\" class=\"data row81 col0\" >1.000000</td>\n",
       "    </tr>\n",
       "    <tr>\n",
       "      <th id=\"T_c513b_level0_row82\" class=\"row_heading level0 row82\" >final.output.recovery</th>\n",
       "      <td id=\"T_c513b_row82_col0\" class=\"data row82 col0\" >0.000000</td>\n",
       "    </tr>\n",
       "    <tr>\n",
       "      <th id=\"T_c513b_level0_row83\" class=\"row_heading level0 row83\" >final.output.tail_au</th>\n",
       "      <td id=\"T_c513b_row83_col0\" class=\"data row83 col0\" >0.000000</td>\n",
       "    </tr>\n",
       "    <tr>\n",
       "      <th id=\"T_c513b_level0_row84\" class=\"row_heading level0 row84\" >final.output.tail_ag</th>\n",
       "      <td id=\"T_c513b_row84_col0\" class=\"data row84 col0\" >0.000000</td>\n",
       "    </tr>\n",
       "    <tr>\n",
       "      <th id=\"T_c513b_level0_row85\" class=\"row_heading level0 row85\" >final.output.tail_pb</th>\n",
       "      <td id=\"T_c513b_row85_col0\" class=\"data row85 col0\" >1.000000</td>\n",
       "    </tr>\n",
       "    <tr>\n",
       "      <th id=\"T_c513b_level0_row86\" class=\"row_heading level0 row86\" >final.output.tail_sol</th>\n",
       "      <td id=\"T_c513b_row86_col0\" class=\"data row86 col0\" >0.000000</td>\n",
       "    </tr>\n",
       "  </tbody>\n",
       "</table>\n"
      ],
      "text/plain": [
       "<pandas.io.formats.style.Styler at 0x7f99798ee860>"
      ]
     },
     "metadata": {},
     "output_type": "display_data"
    },
    {
     "name": "stdout",
     "output_type": "stream",
     "text": [
      "\n",
      "(14579, 87)\n"
     ]
    }
   ],
   "source": [
    "check(data_train)"
   ]
  },
  {
   "cell_type": "code",
   "execution_count": 15,
   "metadata": {
    "scrolled": true
   },
   "outputs": [
    {
     "name": "stdout",
     "output_type": "stream",
     "text": [
      "Описание:\n",
      "       rougher.input.feed_au  rougher.input.feed_ag  rougher.input.feed_pb  \\\n",
      "count            4860.000000            4860.000000            4832.000000   \n",
      "mean                8.005584               8.547348               3.579662   \n",
      "std                 1.993590               1.958601               1.029377   \n",
      "min                 0.010000               0.010000               0.010000   \n",
      "25%                 6.574363               6.975898               2.903612   \n",
      "50%                 7.812923               8.179714               3.540772   \n",
      "75%                 9.556589              10.084339               4.199847   \n",
      "max                13.417156              14.533698               7.142594   \n",
      "\n",
      "       rougher.input.feed_sol  rougher.input.feed_rate  \\\n",
      "count             4838.000000              4856.000000   \n",
      "mean                37.095864               490.285103   \n",
      "std                  4.926284                94.371623   \n",
      "min                  0.010000                 0.012786   \n",
      "25%                 34.510841               434.099695   \n",
      "50%                 37.499761               502.118742   \n",
      "75%                 40.461315               555.596563   \n",
      "max                 53.477742               702.523396   \n",
      "\n",
      "       rougher.input.feed_size  rougher.input.floatbank10_sulfate  \\\n",
      "count              4816.000000                        4857.000000   \n",
      "mean                 59.113400                          12.055735   \n",
      "std                  19.125122                           3.407642   \n",
      "min                   0.046369                           0.018907   \n",
      "25%                  47.596984                           9.890429   \n",
      "50%                  55.509481                          11.997859   \n",
      "75%                  66.661547                          14.496072   \n",
      "max                 363.989699                          30.010759   \n",
      "\n",
      "       rougher.input.floatbank10_xanthate  rougher.state.floatbank10_a_air  \\\n",
      "count                         4859.000000                      4859.000000   \n",
      "mean                             6.101308                      1108.635895   \n",
      "std                              1.042754                       156.493143   \n",
      "min                              0.015783                       300.792494   \n",
      "25%                              5.499808                       999.715729   \n",
      "50%                              6.099805                      1001.414798   \n",
      "75%                              6.802101                      1202.837565   \n",
      "max                              9.396928                      1521.980372   \n",
      "\n",
      "       rougher.state.floatbank10_a_level  ...  \\\n",
      "count                        4859.000000  ...   \n",
      "mean                         -368.340127  ...   \n",
      "std                            91.155929  ...   \n",
      "min                          -600.568138  ...   \n",
      "25%                          -499.731972  ...   \n",
      "50%                          -300.181367  ...   \n",
      "75%                          -299.961547  ...   \n",
      "max                          -281.039299  ...   \n",
      "\n",
      "       secondary_cleaner.state.floatbank4_b_air  \\\n",
      "count                              4.859000e+03   \n",
      "mean                               1.557025e+01   \n",
      "std                                4.927361e+00   \n",
      "min                                2.489718e-17   \n",
      "25%                                1.202172e+01   \n",
      "50%                                1.501240e+01   \n",
      "75%                                1.999949e+01   \n",
      "max                                2.398898e+01   \n",
      "\n",
      "       secondary_cleaner.state.floatbank4_b_level  \\\n",
      "count                                 4859.000000   \n",
      "mean                                  -464.176507   \n",
      "std                                     65.706994   \n",
      "min                                   -799.860767   \n",
      "25%                                   -500.196517   \n",
      "50%                                   -499.540776   \n",
      "75%                                   -400.302329   \n",
      "max                                   -114.250832   \n",
      "\n",
      "       secondary_cleaner.state.floatbank5_a_air  \\\n",
      "count                               4859.000000   \n",
      "mean                                  16.594103   \n",
      "std                                    5.724305   \n",
      "min                                   -0.371498   \n",
      "25%                                   11.073822   \n",
      "50%                                   16.631195   \n",
      "75%                                   19.983191   \n",
      "max                                   33.215996   \n",
      "\n",
      "       secondary_cleaner.state.floatbank5_a_level  \\\n",
      "count                                 4859.000000   \n",
      "mean                                  -490.815250   \n",
      "std                                     32.258443   \n",
      "min                                   -797.142475   \n",
      "25%                                   -500.483564   \n",
      "50%                                   -499.873136   \n",
      "75%                                   -498.852815   \n",
      "max                                   -288.963521   \n",
      "\n",
      "       secondary_cleaner.state.floatbank5_b_air  \\\n",
      "count                               4859.000000   \n",
      "mean                                  12.945971   \n",
      "std                                    5.533176   \n",
      "min                                    1.358469   \n",
      "25%                                    9.011890   \n",
      "50%                                   11.999417   \n",
      "75%                                   15.004198   \n",
      "max                                   24.177106   \n",
      "\n",
      "       secondary_cleaner.state.floatbank5_b_level  \\\n",
      "count                                 4859.000000   \n",
      "mean                                  -489.583564   \n",
      "std                                     37.084609   \n",
      "min                                   -800.006180   \n",
      "25%                                   -500.129913   \n",
      "50%                                   -499.955304   \n",
      "75%                                   -499.643776   \n",
      "max                                   -141.934397   \n",
      "\n",
      "       secondary_cleaner.state.floatbank6_a_air  \\\n",
      "count                               4859.000000   \n",
      "mean                                  19.053888   \n",
      "std                                    5.548996   \n",
      "min                                    0.160386   \n",
      "25%                                   14.963953   \n",
      "50%                                   19.960006   \n",
      "75%                                   24.974583   \n",
      "max                                   32.028529   \n",
      "\n",
      "       secondary_cleaner.state.floatbank6_a_level  rougher.output.recovery  \\\n",
      "count                                 4859.000000              4860.000000   \n",
      "mean                                  -504.678924                85.750584   \n",
      "std                                     38.690186                 6.648023   \n",
      "min                                   -809.734800                18.491446   \n",
      "25%                                   -500.668501                82.354512   \n",
      "50%                                   -500.033769                86.839027   \n",
      "75%                                   -499.460134                90.145117   \n",
      "max                                   -104.427459               100.000000   \n",
      "\n",
      "       final.output.recovery  \n",
      "count            4860.000000  \n",
      "mean               67.923574  \n",
      "std                 8.414134  \n",
      "min                 5.586496  \n",
      "25%                63.939233  \n",
      "50%                68.744713  \n",
      "75%                73.037434  \n",
      "max               100.000000  \n",
      "\n",
      "[8 rows x 54 columns]\n",
      "\n",
      "<class 'pandas.core.frame.DataFrame'>\n",
      "Int64Index: 4860 entries, 0 to 4859\n",
      "Data columns (total 55 columns):\n",
      " #   Column                                      Non-Null Count  Dtype  \n",
      "---  ------                                      --------------  -----  \n",
      " 0   date                                        4860 non-null   object \n",
      " 1   rougher.input.feed_au                       4860 non-null   float64\n",
      " 2   rougher.input.feed_ag                       4860 non-null   float64\n",
      " 3   rougher.input.feed_pb                       4832 non-null   float64\n",
      " 4   rougher.input.feed_sol                      4838 non-null   float64\n",
      " 5   rougher.input.feed_rate                     4856 non-null   float64\n",
      " 6   rougher.input.feed_size                     4816 non-null   float64\n",
      " 7   rougher.input.floatbank10_sulfate           4857 non-null   float64\n",
      " 8   rougher.input.floatbank10_xanthate          4859 non-null   float64\n",
      " 9   rougher.state.floatbank10_a_air             4859 non-null   float64\n",
      " 10  rougher.state.floatbank10_a_level           4859 non-null   float64\n",
      " 11  rougher.state.floatbank10_b_air             4859 non-null   float64\n",
      " 12  rougher.state.floatbank10_b_level           4859 non-null   float64\n",
      " 13  rougher.state.floatbank10_c_air             4859 non-null   float64\n",
      " 14  rougher.state.floatbank10_c_level           4859 non-null   float64\n",
      " 15  rougher.state.floatbank10_d_air             4860 non-null   float64\n",
      " 16  rougher.state.floatbank10_d_level           4860 non-null   float64\n",
      " 17  rougher.state.floatbank10_e_air             4853 non-null   float64\n",
      " 18  rougher.state.floatbank10_e_level           4860 non-null   float64\n",
      " 19  rougher.state.floatbank10_f_air             4860 non-null   float64\n",
      " 20  rougher.state.floatbank10_f_level           4860 non-null   float64\n",
      " 21  rougher.input.floatbank11_sulfate           4852 non-null   float64\n",
      " 22  rougher.input.floatbank11_xanthate          4814 non-null   float64\n",
      " 23  primary_cleaner.input.sulfate               4859 non-null   float64\n",
      " 24  primary_cleaner.input.depressant            4851 non-null   float64\n",
      " 25  primary_cleaner.input.feed_size             4860 non-null   float64\n",
      " 26  primary_cleaner.input.xanthate              4817 non-null   float64\n",
      " 27  primary_cleaner.state.floatbank8_a_air      4859 non-null   float64\n",
      " 28  primary_cleaner.state.floatbank8_a_level    4859 non-null   float64\n",
      " 29  primary_cleaner.state.floatbank8_b_air      4859 non-null   float64\n",
      " 30  primary_cleaner.state.floatbank8_b_level    4859 non-null   float64\n",
      " 31  primary_cleaner.state.floatbank8_c_air      4858 non-null   float64\n",
      " 32  primary_cleaner.state.floatbank8_c_level    4859 non-null   float64\n",
      " 33  primary_cleaner.state.floatbank8_d_air      4858 non-null   float64\n",
      " 34  primary_cleaner.state.floatbank8_d_level    4859 non-null   float64\n",
      " 35  secondary_cleaner.state.floatbank2_a_air    4734 non-null   float64\n",
      " 36  secondary_cleaner.state.floatbank2_a_level  4859 non-null   float64\n",
      " 37  secondary_cleaner.state.floatbank2_b_air    4859 non-null   float64\n",
      " 38  secondary_cleaner.state.floatbank2_b_level  4859 non-null   float64\n",
      " 39  secondary_cleaner.state.floatbank3_a_air    4859 non-null   float64\n",
      " 40  secondary_cleaner.state.floatbank3_a_level  4859 non-null   float64\n",
      " 41  secondary_cleaner.state.floatbank3_b_air    4859 non-null   float64\n",
      " 42  secondary_cleaner.state.floatbank3_b_level  4859 non-null   float64\n",
      " 43  secondary_cleaner.state.floatbank4_a_air    4859 non-null   float64\n",
      " 44  secondary_cleaner.state.floatbank4_a_level  4859 non-null   float64\n",
      " 45  secondary_cleaner.state.floatbank4_b_air    4859 non-null   float64\n",
      " 46  secondary_cleaner.state.floatbank4_b_level  4859 non-null   float64\n",
      " 47  secondary_cleaner.state.floatbank5_a_air    4859 non-null   float64\n",
      " 48  secondary_cleaner.state.floatbank5_a_level  4859 non-null   float64\n",
      " 49  secondary_cleaner.state.floatbank5_b_air    4859 non-null   float64\n",
      " 50  secondary_cleaner.state.floatbank5_b_level  4859 non-null   float64\n",
      " 51  secondary_cleaner.state.floatbank6_a_air    4859 non-null   float64\n",
      " 52  secondary_cleaner.state.floatbank6_a_level  4859 non-null   float64\n",
      " 53  rougher.output.recovery                     4860 non-null   float64\n",
      " 54  final.output.recovery                       4860 non-null   float64\n",
      "dtypes: float64(54), object(1)\n",
      "memory usage: 2.1+ MB\n",
      "None\n",
      "\n",
      "Дубликатов:\n",
      "0\n",
      "\n",
      "Пропусков:\n"
     ]
    },
    {
     "data": {
      "text/html": [
       "<style type=\"text/css\">\n",
       "#T_74c64_row0_col0, #T_74c64_row1_col0, #T_74c64_row2_col0, #T_74c64_row4_col0, #T_74c64_row5_col0, #T_74c64_row7_col0, #T_74c64_row8_col0, #T_74c64_row9_col0, #T_74c64_row10_col0, #T_74c64_row11_col0, #T_74c64_row12_col0, #T_74c64_row13_col0, #T_74c64_row14_col0, #T_74c64_row15_col0, #T_74c64_row16_col0, #T_74c64_row17_col0, #T_74c64_row18_col0, #T_74c64_row19_col0, #T_74c64_row20_col0, #T_74c64_row21_col0, #T_74c64_row23_col0, #T_74c64_row24_col0, #T_74c64_row25_col0, #T_74c64_row27_col0, #T_74c64_row28_col0, #T_74c64_row29_col0, #T_74c64_row30_col0, #T_74c64_row31_col0, #T_74c64_row32_col0, #T_74c64_row33_col0, #T_74c64_row34_col0, #T_74c64_row36_col0, #T_74c64_row37_col0, #T_74c64_row38_col0, #T_74c64_row39_col0, #T_74c64_row40_col0, #T_74c64_row41_col0, #T_74c64_row42_col0, #T_74c64_row43_col0, #T_74c64_row44_col0, #T_74c64_row45_col0, #T_74c64_row46_col0, #T_74c64_row47_col0, #T_74c64_row48_col0, #T_74c64_row49_col0, #T_74c64_row50_col0, #T_74c64_row51_col0, #T_74c64_row52_col0, #T_74c64_row53_col0, #T_74c64_row54_col0 {\n",
       "  background-color: #3b4cc0;\n",
       "  color: #f1f1f1;\n",
       "}\n",
       "#T_74c64_row3_col0, #T_74c64_row6_col0, #T_74c64_row22_col0, #T_74c64_row26_col0 {\n",
       "  background-color: #aac7fd;\n",
       "  color: #000000;\n",
       "}\n",
       "#T_74c64_row35_col0 {\n",
       "  background-color: #b40426;\n",
       "  color: #f1f1f1;\n",
       "}\n",
       "</style>\n",
       "<table id=\"T_74c64\">\n",
       "  <thead>\n",
       "    <tr>\n",
       "      <th class=\"blank level0\" >&nbsp;</th>\n",
       "      <th id=\"T_74c64_level0_col0\" class=\"col_heading level0 col0\" >0</th>\n",
       "    </tr>\n",
       "  </thead>\n",
       "  <tbody>\n",
       "    <tr>\n",
       "      <th id=\"T_74c64_level0_row0\" class=\"row_heading level0 row0\" >date</th>\n",
       "      <td id=\"T_74c64_row0_col0\" class=\"data row0 col0\" >0.000000</td>\n",
       "    </tr>\n",
       "    <tr>\n",
       "      <th id=\"T_74c64_level0_row1\" class=\"row_heading level0 row1\" >rougher.input.feed_au</th>\n",
       "      <td id=\"T_74c64_row1_col0\" class=\"data row1 col0\" >0.000000</td>\n",
       "    </tr>\n",
       "    <tr>\n",
       "      <th id=\"T_74c64_level0_row2\" class=\"row_heading level0 row2\" >rougher.input.feed_ag</th>\n",
       "      <td id=\"T_74c64_row2_col0\" class=\"data row2 col0\" >0.000000</td>\n",
       "    </tr>\n",
       "    <tr>\n",
       "      <th id=\"T_74c64_level0_row3\" class=\"row_heading level0 row3\" >rougher.input.feed_pb</th>\n",
       "      <td id=\"T_74c64_row3_col0\" class=\"data row3 col0\" >1.000000</td>\n",
       "    </tr>\n",
       "    <tr>\n",
       "      <th id=\"T_74c64_level0_row4\" class=\"row_heading level0 row4\" >rougher.input.feed_sol</th>\n",
       "      <td id=\"T_74c64_row4_col0\" class=\"data row4 col0\" >0.000000</td>\n",
       "    </tr>\n",
       "    <tr>\n",
       "      <th id=\"T_74c64_level0_row5\" class=\"row_heading level0 row5\" >rougher.input.feed_rate</th>\n",
       "      <td id=\"T_74c64_row5_col0\" class=\"data row5 col0\" >0.000000</td>\n",
       "    </tr>\n",
       "    <tr>\n",
       "      <th id=\"T_74c64_level0_row6\" class=\"row_heading level0 row6\" >rougher.input.feed_size</th>\n",
       "      <td id=\"T_74c64_row6_col0\" class=\"data row6 col0\" >1.000000</td>\n",
       "    </tr>\n",
       "    <tr>\n",
       "      <th id=\"T_74c64_level0_row7\" class=\"row_heading level0 row7\" >rougher.input.floatbank10_sulfate</th>\n",
       "      <td id=\"T_74c64_row7_col0\" class=\"data row7 col0\" >0.000000</td>\n",
       "    </tr>\n",
       "    <tr>\n",
       "      <th id=\"T_74c64_level0_row8\" class=\"row_heading level0 row8\" >rougher.input.floatbank10_xanthate</th>\n",
       "      <td id=\"T_74c64_row8_col0\" class=\"data row8 col0\" >0.000000</td>\n",
       "    </tr>\n",
       "    <tr>\n",
       "      <th id=\"T_74c64_level0_row9\" class=\"row_heading level0 row9\" >rougher.state.floatbank10_a_air</th>\n",
       "      <td id=\"T_74c64_row9_col0\" class=\"data row9 col0\" >0.000000</td>\n",
       "    </tr>\n",
       "    <tr>\n",
       "      <th id=\"T_74c64_level0_row10\" class=\"row_heading level0 row10\" >rougher.state.floatbank10_a_level</th>\n",
       "      <td id=\"T_74c64_row10_col0\" class=\"data row10 col0\" >0.000000</td>\n",
       "    </tr>\n",
       "    <tr>\n",
       "      <th id=\"T_74c64_level0_row11\" class=\"row_heading level0 row11\" >rougher.state.floatbank10_b_air</th>\n",
       "      <td id=\"T_74c64_row11_col0\" class=\"data row11 col0\" >0.000000</td>\n",
       "    </tr>\n",
       "    <tr>\n",
       "      <th id=\"T_74c64_level0_row12\" class=\"row_heading level0 row12\" >rougher.state.floatbank10_b_level</th>\n",
       "      <td id=\"T_74c64_row12_col0\" class=\"data row12 col0\" >0.000000</td>\n",
       "    </tr>\n",
       "    <tr>\n",
       "      <th id=\"T_74c64_level0_row13\" class=\"row_heading level0 row13\" >rougher.state.floatbank10_c_air</th>\n",
       "      <td id=\"T_74c64_row13_col0\" class=\"data row13 col0\" >0.000000</td>\n",
       "    </tr>\n",
       "    <tr>\n",
       "      <th id=\"T_74c64_level0_row14\" class=\"row_heading level0 row14\" >rougher.state.floatbank10_c_level</th>\n",
       "      <td id=\"T_74c64_row14_col0\" class=\"data row14 col0\" >0.000000</td>\n",
       "    </tr>\n",
       "    <tr>\n",
       "      <th id=\"T_74c64_level0_row15\" class=\"row_heading level0 row15\" >rougher.state.floatbank10_d_air</th>\n",
       "      <td id=\"T_74c64_row15_col0\" class=\"data row15 col0\" >0.000000</td>\n",
       "    </tr>\n",
       "    <tr>\n",
       "      <th id=\"T_74c64_level0_row16\" class=\"row_heading level0 row16\" >rougher.state.floatbank10_d_level</th>\n",
       "      <td id=\"T_74c64_row16_col0\" class=\"data row16 col0\" >0.000000</td>\n",
       "    </tr>\n",
       "    <tr>\n",
       "      <th id=\"T_74c64_level0_row17\" class=\"row_heading level0 row17\" >rougher.state.floatbank10_e_air</th>\n",
       "      <td id=\"T_74c64_row17_col0\" class=\"data row17 col0\" >0.000000</td>\n",
       "    </tr>\n",
       "    <tr>\n",
       "      <th id=\"T_74c64_level0_row18\" class=\"row_heading level0 row18\" >rougher.state.floatbank10_e_level</th>\n",
       "      <td id=\"T_74c64_row18_col0\" class=\"data row18 col0\" >0.000000</td>\n",
       "    </tr>\n",
       "    <tr>\n",
       "      <th id=\"T_74c64_level0_row19\" class=\"row_heading level0 row19\" >rougher.state.floatbank10_f_air</th>\n",
       "      <td id=\"T_74c64_row19_col0\" class=\"data row19 col0\" >0.000000</td>\n",
       "    </tr>\n",
       "    <tr>\n",
       "      <th id=\"T_74c64_level0_row20\" class=\"row_heading level0 row20\" >rougher.state.floatbank10_f_level</th>\n",
       "      <td id=\"T_74c64_row20_col0\" class=\"data row20 col0\" >0.000000</td>\n",
       "    </tr>\n",
       "    <tr>\n",
       "      <th id=\"T_74c64_level0_row21\" class=\"row_heading level0 row21\" >rougher.input.floatbank11_sulfate</th>\n",
       "      <td id=\"T_74c64_row21_col0\" class=\"data row21 col0\" >0.000000</td>\n",
       "    </tr>\n",
       "    <tr>\n",
       "      <th id=\"T_74c64_level0_row22\" class=\"row_heading level0 row22\" >rougher.input.floatbank11_xanthate</th>\n",
       "      <td id=\"T_74c64_row22_col0\" class=\"data row22 col0\" >1.000000</td>\n",
       "    </tr>\n",
       "    <tr>\n",
       "      <th id=\"T_74c64_level0_row23\" class=\"row_heading level0 row23\" >primary_cleaner.input.sulfate</th>\n",
       "      <td id=\"T_74c64_row23_col0\" class=\"data row23 col0\" >0.000000</td>\n",
       "    </tr>\n",
       "    <tr>\n",
       "      <th id=\"T_74c64_level0_row24\" class=\"row_heading level0 row24\" >primary_cleaner.input.depressant</th>\n",
       "      <td id=\"T_74c64_row24_col0\" class=\"data row24 col0\" >0.000000</td>\n",
       "    </tr>\n",
       "    <tr>\n",
       "      <th id=\"T_74c64_level0_row25\" class=\"row_heading level0 row25\" >primary_cleaner.input.feed_size</th>\n",
       "      <td id=\"T_74c64_row25_col0\" class=\"data row25 col0\" >0.000000</td>\n",
       "    </tr>\n",
       "    <tr>\n",
       "      <th id=\"T_74c64_level0_row26\" class=\"row_heading level0 row26\" >primary_cleaner.input.xanthate</th>\n",
       "      <td id=\"T_74c64_row26_col0\" class=\"data row26 col0\" >1.000000</td>\n",
       "    </tr>\n",
       "    <tr>\n",
       "      <th id=\"T_74c64_level0_row27\" class=\"row_heading level0 row27\" >primary_cleaner.state.floatbank8_a_air</th>\n",
       "      <td id=\"T_74c64_row27_col0\" class=\"data row27 col0\" >0.000000</td>\n",
       "    </tr>\n",
       "    <tr>\n",
       "      <th id=\"T_74c64_level0_row28\" class=\"row_heading level0 row28\" >primary_cleaner.state.floatbank8_a_level</th>\n",
       "      <td id=\"T_74c64_row28_col0\" class=\"data row28 col0\" >0.000000</td>\n",
       "    </tr>\n",
       "    <tr>\n",
       "      <th id=\"T_74c64_level0_row29\" class=\"row_heading level0 row29\" >primary_cleaner.state.floatbank8_b_air</th>\n",
       "      <td id=\"T_74c64_row29_col0\" class=\"data row29 col0\" >0.000000</td>\n",
       "    </tr>\n",
       "    <tr>\n",
       "      <th id=\"T_74c64_level0_row30\" class=\"row_heading level0 row30\" >primary_cleaner.state.floatbank8_b_level</th>\n",
       "      <td id=\"T_74c64_row30_col0\" class=\"data row30 col0\" >0.000000</td>\n",
       "    </tr>\n",
       "    <tr>\n",
       "      <th id=\"T_74c64_level0_row31\" class=\"row_heading level0 row31\" >primary_cleaner.state.floatbank8_c_air</th>\n",
       "      <td id=\"T_74c64_row31_col0\" class=\"data row31 col0\" >0.000000</td>\n",
       "    </tr>\n",
       "    <tr>\n",
       "      <th id=\"T_74c64_level0_row32\" class=\"row_heading level0 row32\" >primary_cleaner.state.floatbank8_c_level</th>\n",
       "      <td id=\"T_74c64_row32_col0\" class=\"data row32 col0\" >0.000000</td>\n",
       "    </tr>\n",
       "    <tr>\n",
       "      <th id=\"T_74c64_level0_row33\" class=\"row_heading level0 row33\" >primary_cleaner.state.floatbank8_d_air</th>\n",
       "      <td id=\"T_74c64_row33_col0\" class=\"data row33 col0\" >0.000000</td>\n",
       "    </tr>\n",
       "    <tr>\n",
       "      <th id=\"T_74c64_level0_row34\" class=\"row_heading level0 row34\" >primary_cleaner.state.floatbank8_d_level</th>\n",
       "      <td id=\"T_74c64_row34_col0\" class=\"data row34 col0\" >0.000000</td>\n",
       "    </tr>\n",
       "    <tr>\n",
       "      <th id=\"T_74c64_level0_row35\" class=\"row_heading level0 row35\" >secondary_cleaner.state.floatbank2_a_air</th>\n",
       "      <td id=\"T_74c64_row35_col0\" class=\"data row35 col0\" >3.000000</td>\n",
       "    </tr>\n",
       "    <tr>\n",
       "      <th id=\"T_74c64_level0_row36\" class=\"row_heading level0 row36\" >secondary_cleaner.state.floatbank2_a_level</th>\n",
       "      <td id=\"T_74c64_row36_col0\" class=\"data row36 col0\" >0.000000</td>\n",
       "    </tr>\n",
       "    <tr>\n",
       "      <th id=\"T_74c64_level0_row37\" class=\"row_heading level0 row37\" >secondary_cleaner.state.floatbank2_b_air</th>\n",
       "      <td id=\"T_74c64_row37_col0\" class=\"data row37 col0\" >0.000000</td>\n",
       "    </tr>\n",
       "    <tr>\n",
       "      <th id=\"T_74c64_level0_row38\" class=\"row_heading level0 row38\" >secondary_cleaner.state.floatbank2_b_level</th>\n",
       "      <td id=\"T_74c64_row38_col0\" class=\"data row38 col0\" >0.000000</td>\n",
       "    </tr>\n",
       "    <tr>\n",
       "      <th id=\"T_74c64_level0_row39\" class=\"row_heading level0 row39\" >secondary_cleaner.state.floatbank3_a_air</th>\n",
       "      <td id=\"T_74c64_row39_col0\" class=\"data row39 col0\" >0.000000</td>\n",
       "    </tr>\n",
       "    <tr>\n",
       "      <th id=\"T_74c64_level0_row40\" class=\"row_heading level0 row40\" >secondary_cleaner.state.floatbank3_a_level</th>\n",
       "      <td id=\"T_74c64_row40_col0\" class=\"data row40 col0\" >0.000000</td>\n",
       "    </tr>\n",
       "    <tr>\n",
       "      <th id=\"T_74c64_level0_row41\" class=\"row_heading level0 row41\" >secondary_cleaner.state.floatbank3_b_air</th>\n",
       "      <td id=\"T_74c64_row41_col0\" class=\"data row41 col0\" >0.000000</td>\n",
       "    </tr>\n",
       "    <tr>\n",
       "      <th id=\"T_74c64_level0_row42\" class=\"row_heading level0 row42\" >secondary_cleaner.state.floatbank3_b_level</th>\n",
       "      <td id=\"T_74c64_row42_col0\" class=\"data row42 col0\" >0.000000</td>\n",
       "    </tr>\n",
       "    <tr>\n",
       "      <th id=\"T_74c64_level0_row43\" class=\"row_heading level0 row43\" >secondary_cleaner.state.floatbank4_a_air</th>\n",
       "      <td id=\"T_74c64_row43_col0\" class=\"data row43 col0\" >0.000000</td>\n",
       "    </tr>\n",
       "    <tr>\n",
       "      <th id=\"T_74c64_level0_row44\" class=\"row_heading level0 row44\" >secondary_cleaner.state.floatbank4_a_level</th>\n",
       "      <td id=\"T_74c64_row44_col0\" class=\"data row44 col0\" >0.000000</td>\n",
       "    </tr>\n",
       "    <tr>\n",
       "      <th id=\"T_74c64_level0_row45\" class=\"row_heading level0 row45\" >secondary_cleaner.state.floatbank4_b_air</th>\n",
       "      <td id=\"T_74c64_row45_col0\" class=\"data row45 col0\" >0.000000</td>\n",
       "    </tr>\n",
       "    <tr>\n",
       "      <th id=\"T_74c64_level0_row46\" class=\"row_heading level0 row46\" >secondary_cleaner.state.floatbank4_b_level</th>\n",
       "      <td id=\"T_74c64_row46_col0\" class=\"data row46 col0\" >0.000000</td>\n",
       "    </tr>\n",
       "    <tr>\n",
       "      <th id=\"T_74c64_level0_row47\" class=\"row_heading level0 row47\" >secondary_cleaner.state.floatbank5_a_air</th>\n",
       "      <td id=\"T_74c64_row47_col0\" class=\"data row47 col0\" >0.000000</td>\n",
       "    </tr>\n",
       "    <tr>\n",
       "      <th id=\"T_74c64_level0_row48\" class=\"row_heading level0 row48\" >secondary_cleaner.state.floatbank5_a_level</th>\n",
       "      <td id=\"T_74c64_row48_col0\" class=\"data row48 col0\" >0.000000</td>\n",
       "    </tr>\n",
       "    <tr>\n",
       "      <th id=\"T_74c64_level0_row49\" class=\"row_heading level0 row49\" >secondary_cleaner.state.floatbank5_b_air</th>\n",
       "      <td id=\"T_74c64_row49_col0\" class=\"data row49 col0\" >0.000000</td>\n",
       "    </tr>\n",
       "    <tr>\n",
       "      <th id=\"T_74c64_level0_row50\" class=\"row_heading level0 row50\" >secondary_cleaner.state.floatbank5_b_level</th>\n",
       "      <td id=\"T_74c64_row50_col0\" class=\"data row50 col0\" >0.000000</td>\n",
       "    </tr>\n",
       "    <tr>\n",
       "      <th id=\"T_74c64_level0_row51\" class=\"row_heading level0 row51\" >secondary_cleaner.state.floatbank6_a_air</th>\n",
       "      <td id=\"T_74c64_row51_col0\" class=\"data row51 col0\" >0.000000</td>\n",
       "    </tr>\n",
       "    <tr>\n",
       "      <th id=\"T_74c64_level0_row52\" class=\"row_heading level0 row52\" >secondary_cleaner.state.floatbank6_a_level</th>\n",
       "      <td id=\"T_74c64_row52_col0\" class=\"data row52 col0\" >0.000000</td>\n",
       "    </tr>\n",
       "    <tr>\n",
       "      <th id=\"T_74c64_level0_row53\" class=\"row_heading level0 row53\" >rougher.output.recovery</th>\n",
       "      <td id=\"T_74c64_row53_col0\" class=\"data row53 col0\" >0.000000</td>\n",
       "    </tr>\n",
       "    <tr>\n",
       "      <th id=\"T_74c64_level0_row54\" class=\"row_heading level0 row54\" >final.output.recovery</th>\n",
       "      <td id=\"T_74c64_row54_col0\" class=\"data row54 col0\" >0.000000</td>\n",
       "    </tr>\n",
       "  </tbody>\n",
       "</table>\n"
      ],
      "text/plain": [
       "<pandas.io.formats.style.Styler at 0x7f999af09300>"
      ]
     },
     "metadata": {},
     "output_type": "display_data"
    },
    {
     "name": "stdout",
     "output_type": "stream",
     "text": [
      "\n",
      "(4860, 55)\n"
     ]
    }
   ],
   "source": [
    "check(data_test)"
   ]
  },
  {
   "cell_type": "markdown",
   "metadata": {},
   "source": [
    "В данных есть небольшой процент пропусков. Заполним их значениями за предыдущую дату."
   ]
  },
  {
   "cell_type": "code",
   "execution_count": 16,
   "metadata": {},
   "outputs": [],
   "source": [
    "clean_data_train = data_train.fillna(method='ffill')"
   ]
  },
  {
   "cell_type": "code",
   "execution_count": 17,
   "metadata": {},
   "outputs": [],
   "source": [
    "clean_data_test = data_test.fillna(method='ffill')"
   ]
  },
  {
   "cell_type": "markdown",
   "metadata": {},
   "source": [
    "Напишем функцию для проверки распределения металлов на разных этапах"
   ]
  },
  {
   "cell_type": "code",
   "execution_count": 18,
   "metadata": {
    "scrolled": false
   },
   "outputs": [],
   "source": [
    "def make_hist(name, x_name, step_1, step_2, step_3, step_4):\n",
    "    step_1.plot(title = name, \n",
    "                kind='hist',\n",
    "                label='Input feed',\n",
    "                xlabel=1,\n",
    "                ylabel=2,\n",
    "                alpha=0.5,\n",
    "                grid=True, \n",
    "                bins=100,\n",
    "                legend=True,\n",
    "                figsize=(13, 6));\n",
    "    step_2.plot(kind='hist',\n",
    "                label='Roughter output',\n",
    "                alpha=0.5,\n",
    "                grid=True,\n",
    "                legend=True,\n",
    "                bins=100);\n",
    "    step_3.plot(kind='hist',\n",
    "                label='Cleaner output',\n",
    "                alpha=0.5,\n",
    "                grid=True, \n",
    "                bins=100,\n",
    "                legend=True);\n",
    "    step_4.plot(kind='hist',\n",
    "                label='Final output',\n",
    "                alpha=0.5,\n",
    "                grid=True, \n",
    "                bins=100,\n",
    "                legend=True);\n",
    "    plt.xlabel(x_name)"
   ]
  },
  {
   "cell_type": "markdown",
   "metadata": {},
   "source": [
    "Посмотрим распределение золота на обуающей выборке "
   ]
  },
  {
   "cell_type": "code",
   "execution_count": 19,
   "metadata": {
    "scrolled": false
   },
   "outputs": [
    {
     "data": {
      "image/png": "[encoded data removed]",
      "text/plain": [
       "<Figure size 1300x600 with 1 Axes>"
      ]
     },
     "metadata": {},
     "output_type": "display_data"
    }
   ],
   "source": [
    "make_hist('Aurum distribution',\n",
    "          'Aurum concentrate', \n",
    "          clean_data_train['rougher.input.feed_au'],\n",
    "          clean_data_train['rougher.output.concentrate_au'],\n",
    "          clean_data_train['primary_cleaner.output.concentrate_au'],\n",
    "          clean_data_train['final.output.concentrate_au'])"
   ]
  },
  {
   "cell_type": "markdown",
   "metadata": {},
   "source": [
    "Распределение нормальное, но мы видим всплеск возле 0 на всех этапах. Я считаю, что это выбросы и их следует удалить"
   ]
  },
  {
   "cell_type": "code",
   "execution_count": 20,
   "metadata": {},
   "outputs": [],
   "source": [
    "clean_data_train = clean_data_train[clean_data_train['rougher.output.concentrate_au'] > 5]\n",
    "clean_data_train = clean_data_train[clean_data_train['primary_cleaner.output.concentrate_au'] > 5]\n",
    "clean_data_train = clean_data_train[clean_data_train['final.output.concentrate_au'] > 5]"
   ]
  },
  {
   "cell_type": "markdown",
   "metadata": {},
   "source": [
    "## Анализ данных"
   ]
  },
  {
   "cell_type": "markdown",
   "metadata": {},
   "source": [
    "Посмотрим, как меняется концентрация металлов (Au, Ag, Pb) на различных этапах: в сырье, в черновом концентрате, в концентрате после первой очистки и в финальном концентрате"
   ]
  },
  {
   "cell_type": "code",
   "execution_count": 21,
   "metadata": {
    "scrolled": false
   },
   "outputs": [
    {
     "data": {
      "image/png": "[encoded data removed]",
      "text/plain": [
       "<Figure size 1300x600 with 1 Axes>"
      ]
     },
     "metadata": {},
     "output_type": "display_data"
    }
   ],
   "source": [
    "make_hist('Aurum', \n",
    "          'Aurum concentrate',\n",
    "          data_full['rougher.input.feed_au'],\n",
    "          data_full['rougher.output.concentrate_au'],\n",
    "          data_full['primary_cleaner.output.concentrate_au'],\n",
    "          data_full['final.output.concentrate_au'])"
   ]
  },
  {
   "cell_type": "markdown",
   "metadata": {},
   "source": [
    "Концетрация золота увеличивается с каждым этапом"
   ]
  },
  {
   "cell_type": "code",
   "execution_count": 22,
   "metadata": {
    "scrolled": false
   },
   "outputs": [
    {
     "data": {
      "image/png": "[encoded data removed]",
      "text/plain": [
       "<Figure size 1300x600 with 1 Axes>"
      ]
     },
     "metadata": {},
     "output_type": "display_data"
    }
   ],
   "source": [
    "make_hist('Argentum', \n",
    "          'Argentum concentrate',\n",
    "          data_full['rougher.input.feed_ag'],\n",
    "          data_full['rougher.output.concentrate_ag'],\n",
    "          data_full['primary_cleaner.output.concentrate_ag'],\n",
    "          data_full['final.output.concentrate_ag'])"
   ]
  },
  {
   "cell_type": "markdown",
   "metadata": {},
   "source": [
    "Концентрация серебра уменьшилась в 2 раза"
   ]
  },
  {
   "cell_type": "code",
   "execution_count": 23,
   "metadata": {
    "scrolled": false
   },
   "outputs": [
    {
     "data": {
      "image/png": "[encoded data removed]",
      "text/plain": [
       "<Figure size 1300x600 with 1 Axes>"
      ]
     },
     "metadata": {},
     "output_type": "display_data"
    }
   ],
   "source": [
    "make_hist('Plumbum', \n",
    "          'Plumbum concentrate',\n",
    "          data_full['rougher.input.feed_pb'],\n",
    "          data_full['rougher.output.concentrate_pb'],\n",
    "          data_full['primary_cleaner.output.concentrate_pb'],\n",
    "          data_full['final.output.concentrate_pb'])"
   ]
  },
  {
   "cell_type": "markdown",
   "metadata": {},
   "source": [
    "Концентрация свинца увеличивалась, но не так явно как золота"
   ]
  },
  {
   "cell_type": "markdown",
   "metadata": {},
   "source": [
    "Сравним распределения размеров гранул исходного сырья на обучающей и тестовой выборках. Если распределения сильно отличаются друг от друга, оценка модели будет неправильной"
   ]
  },
  {
   "cell_type": "code",
   "execution_count": 24,
   "metadata": {
    "scrolled": false
   },
   "outputs": [
    {
     "data": {
      "image/png": "[encoded data removed]",
      "text/plain": [
       "<Figure size 1300x600 with 1 Axes>"
      ]
     },
     "metadata": {},
     "output_type": "display_data"
    }
   ],
   "source": [
    "clean_data_train['rougher.input.feed_size'].plot(title = 'Feed_size', \n",
    "                kind='hist',\n",
    "                histtype='step',\n",
    "                label='Train feed size',\n",
    "                alpha=0.7,\n",
    "                grid=True, \n",
    "                range=(0, 200),\n",
    "                density=True,                                 \n",
    "                linewidth=4,                                 \n",
    "                bins=100,\n",
    "                legend=True,\n",
    "                figsize=(13, 6));\n",
    "clean_data_test['rougher.input.feed_size'].plot(title = 'Feed_size', \n",
    "                kind='hist',\n",
    "                histtype='step',\n",
    "                label='Test feed size',\n",
    "                alpha=0.7,\n",
    "                grid=True,\n",
    "                range=(0, 200),\n",
    "                density=True,\n",
    "                linewidth=4,\n",
    "                bins=100,\n",
    "                legend=True,\n",
    "                figsize=(13, 6));\n",
    "plt.xlabel('Feed size');"
   ]
  },
  {
   "cell_type": "markdown",
   "metadata": {},
   "source": [
    "Распределения похожи"
   ]
  },
  {
   "cell_type": "markdown",
   "metadata": {},
   "source": [
    "Исследуем суммарную концентрацию металлов на разных стадиях: в сырье, в черновом концентрате, в концентрате после первой очистки и в финальном концентрате"
   ]
  },
  {
   "cell_type": "code",
   "execution_count": 25,
   "metadata": {},
   "outputs": [],
   "source": [
    "def metal_sum(au, ag, pb, sol):\n",
    "    step_sum = au + ag + pb + sol\n",
    "    return step_sum"
   ]
  },
  {
   "cell_type": "code",
   "execution_count": 26,
   "metadata": {},
   "outputs": [],
   "source": [
    "input_feed_sum = metal_sum(data_full['rougher.input.feed_au'],\n",
    "                           data_full['rougher.input.feed_ag'],\n",
    "                           data_full['rougher.input.feed_pb'], \n",
    "                           data_full['rougher.input.feed_sol'])\n",
    "rougher_sum = metal_sum(data_full['rougher.output.concentrate_au'],\n",
    "                        data_full['rougher.output.concentrate_ag'],\n",
    "                        data_full['rougher.output.concentrate_pb'], \n",
    "                        data_full['rougher.output.concentrate_sol'])\n",
    "cleaner_sum = metal_sum(data_full['primary_cleaner.output.concentrate_au'],\n",
    "                        data_full['primary_cleaner.output.concentrate_ag'],\n",
    "                        data_full['primary_cleaner.output.concentrate_pb'], \n",
    "                        data_full['primary_cleaner.output.concentrate_sol'])\n",
    "final_sum = metal_sum(data_full['final.output.concentrate_au'],\n",
    "                      data_full['final.output.concentrate_ag'],\n",
    "                      data_full['final.output.concentrate_pb'],\n",
    "                      data_full['final.output.concentrate_sol'])"
   ]
  },
  {
   "cell_type": "code",
   "execution_count": 27,
   "metadata": {
    "scrolled": false
   },
   "outputs": [
    {
     "data": {
      "image/png": "[encoded data removed]",
      "text/plain": [
       "<Figure size 1300x600 with 1 Axes>"
      ]
     },
     "metadata": {},
     "output_type": "display_data"
    }
   ],
   "source": [
    "input_feed_sum.plot(title = 'Metall sum', \n",
    "                    kind='hist',\n",
    "                    histtype='step',\n",
    "                    label='Input feed sum',\n",
    "                    alpha=1,\n",
    "                    grid=True, \n",
    "                    range=(0, 80),\n",
    "                    linewidth=4,                                 \n",
    "                    bins=100,\n",
    "                    legend=True,\n",
    "                    figsize=(13, 6));\n",
    "rougher_sum.plot(kind='hist',\n",
    "                 histtype='step',\n",
    "                 label='Rougher sum',\n",
    "                 alpha=0.4,\n",
    "                 grid=True,\n",
    "                 linewidth=4,                                 \n",
    "                 bins=100,\n",
    "                 legend=True);\n",
    "cleaner_sum.plot(kind='hist',\n",
    "                 histtype='step',\n",
    "                 label='Rougher sum',\n",
    "                 alpha=0.4,\n",
    "                 grid=True,\n",
    "                 linewidth=4,                                 \n",
    "                 bins=100,\n",
    "                 legend=True);\n",
    "final_sum.plot(kind='hist',\n",
    "               histtype='step',\n",
    "               label='Rougher sum',\n",
    "               alpha=0.4,\n",
    "               grid=True,\n",
    "               linewidth=4,                                 \n",
    "               bins=100,\n",
    "               legend=True);\n",
    "plt.xlabel('Concentrate');"
   ]
  },
  {
   "cell_type": "markdown",
   "metadata": {},
   "source": [
    "Суммарная концентрация металлов возрастает"
   ]
  },
  {
   "cell_type": "markdown",
   "metadata": {},
   "source": [
    "<b>Общий вывод:</b> Распределение концентрации металлов нормальное, с каждым этапом возрастает, особенно золота. Это ожидаемо, ведь мы исследуем процесс получения золота из руды"
   ]
  },
  {
   "cell_type": "markdown",
   "metadata": {},
   "source": [
    "## Модель"
   ]
  },
  {
   "cell_type": "markdown",
   "metadata": {},
   "source": [
    "Подготовим данные к обучению и тесту. Посмотрим размеры обучающей и тестовой выборок"
   ]
  },
  {
   "cell_type": "code",
   "execution_count": 28,
   "metadata": {},
   "outputs": [
    {
     "data": {
      "text/plain": [
       "(13850, 87)"
      ]
     },
     "execution_count": 28,
     "metadata": {},
     "output_type": "execute_result"
    }
   ],
   "source": [
    "clean_data_train.shape"
   ]
  },
  {
   "cell_type": "code",
   "execution_count": 29,
   "metadata": {
    "scrolled": true
   },
   "outputs": [
    {
     "data": {
      "text/plain": [
       "(4860, 55)"
      ]
     },
     "execution_count": 29,
     "metadata": {},
     "output_type": "execute_result"
    }
   ],
   "source": [
    "clean_data_test.shape"
   ]
  },
  {
   "cell_type": "markdown",
   "metadata": {},
   "source": [
    "В тестовой выборке нет некоторых столбцов, удалим их и из обучающей выборки, кроме целевых"
   ]
  },
  {
   "cell_type": "code",
   "execution_count": null,
   "metadata": {},
   "outputs": [],
   "source": []
  },
  {
   "cell_type": "code",
   "execution_count": 30,
   "metadata": {
    "scrolled": true
   },
   "outputs": [],
   "source": [
    "not_in_test.remove('rougher.output.recovery')\n",
    "not_in_test.remove('final.output.recovery')"
   ]
  },
  {
   "cell_type": "code",
   "execution_count": 31,
   "metadata": {
    "scrolled": true
   },
   "outputs": [],
   "source": [
    "data_train_ml = clean_data_train.drop(not_in_test, axis = 1)"
   ]
  },
  {
   "cell_type": "code",
   "execution_count": 32,
   "metadata": {
    "scrolled": true
   },
   "outputs": [
    {
     "data": {
      "text/plain": [
       "(13850, 55)"
      ]
     },
     "execution_count": 32,
     "metadata": {},
     "output_type": "execute_result"
    }
   ],
   "source": [
    "data_train_ml.shape"
   ]
  },
  {
   "cell_type": "code",
   "execution_count": 33,
   "metadata": {
    "scrolled": false
   },
   "outputs": [
    {
     "data": {
      "text/plain": [
       "(4860, 55)"
      ]
     },
     "execution_count": 33,
     "metadata": {},
     "output_type": "execute_result"
    }
   ],
   "source": [
    "clean_data_test.shape"
   ]
  },
  {
   "cell_type": "markdown",
   "metadata": {},
   "source": [
    "Напишем функицю для скорер sMAPE"
   ]
  },
  {
   "cell_type": "code",
   "execution_count": 34,
   "metadata": {},
   "outputs": [],
   "source": [
    "def smape( target, pred):\n",
    "    smape = (abs(target-pred)/((abs(target)+abs(pred))/2)*100).mean()\n",
    "    return smape"
   ]
  },
  {
   "cell_type": "code",
   "execution_count": 35,
   "metadata": {},
   "outputs": [],
   "source": [
    "def total_smape(rougher_smape, final_smape):\n",
    "    total_smape = 0.25 * rougher_smape + 0.75 * final_smape\n",
    "    return total_smape"
   ]
  },
  {
   "cell_type": "markdown",
   "metadata": {},
   "source": [
    "Запишем features и target для обучающей и тестовой выборок"
   ]
  },
  {
   "cell_type": "code",
   "execution_count": 36,
   "metadata": {},
   "outputs": [],
   "source": [
    "features_train = data_train_ml.drop(['date', 'rougher.output.recovery', 'final.output.recovery'], axis=1)\n",
    "target_train_rougher = data_train_ml['rougher.output.recovery']\n",
    "target_train_final = data_train_ml['final.output.recovery']\n",
    "features_test = clean_data_test.drop(['date', 'rougher.output.recovery', 'final.output.recovery'], axis=1)\n",
    "target_test_rougher = clean_data_test['rougher.output.recovery']\n",
    "target_test_final = clean_data_test['final.output.recovery']"
   ]
  },
  {
   "cell_type": "markdown",
   "metadata": {},
   "source": [
    "Обучим разыне модели, проверим разные параметры кросс-валидацией, подберем наилучшую для Rougher и Final этапов"
   ]
  },
  {
   "cell_type": "markdown",
   "metadata": {},
   "source": [
    "Проверим модель Дерево решений для Rougher этапа"
   ]
  },
  {
   "cell_type": "code",
   "execution_count": 37,
   "metadata": {},
   "outputs": [
    {
     "name": "stdout",
     "output_type": "stream",
     "text": [
      "Средняя оценка качества модели: 6.711509653467597 depth 4\n",
      "CPU times: user 16.1 s, sys: 110 ms, total: 16.2 s\n",
      "Wall time: 16.2 s\n"
     ]
    }
   ],
   "source": [
    "%%time\n",
    "best_score = 20\n",
    "best_depth = 0\n",
    "for depth in range(1, 10, 1):\n",
    "    model = DecisionTreeRegressor(random_state=12345, max_depth=depth)\n",
    "    score = make_scorer(smape)\n",
    "    scores = cross_val_score(model, features_train, target_train_rougher, cv=5, scoring=score) \n",
    "    final_score = abs(scores.mean())\n",
    "    if final_score < best_score:\n",
    "        best_score = final_score\n",
    "        best_depth = depth\n",
    "print('Средняя оценка качества модели:', best_score, 'depth', best_depth)"
   ]
  },
  {
   "cell_type": "markdown",
   "metadata": {},
   "source": [
    "Проверим моедль Случайный лес для Rougher этапа"
   ]
  },
  {
   "cell_type": "code",
   "execution_count": 38,
   "metadata": {},
   "outputs": [
    {
     "name": "stdout",
     "output_type": "stream",
     "text": [
      "Средняя оценка качества модели: 6.356328265683976 depth 4 est 41\n",
      "CPU times: user 9min 47s, sys: 3.99 s, total: 9min 51s\n",
      "Wall time: 15min 13s\n"
     ]
    }
   ],
   "source": [
    "%%time\n",
    "best_est = 0\n",
    "best_depth = 0\n",
    "best_score = 20 \n",
    "\n",
    "for est in range (1, 50, 5):\n",
    "    for depth in range (1, 5, 1):\n",
    "        \n",
    "        model = RandomForestRegressor(random_state=12345, n_estimators=est, max_depth=depth)\n",
    "        score = make_scorer(smape)\n",
    "        scores = cross_val_score(model, features_train, target_train_rougher, cv=5, scoring=score) \n",
    "        final_score = abs(scores.mean())\n",
    "        if final_score < best_score:\n",
    "            best_score = final_score\n",
    "            best_depth = depth\n",
    "            best_est = est\n",
    "        \n",
    "        \n",
    "print('Средняя оценка качества модели:', best_score, 'depth', best_depth, 'est', best_est)"
   ]
  },
  {
   "cell_type": "markdown",
   "metadata": {},
   "source": [
    "Проверим модель Линейная регрессия для Rougher этапа"
   ]
  },
  {
   "cell_type": "code",
   "execution_count": 39,
   "metadata": {
    "scrolled": true
   },
   "outputs": [
    {
     "name": "stdout",
     "output_type": "stream",
     "text": [
      "Средняя оценка качества модели: 7.144211801736057\n"
     ]
    }
   ],
   "source": [
    "model = LinearRegression()\n",
    "score = make_scorer(smape)\n",
    "scores = cross_val_score(model, features_train, target_train_rougher, cv=5, scoring=score) \n",
    "final_score = abs(scores.mean())\n",
    "print('Средняя оценка качества модели:', final_score)"
   ]
  },
  {
   "cell_type": "markdown",
   "metadata": {},
   "source": [
    "Для Rougher этапа лучшей моделью оказался:\n",
    "\n",
    "Случайный лес \n",
    "\n",
    "depth = 4\n",
    "\n",
    "estimators = 41"
   ]
  },
  {
   "cell_type": "markdown",
   "metadata": {},
   "source": [
    "Запомним smape для Rougher этапа тестовой выборки"
   ]
  },
  {
   "cell_type": "code",
   "execution_count": 40,
   "metadata": {},
   "outputs": [],
   "source": [
    "rougher_smape_train = 6.356328265683976"
   ]
  },
  {
   "cell_type": "markdown",
   "metadata": {},
   "source": [
    "Проверим модель Дерево решений для Final этапа"
   ]
  },
  {
   "cell_type": "code",
   "execution_count": 41,
   "metadata": {
    "scrolled": true
   },
   "outputs": [
    {
     "name": "stdout",
     "output_type": "stream",
     "text": [
      "Средняя оценка качества модели: 8.8710531151866 depth 2\n",
      "CPU times: user 16.9 s, sys: 1.06 s, total: 18 s\n",
      "Wall time: 16.4 s\n"
     ]
    }
   ],
   "source": [
    "%%time\n",
    "best_score = 20\n",
    "best_depth = 0\n",
    "for depth in range(1, 10, 1):\n",
    "    model = DecisionTreeRegressor(random_state=12345, max_depth=depth)\n",
    "    score = make_scorer(smape)\n",
    "    scores = cross_val_score(model, features_train, target_train_final, cv=5, scoring=score) \n",
    "    final_score = abs(scores.mean())\n",
    "    if final_score < best_score:\n",
    "        best_score = final_score\n",
    "        best_depth = depth\n",
    "print('Средняя оценка качества модели:', best_score, 'depth', best_depth)"
   ]
  },
  {
   "cell_type": "markdown",
   "metadata": {},
   "source": [
    "Проверим модель Случайный лес для Final этапа"
   ]
  },
  {
   "cell_type": "code",
   "execution_count": 42,
   "metadata": {},
   "outputs": [
    {
     "name": "stdout",
     "output_type": "stream",
     "text": [
      "Средняя оценка качества модели: 8.647203112494307 depth 2 est 7\n",
      "CPU times: user 4min 24s, sys: 1.89 s, total: 4min 26s\n",
      "Wall time: 39min 45s\n"
     ]
    }
   ],
   "source": [
    "%%time\n",
    "best_est = 0\n",
    "best_depth = 0\n",
    "best_score = 20 \n",
    "\n",
    "for est in range (1, 15, 1):\n",
    "    for depth in range (1, 5, 1):\n",
    "        \n",
    "        model = RandomForestRegressor(random_state=12345, n_estimators=est, max_depth=depth)\n",
    "        score = make_scorer(smape)\n",
    "        scores = cross_val_score(model, features_train, target_train_final, cv=5, scoring=score) \n",
    "        final_score = abs(scores.mean())\n",
    "        if final_score < best_score:\n",
    "            best_score = final_score\n",
    "            best_depth = depth\n",
    "            best_est = est\n",
    "           \n",
    "        \n",
    "print('Средняя оценка качества модели:', best_score, 'depth', best_depth, 'est', best_est)"
   ]
  },
  {
   "cell_type": "markdown",
   "metadata": {},
   "source": [
    "Проверим модель Линейная регрессия для Final этапа"
   ]
  },
  {
   "cell_type": "code",
   "execution_count": 43,
   "metadata": {
    "scrolled": true
   },
   "outputs": [
    {
     "name": "stdout",
     "output_type": "stream",
     "text": [
      "Средняя оценка качества модели: 9.421787953877981\n"
     ]
    }
   ],
   "source": [
    "model = LinearRegression()\n",
    "score = make_scorer(smape)\n",
    "scores = cross_val_score(model, features_train, target_train_final, cv=5, scoring=score) \n",
    "final_score = abs(scores.mean())\n",
    "print('Средняя оценка качества модели:', final_score)"
   ]
  },
  {
   "cell_type": "markdown",
   "metadata": {},
   "source": [
    "Для Final этапа лучшей моделью оказался:\n",
    "\n",
    "Случайный лес \n",
    "\n",
    "depth = 2\n",
    "\n",
    "estimators = 7"
   ]
  },
  {
   "cell_type": "markdown",
   "metadata": {},
   "source": [
    "Запомним smape для Final этапа тестовой выборки"
   ]
  },
  {
   "cell_type": "code",
   "execution_count": 44,
   "metadata": {},
   "outputs": [],
   "source": [
    "final_smape_train = 8.647203112494307"
   ]
  },
  {
   "cell_type": "code",
   "execution_count": 45,
   "metadata": {},
   "outputs": [],
   "source": [
    "total_smape_train = total_smape(rougher_smape_train, final_smape_train)"
   ]
  },
  {
   "cell_type": "code",
   "execution_count": 46,
   "metadata": {},
   "outputs": [
    {
     "name": "stdout",
     "output_type": "stream",
     "text": [
      "rougher sMAPE на тренировочной выборке 6.356328265683976\n",
      "final sMAPE на тренировочной выборке 8.647203112494307\n",
      "total sMAPE на тренировочной выборке 8.074484400791723\n"
     ]
    }
   ],
   "source": [
    "print(f'rougher sMAPE на тренировочной выборке {rougher_smape_train}')\n",
    "print(f'final sMAPE на тренировочной выборке {final_smape_train}')\n",
    "print(f'total sMAPE на тренировочной выборке {total_smape_train}')"
   ]
  },
  {
   "cell_type": "markdown",
   "metadata": {},
   "source": [
    "Проверим лучшую модель на тестовой выборке"
   ]
  },
  {
   "cell_type": "code",
   "execution_count": 47,
   "metadata": {},
   "outputs": [],
   "source": [
    "def best_model(features_train, target_train, features_test, target_test, depth, est):\n",
    "    \n",
    "    model = RandomForestRegressor(random_state=12345, n_estimators=est, max_depth=depth)\n",
    "    model.fit(features_train, target_train)\n",
    "    test_predict = model.predict(features_test)\n",
    "    final_score = smape(target_test, test_predict)\n",
    "    return final_score"
   ]
  },
  {
   "cell_type": "code",
   "execution_count": 48,
   "metadata": {},
   "outputs": [],
   "source": [
    "rougher_smape_test = best_model(features_train, target_train_rougher, features_test, target_test_rougher, 4, 41)"
   ]
  },
  {
   "cell_type": "code",
   "execution_count": 49,
   "metadata": {},
   "outputs": [],
   "source": [
    "final_smape_test = best_model(features_train, target_train_final, features_test, target_test_final, 2, 7)\n",
    "total_smape_test = total_smape(rougher_smape_test, final_smape_test)"
   ]
  },
  {
   "cell_type": "code",
   "execution_count": 50,
   "metadata": {},
   "outputs": [
    {
     "name": "stdout",
     "output_type": "stream",
     "text": [
      "rougher sMAPE на тестовой выборке 4.090961097287984\n",
      "final sMAPE на тестовой выборке 8.53708761279562\n",
      "total sMAPE на тестовой выборке 7.425555983918711\n"
     ]
    }
   ],
   "source": [
    "print(f'rougher sMAPE на тестовой выборке {rougher_smape_test}')\n",
    "print(f'final sMAPE на тестовой выборке {final_smape_test}')\n",
    "print(f'total sMAPE на тестовой выборке {total_smape_test}')"
   ]
  },
  {
   "cell_type": "code",
   "execution_count": 51,
   "metadata": {},
   "outputs": [],
   "source": [
    "def constant_test(features_train, target_train, features_test, target_test):\n",
    "    dummy_regr = DummyRegressor(strategy=\"mean\")\n",
    "    dummy_regr.fit(features_train, target_train)\n",
    "    test_predict = dummy_regr.predict(features_test)\n",
    "    final_score = smape(target_test, test_predict)\n",
    "    return final_score"
   ]
  },
  {
   "cell_type": "code",
   "execution_count": 52,
   "metadata": {},
   "outputs": [],
   "source": [
    "rougher_smape_test_const = constant_test(features_train, target_train_rougher, features_test, target_test_rougher)\n",
    "final_smape_test_const = constant_test(features_train, target_train_final, features_test, target_test_final)\n",
    "total_smape_test_const = total_smape(rougher_smape_test_const, final_smape_test_const)"
   ]
  },
  {
   "cell_type": "code",
   "execution_count": 53,
   "metadata": {
    "scrolled": false
   },
   "outputs": [
    {
     "name": "stdout",
     "output_type": "stream",
     "text": [
      "rougher sMAPE на константной выборке 6.094753468638436\n",
      "final sMAPE на тестовой выборке 9.257293647531315\n",
      "total sMAPE на тестовой выборке 8.466658602808096\n"
     ]
    }
   ],
   "source": [
    "print(f'rougher sMAPE на константной выборке {rougher_smape_test_const}')\n",
    "print(f'final sMAPE на тестовой выборке {final_smape_test_const}')\n",
    "print(f'total sMAPE на тестовой выборке {total_smape_test_const}')"
   ]
  },
  {
   "cell_type": "markdown",
   "metadata": {},
   "source": [
    "sMAPE на константной выборке выше, чем на тестовой. Можель можно считать адекватной."
   ]
  },
  {
   "cell_type": "markdown",
   "metadata": {},
   "source": [
    "<b>Вывод:</b> перед нами стояла задача подготовки прототипа модели машинного обучения по предсказанию коэфициента восстановления золота из золотосодержащей руды. Для того, чтобы подготовить прототип, мы провели следующие этапы работы:\n",
    "1) загрузили и ознакомились с данными\n",
    "\n",
    "2) проверили, что эффективность обогазения рассчитана верно\n",
    "\n",
    "3) Добавили недостающие целевые столбики втестовую выборку для оценки качества модели\n",
    "\n",
    "4) Увидели, что показателей, которые считаются после проведения этапов флотации и очистки, не хватает в тестовой выборке\n",
    "\n",
    "5) Заменили пропуски ближайщими значениями\n",
    "\n",
    "6) Избавились от небольшого количества нулевых значений, которые могли помешать обучению\n",
    "\n",
    "7) Увидели, что концентрация металлов возрастает на каждом этапе\n",
    "\n",
    "8) Увидели, что распределение размеров гранул на обучающей и тестовой выборках совпадают\n",
    "\n",
    "9) Увидели, что суммарная концентрация металлов возрастает на каждом этапе\n",
    "\n",
    "10) Обучили несколько моделей, подобрали наилучшие параметры и оценили качество с помощью валидации и метрики sMape для Rougher и Final этапов.\n",
    "\n",
    "Лучшая модель и парметры для Rougher этапа:\n",
    "\n",
    "Случайный лес \n",
    "\n",
    "depth = 4\n",
    "\n",
    "estimators = 41\n",
    "\n",
    "учшая модель и парметры для Final этапа:\n",
    "\n",
    "Случайный лес \n",
    "\n",
    "depth = 2\n",
    "\n",
    "estimators = 6\n",
    "\n",
    "rougher sMAPE на тренировочной выборке 6.353403313266012\n",
    "\n",
    "final sMAPE на тренировочной выборке 8.642113350678812\n",
    "\n",
    "total sMAPE на тренировочной выборке 8.069935841325613\n",
    "\n",
    "rougher sMAPE на тестовой выборке 4.047971152088125\n",
    "\n",
    "final sMAPE на тестовой выборке 8.530416432843461\n",
    "\n",
    "total sMAPE на тестовой выборке 7.409805112654627"
   ]
  }
 ],
 "metadata": {
  "ExecuteTimeLog": [
   {
    "duration": 1295,
    "start_time": "2023-05-10T07:02:35.424Z"
   },
   {
    "duration": 1144,
    "start_time": "2023-05-10T07:03:41.784Z"
   },
   {
    "duration": 879,
    "start_time": "2023-05-10T07:04:25.589Z"
   },
   {
    "duration": 395,
    "start_time": "2023-05-10T07:04:35.109Z"
   },
   {
    "duration": 2297,
    "start_time": "2023-05-10T07:06:45.474Z"
   },
   {
    "duration": 869,
    "start_time": "2023-05-10T07:22:50.563Z"
   },
   {
    "duration": 755,
    "start_time": "2023-05-10T07:23:34.201Z"
   },
   {
    "duration": 78,
    "start_time": "2023-05-10T07:23:36.721Z"
   },
   {
    "duration": 61,
    "start_time": "2023-05-10T07:23:45.315Z"
   },
   {
    "duration": 37,
    "start_time": "2023-05-10T07:23:52.270Z"
   },
   {
    "duration": 58,
    "start_time": "2023-05-10T07:23:54.701Z"
   },
   {
    "duration": 110,
    "start_time": "2023-05-10T07:56:40.625Z"
   },
   {
    "duration": 6,
    "start_time": "2023-05-10T07:56:49.700Z"
   },
   {
    "duration": 5,
    "start_time": "2023-05-10T10:06:44.428Z"
   },
   {
    "duration": 11,
    "start_time": "2023-05-10T10:37:55.704Z"
   },
   {
    "duration": 4,
    "start_time": "2023-05-10T10:40:03.323Z"
   },
   {
    "duration": 4,
    "start_time": "2023-05-10T10:40:24.023Z"
   },
   {
    "duration": 12,
    "start_time": "2023-05-10T10:40:37.182Z"
   },
   {
    "duration": 4,
    "start_time": "2023-05-10T10:41:35.598Z"
   },
   {
    "duration": 3,
    "start_time": "2023-05-10T10:47:34.324Z"
   },
   {
    "duration": 10,
    "start_time": "2023-05-10T10:48:15.743Z"
   },
   {
    "duration": 3,
    "start_time": "2023-05-10T10:48:17.912Z"
   },
   {
    "duration": 8,
    "start_time": "2023-05-10T10:49:19.773Z"
   },
   {
    "duration": 5,
    "start_time": "2023-05-10T10:49:46.927Z"
   },
   {
    "duration": 3,
    "start_time": "2023-05-10T10:49:57.132Z"
   },
   {
    "duration": 4,
    "start_time": "2023-05-10T10:54:47.181Z"
   },
   {
    "duration": 5,
    "start_time": "2023-05-10T10:54:49.655Z"
   },
   {
    "duration": 4,
    "start_time": "2023-05-10T10:54:51.572Z"
   },
   {
    "duration": 11,
    "start_time": "2023-05-10T11:00:29.581Z"
   },
   {
    "duration": 5,
    "start_time": "2023-05-10T11:11:12.558Z"
   },
   {
    "duration": 15,
    "start_time": "2023-05-10T11:11:21.956Z"
   },
   {
    "duration": 4,
    "start_time": "2023-05-10T11:11:50.059Z"
   },
   {
    "duration": 4,
    "start_time": "2023-05-10T11:12:12.380Z"
   },
   {
    "duration": 4,
    "start_time": "2023-05-10T11:12:25.086Z"
   },
   {
    "duration": 1232,
    "start_time": "2023-05-10T11:18:06.697Z"
   },
   {
    "duration": 840,
    "start_time": "2023-05-10T11:18:07.931Z"
   },
   {
    "duration": 51,
    "start_time": "2023-05-10T11:18:08.772Z"
   },
   {
    "duration": 120,
    "start_time": "2023-05-10T11:18:08.825Z"
   },
   {
    "duration": 80,
    "start_time": "2023-05-10T11:18:08.948Z"
   },
   {
    "duration": 23,
    "start_time": "2023-05-10T11:18:09.030Z"
   },
   {
    "duration": 16,
    "start_time": "2023-05-10T11:18:09.059Z"
   },
   {
    "duration": 12,
    "start_time": "2023-05-10T11:18:09.077Z"
   },
   {
    "duration": 25,
    "start_time": "2023-05-10T11:18:09.091Z"
   },
   {
    "duration": 57,
    "start_time": "2023-05-10T11:18:09.118Z"
   },
   {
    "duration": 204,
    "start_time": "2023-05-10T11:19:40.133Z"
   },
   {
    "duration": 4,
    "start_time": "2023-05-10T13:37:15.530Z"
   },
   {
    "duration": 4,
    "start_time": "2023-05-10T13:37:25.575Z"
   },
   {
    "duration": 4,
    "start_time": "2023-05-10T13:38:38.707Z"
   },
   {
    "duration": 6,
    "start_time": "2023-05-10T13:38:41.888Z"
   },
   {
    "duration": 1290,
    "start_time": "2023-05-10T13:39:03.935Z"
   },
   {
    "duration": 1032,
    "start_time": "2023-05-10T13:39:05.228Z"
   },
   {
    "duration": 80,
    "start_time": "2023-05-10T13:39:06.262Z"
   },
   {
    "duration": 80,
    "start_time": "2023-05-10T13:39:06.344Z"
   },
   {
    "duration": 93,
    "start_time": "2023-05-10T13:39:06.442Z"
   },
   {
    "duration": 4,
    "start_time": "2023-05-10T13:39:06.536Z"
   },
   {
    "duration": 28,
    "start_time": "2023-05-10T13:39:06.542Z"
   },
   {
    "duration": 11,
    "start_time": "2023-05-10T13:39:06.572Z"
   },
   {
    "duration": 12,
    "start_time": "2023-05-10T13:39:06.586Z"
   },
   {
    "duration": 27,
    "start_time": "2023-05-10T13:39:06.601Z"
   },
   {
    "duration": 69,
    "start_time": "2023-05-10T13:39:06.630Z"
   },
   {
    "duration": 0,
    "start_time": "2023-05-10T13:39:06.702Z"
   },
   {
    "duration": 3,
    "start_time": "2023-05-10T13:42:29.159Z"
   },
   {
    "duration": 4,
    "start_time": "2023-05-10T13:42:38.266Z"
   },
   {
    "duration": 5,
    "start_time": "2023-05-10T13:43:02.334Z"
   },
   {
    "duration": 3,
    "start_time": "2023-05-10T13:43:50.418Z"
   },
   {
    "duration": 4,
    "start_time": "2023-05-10T13:43:53.658Z"
   },
   {
    "duration": 5,
    "start_time": "2023-05-10T13:45:09.059Z"
   },
   {
    "duration": 3,
    "start_time": "2023-05-10T13:45:11.478Z"
   },
   {
    "duration": 6,
    "start_time": "2023-05-10T13:45:13.891Z"
   },
   {
    "duration": 4,
    "start_time": "2023-05-10T13:45:26.125Z"
   },
   {
    "duration": 4,
    "start_time": "2023-05-10T13:45:28.399Z"
   },
   {
    "duration": 4,
    "start_time": "2023-05-10T13:45:36.600Z"
   },
   {
    "duration": 6,
    "start_time": "2023-05-10T13:45:38.763Z"
   },
   {
    "duration": 5,
    "start_time": "2023-05-10T13:47:25.633Z"
   },
   {
    "duration": 5,
    "start_time": "2023-05-10T13:49:31.857Z"
   },
   {
    "duration": 156,
    "start_time": "2023-05-10T14:08:36.699Z"
   },
   {
    "duration": 200,
    "start_time": "2023-05-10T14:08:59.540Z"
   },
   {
    "duration": 5,
    "start_time": "2023-05-10T14:10:00.037Z"
   },
   {
    "duration": 153,
    "start_time": "2023-05-10T14:10:07.030Z"
   },
   {
    "duration": 160,
    "start_time": "2023-05-10T14:13:55.166Z"
   },
   {
    "duration": 10,
    "start_time": "2023-05-10T14:14:31.565Z"
   },
   {
    "duration": 1087,
    "start_time": "2023-05-11T05:12:03.231Z"
   },
   {
    "duration": 813,
    "start_time": "2023-05-11T05:12:04.320Z"
   },
   {
    "duration": 46,
    "start_time": "2023-05-11T05:12:05.135Z"
   },
   {
    "duration": 78,
    "start_time": "2023-05-11T05:12:05.183Z"
   },
   {
    "duration": 54,
    "start_time": "2023-05-11T05:12:05.264Z"
   },
   {
    "duration": 104,
    "start_time": "2023-05-11T05:12:05.321Z"
   },
   {
    "duration": 0,
    "start_time": "2023-05-11T05:12:05.428Z"
   },
   {
    "duration": 0,
    "start_time": "2023-05-11T05:12:05.428Z"
   },
   {
    "duration": 8,
    "start_time": "2023-05-11T05:12:34.949Z"
   },
   {
    "duration": 4,
    "start_time": "2023-05-11T05:12:39.652Z"
   },
   {
    "duration": 5,
    "start_time": "2023-05-11T05:12:42.121Z"
   },
   {
    "duration": 306,
    "start_time": "2023-05-11T05:14:58.235Z"
   },
   {
    "duration": 4,
    "start_time": "2023-05-11T05:15:48.152Z"
   },
   {
    "duration": 8390,
    "start_time": "2023-05-11T05:16:06.077Z"
   },
   {
    "duration": 5,
    "start_time": "2023-05-11T05:16:33.953Z"
   },
   {
    "duration": 8130,
    "start_time": "2023-05-11T05:16:36.155Z"
   },
   {
    "duration": 5,
    "start_time": "2023-05-11T05:17:31.026Z"
   },
   {
    "duration": 459,
    "start_time": "2023-05-11T05:17:33.829Z"
   },
   {
    "duration": 5,
    "start_time": "2023-05-11T05:21:13.592Z"
   },
   {
    "duration": 1077,
    "start_time": "2023-05-11T05:21:15.798Z"
   },
   {
    "duration": 5,
    "start_time": "2023-05-11T05:21:51.040Z"
   },
   {
    "duration": 1730,
    "start_time": "2023-05-11T05:21:53.441Z"
   },
   {
    "duration": 5,
    "start_time": "2023-05-11T05:25:09.974Z"
   },
   {
    "duration": 475,
    "start_time": "2023-05-11T05:25:12.292Z"
   },
   {
    "duration": 17,
    "start_time": "2023-05-11T06:13:27.542Z"
   },
   {
    "duration": 22,
    "start_time": "2023-05-11T06:13:55.781Z"
   },
   {
    "duration": 7288,
    "start_time": "2023-05-11T06:15:08.712Z"
   },
   {
    "duration": 24,
    "start_time": "2023-05-11T06:15:47.477Z"
   },
   {
    "duration": 7,
    "start_time": "2023-05-11T06:16:35.515Z"
   },
   {
    "duration": 18,
    "start_time": "2023-05-11T06:16:50.586Z"
   },
   {
    "duration": 1572,
    "start_time": "2023-05-11T12:48:11.147Z"
   },
   {
    "duration": 983,
    "start_time": "2023-05-11T12:48:12.722Z"
   },
   {
    "duration": 52,
    "start_time": "2023-05-11T12:48:13.707Z"
   },
   {
    "duration": 72,
    "start_time": "2023-05-11T12:48:13.772Z"
   },
   {
    "duration": 92,
    "start_time": "2023-05-11T12:48:13.846Z"
   },
   {
    "duration": 12,
    "start_time": "2023-05-11T12:48:13.941Z"
   },
   {
    "duration": 32,
    "start_time": "2023-05-11T12:48:13.955Z"
   },
   {
    "duration": 30,
    "start_time": "2023-05-11T12:48:13.989Z"
   },
   {
    "duration": 61,
    "start_time": "2023-05-11T12:48:14.021Z"
   },
   {
    "duration": 1077,
    "start_time": "2023-05-11T12:48:14.086Z"
   },
   {
    "duration": 22,
    "start_time": "2023-05-11T12:48:15.175Z"
   },
   {
    "duration": 21,
    "start_time": "2023-05-11T12:48:15.200Z"
   },
   {
    "duration": 43,
    "start_time": "2023-05-11T12:48:15.223Z"
   },
   {
    "duration": 51,
    "start_time": "2023-05-11T12:48:15.269Z"
   },
   {
    "duration": 13,
    "start_time": "2023-05-11T12:48:15.322Z"
   },
   {
    "duration": 35,
    "start_time": "2023-05-11T12:48:33.214Z"
   },
   {
    "duration": 28,
    "start_time": "2023-05-11T12:48:44.756Z"
   },
   {
    "duration": 5,
    "start_time": "2023-05-11T12:50:11.720Z"
   },
   {
    "duration": 566,
    "start_time": "2023-05-11T12:50:13.981Z"
   },
   {
    "duration": 218,
    "start_time": "2023-05-11T12:50:49.549Z"
   },
   {
    "duration": 595,
    "start_time": "2023-05-11T12:51:12.496Z"
   },
   {
    "duration": 5,
    "start_time": "2023-05-11T12:53:42.894Z"
   },
   {
    "duration": 504,
    "start_time": "2023-05-11T12:53:45.437Z"
   },
   {
    "duration": 463,
    "start_time": "2023-05-11T12:53:53.451Z"
   },
   {
    "duration": 236,
    "start_time": "2023-05-11T12:53:57.747Z"
   },
   {
    "duration": 5,
    "start_time": "2023-05-11T12:56:18.436Z"
   },
   {
    "duration": 4378,
    "start_time": "2023-05-11T13:33:00.566Z"
   },
   {
    "duration": 22,
    "start_time": "2023-05-11T14:02:28.582Z"
   },
   {
    "duration": 11,
    "start_time": "2023-05-11T14:03:58.645Z"
   },
   {
    "duration": 5,
    "start_time": "2023-05-11T14:04:12.410Z"
   },
   {
    "duration": 5,
    "start_time": "2023-05-11T14:05:16.022Z"
   },
   {
    "duration": 60,
    "start_time": "2023-05-11T14:05:52.646Z"
   },
   {
    "duration": 5,
    "start_time": "2023-05-11T14:06:45.990Z"
   },
   {
    "duration": 21,
    "start_time": "2023-05-11T14:10:30.349Z"
   },
   {
    "duration": 7,
    "start_time": "2023-05-11T14:13:42.396Z"
   },
   {
    "duration": 5,
    "start_time": "2023-05-11T14:13:59.430Z"
   },
   {
    "duration": 6,
    "start_time": "2023-05-11T14:14:13.509Z"
   },
   {
    "duration": 4,
    "start_time": "2023-05-11T14:15:10.229Z"
   },
   {
    "duration": 19,
    "start_time": "2023-05-11T14:23:12.056Z"
   },
   {
    "duration": 1066,
    "start_time": "2023-05-12T06:39:17.817Z"
   },
   {
    "duration": 2891,
    "start_time": "2023-05-12T06:39:18.885Z"
   },
   {
    "duration": 42,
    "start_time": "2023-05-12T06:39:21.778Z"
   },
   {
    "duration": 69,
    "start_time": "2023-05-12T06:39:21.823Z"
   },
   {
    "duration": 56,
    "start_time": "2023-05-12T06:39:21.894Z"
   },
   {
    "duration": 30,
    "start_time": "2023-05-12T06:39:21.952Z"
   },
   {
    "duration": 112,
    "start_time": "2023-05-12T06:39:21.984Z"
   },
   {
    "duration": 0,
    "start_time": "2023-05-12T06:39:22.099Z"
   },
   {
    "duration": 0,
    "start_time": "2023-05-12T06:39:22.100Z"
   },
   {
    "duration": 0,
    "start_time": "2023-05-12T06:39:22.101Z"
   },
   {
    "duration": 0,
    "start_time": "2023-05-12T06:39:22.102Z"
   },
   {
    "duration": 0,
    "start_time": "2023-05-12T06:39:22.103Z"
   },
   {
    "duration": 0,
    "start_time": "2023-05-12T06:39:22.104Z"
   },
   {
    "duration": 0,
    "start_time": "2023-05-12T06:39:22.105Z"
   },
   {
    "duration": 0,
    "start_time": "2023-05-12T06:39:22.106Z"
   },
   {
    "duration": 0,
    "start_time": "2023-05-12T06:39:22.107Z"
   },
   {
    "duration": 0,
    "start_time": "2023-05-12T06:39:22.108Z"
   },
   {
    "duration": 3,
    "start_time": "2023-05-12T06:39:49.545Z"
   },
   {
    "duration": 3,
    "start_time": "2023-05-12T06:39:52.265Z"
   },
   {
    "duration": 5,
    "start_time": "2023-05-12T06:39:54.335Z"
   },
   {
    "duration": 4,
    "start_time": "2023-05-12T06:39:59.110Z"
   },
   {
    "duration": 865,
    "start_time": "2023-05-12T06:40:01.122Z"
   },
   {
    "duration": 422,
    "start_time": "2023-05-12T06:40:05.686Z"
   },
   {
    "duration": 155,
    "start_time": "2023-05-12T06:40:08.851Z"
   },
   {
    "duration": 5,
    "start_time": "2023-05-12T06:40:14.504Z"
   },
   {
    "duration": 9,
    "start_time": "2023-05-12T06:40:16.692Z"
   },
   {
    "duration": 9,
    "start_time": "2023-05-12T06:40:19.298Z"
   },
   {
    "duration": 9,
    "start_time": "2023-05-12T06:40:21.075Z"
   },
   {
    "duration": 253,
    "start_time": "2023-05-12T07:14:38.154Z"
   },
   {
    "duration": 176,
    "start_time": "2023-05-12T07:15:41.353Z"
   },
   {
    "duration": 354,
    "start_time": "2023-05-12T07:16:53.214Z"
   },
   {
    "duration": 325,
    "start_time": "2023-05-12T07:20:01.415Z"
   },
   {
    "duration": 267,
    "start_time": "2023-05-12T07:20:20.872Z"
   },
   {
    "duration": 12,
    "start_time": "2023-05-12T07:20:56.257Z"
   },
   {
    "duration": 7,
    "start_time": "2023-05-12T07:21:05.611Z"
   },
   {
    "duration": 619,
    "start_time": "2023-05-12T07:21:11.082Z"
   },
   {
    "duration": 277,
    "start_time": "2023-05-12T07:40:41.874Z"
   },
   {
    "duration": 579,
    "start_time": "2023-05-12T07:41:15.768Z"
   },
   {
    "duration": 555,
    "start_time": "2023-05-12T07:41:53.899Z"
   },
   {
    "duration": 549,
    "start_time": "2023-05-12T07:42:03.201Z"
   },
   {
    "duration": 833,
    "start_time": "2023-05-12T07:42:55.863Z"
   },
   {
    "duration": 747,
    "start_time": "2023-05-12T07:44:31.277Z"
   },
   {
    "duration": 812,
    "start_time": "2023-05-12T07:45:09.607Z"
   },
   {
    "duration": 714,
    "start_time": "2023-05-12T10:22:13.922Z"
   },
   {
    "duration": 877,
    "start_time": "2023-05-12T10:22:20.460Z"
   },
   {
    "duration": 735,
    "start_time": "2023-05-12T10:22:31.785Z"
   },
   {
    "duration": 826,
    "start_time": "2023-05-12T10:22:41.810Z"
   },
   {
    "duration": 732,
    "start_time": "2023-05-12T10:23:09.066Z"
   },
   {
    "duration": 868,
    "start_time": "2023-05-12T10:23:16.757Z"
   },
   {
    "duration": 7,
    "start_time": "2023-05-12T10:26:58.692Z"
   },
   {
    "duration": 12,
    "start_time": "2023-05-12T10:28:48.500Z"
   },
   {
    "duration": 9,
    "start_time": "2023-05-12T10:28:56.992Z"
   },
   {
    "duration": 9,
    "start_time": "2023-05-12T10:29:03.009Z"
   },
   {
    "duration": 12,
    "start_time": "2023-05-12T10:29:47.796Z"
   },
   {
    "duration": 31,
    "start_time": "2023-05-12T10:30:08.694Z"
   },
   {
    "duration": 5,
    "start_time": "2023-05-12T10:30:43.908Z"
   },
   {
    "duration": 690,
    "start_time": "2023-05-12T10:30:46.797Z"
   },
   {
    "duration": 5,
    "start_time": "2023-05-12T10:31:14.595Z"
   },
   {
    "duration": 699,
    "start_time": "2023-05-12T10:31:16.445Z"
   },
   {
    "duration": 11,
    "start_time": "2023-05-12T10:36:43.102Z"
   },
   {
    "duration": 6,
    "start_time": "2023-05-12T10:40:29.394Z"
   },
   {
    "duration": 1043,
    "start_time": "2023-05-12T10:40:31.895Z"
   },
   {
    "duration": 5,
    "start_time": "2023-05-12T10:47:36.253Z"
   },
   {
    "duration": 957,
    "start_time": "2023-05-12T10:47:39.193Z"
   },
   {
    "duration": 5,
    "start_time": "2023-05-12T10:48:25.824Z"
   },
   {
    "duration": 876,
    "start_time": "2023-05-12T10:48:28.514Z"
   },
   {
    "duration": 6,
    "start_time": "2023-05-12T10:49:00.191Z"
   },
   {
    "duration": 1072,
    "start_time": "2023-05-12T10:49:10.475Z"
   },
   {
    "duration": 5,
    "start_time": "2023-05-12T10:49:47.371Z"
   },
   {
    "duration": 865,
    "start_time": "2023-05-12T10:49:50.492Z"
   },
   {
    "duration": 5,
    "start_time": "2023-05-12T10:51:09.027Z"
   },
   {
    "duration": 1020,
    "start_time": "2023-05-12T10:51:11.375Z"
   },
   {
    "duration": 997,
    "start_time": "2023-05-12T10:52:27.005Z"
   },
   {
    "duration": 1100,
    "start_time": "2023-05-12T10:56:27.298Z"
   },
   {
    "duration": 327,
    "start_time": "2023-05-12T11:02:16.113Z"
   },
   {
    "duration": 500,
    "start_time": "2023-05-12T11:03:25.944Z"
   },
   {
    "duration": 590,
    "start_time": "2023-05-12T11:04:51.213Z"
   },
   {
    "duration": 360,
    "start_time": "2023-05-12T11:05:50.643Z"
   },
   {
    "duration": 184,
    "start_time": "2023-05-12T11:06:26.497Z"
   },
   {
    "duration": 171,
    "start_time": "2023-05-12T11:06:51.506Z"
   },
   {
    "duration": 171,
    "start_time": "2023-05-12T11:08:53.419Z"
   },
   {
    "duration": 196,
    "start_time": "2023-05-12T11:09:37.289Z"
   },
   {
    "duration": 194,
    "start_time": "2023-05-12T11:10:02.257Z"
   },
   {
    "duration": 19,
    "start_time": "2023-05-12T11:37:29.508Z"
   },
   {
    "duration": 10,
    "start_time": "2023-05-12T11:39:58.192Z"
   },
   {
    "duration": 90,
    "start_time": "2023-05-12T11:41:02.101Z"
   },
   {
    "duration": 1402,
    "start_time": "2023-05-12T11:41:21.701Z"
   },
   {
    "duration": 1356,
    "start_time": "2023-05-12T11:42:06.597Z"
   },
   {
    "duration": 10,
    "start_time": "2023-05-12T11:47:27.709Z"
   },
   {
    "duration": 1461,
    "start_time": "2023-05-12T11:48:30.085Z"
   },
   {
    "duration": 157,
    "start_time": "2023-05-12T11:49:00.798Z"
   },
   {
    "duration": 14,
    "start_time": "2023-05-12T11:52:39.875Z"
   },
   {
    "duration": 158,
    "start_time": "2023-05-12T11:52:50.832Z"
   },
   {
    "duration": 78,
    "start_time": "2023-05-12T11:53:06.663Z"
   },
   {
    "duration": 6,
    "start_time": "2023-05-12T11:54:27.008Z"
   },
   {
    "duration": 140,
    "start_time": "2023-05-12T11:54:36.019Z"
   },
   {
    "duration": 90,
    "start_time": "2023-05-12T11:57:19.559Z"
   },
   {
    "duration": 3,
    "start_time": "2023-05-12T11:57:28.852Z"
   },
   {
    "duration": 10,
    "start_time": "2023-05-12T11:59:27.151Z"
   },
   {
    "duration": 149,
    "start_time": "2023-05-12T11:59:42.936Z"
   },
   {
    "duration": 137,
    "start_time": "2023-05-12T12:01:44.092Z"
   },
   {
    "duration": 146,
    "start_time": "2023-05-12T12:03:16.112Z"
   },
   {
    "duration": 132,
    "start_time": "2023-05-12T12:05:06.326Z"
   },
   {
    "duration": 148,
    "start_time": "2023-05-12T12:06:23.091Z"
   },
   {
    "duration": 15,
    "start_time": "2023-05-12T12:08:31.811Z"
   },
   {
    "duration": 150,
    "start_time": "2023-05-12T12:09:08.751Z"
   },
   {
    "duration": 10,
    "start_time": "2023-05-12T12:09:23.297Z"
   },
   {
    "duration": 11,
    "start_time": "2023-05-12T12:10:45.931Z"
   },
   {
    "duration": 12,
    "start_time": "2023-05-12T12:11:27.434Z"
   },
   {
    "duration": 3,
    "start_time": "2023-05-12T12:11:35.306Z"
   },
   {
    "duration": 5,
    "start_time": "2023-05-12T12:11:37.593Z"
   },
   {
    "duration": 165,
    "start_time": "2023-05-12T12:11:44.791Z"
   },
   {
    "duration": 188,
    "start_time": "2023-05-12T12:16:16.124Z"
   },
   {
    "duration": 8,
    "start_time": "2023-05-12T12:16:19.400Z"
   },
   {
    "duration": 220,
    "start_time": "2023-05-12T12:17:56.777Z"
   },
   {
    "duration": 78,
    "start_time": "2023-05-12T12:21:08.437Z"
   },
   {
    "duration": 307,
    "start_time": "2023-05-12T12:21:21.178Z"
   },
   {
    "duration": 220,
    "start_time": "2023-05-12T12:23:06.121Z"
   },
   {
    "duration": 242,
    "start_time": "2023-05-12T12:23:49.706Z"
   },
   {
    "duration": 236,
    "start_time": "2023-05-12T12:24:01.292Z"
   },
   {
    "duration": 256,
    "start_time": "2023-05-12T12:24:10.542Z"
   },
   {
    "duration": 249,
    "start_time": "2023-05-12T12:24:18.956Z"
   },
   {
    "duration": 286,
    "start_time": "2023-05-12T12:24:27.307Z"
   },
   {
    "duration": 247,
    "start_time": "2023-05-12T12:25:05.826Z"
   },
   {
    "duration": 248,
    "start_time": "2023-05-12T12:25:18.989Z"
   },
   {
    "duration": 193,
    "start_time": "2023-05-12T12:25:44.413Z"
   },
   {
    "duration": 196,
    "start_time": "2023-05-12T12:25:49.618Z"
   },
   {
    "duration": 329,
    "start_time": "2023-05-12T12:25:58.805Z"
   },
   {
    "duration": 248,
    "start_time": "2023-05-12T12:26:16.201Z"
   },
   {
    "duration": 1506,
    "start_time": "2023-05-12T12:57:33.102Z"
   },
   {
    "duration": 911,
    "start_time": "2023-05-12T12:57:34.610Z"
   },
   {
    "duration": 50,
    "start_time": "2023-05-12T12:57:35.523Z"
   },
   {
    "duration": 66,
    "start_time": "2023-05-12T12:57:35.578Z"
   },
   {
    "duration": 85,
    "start_time": "2023-05-12T12:57:35.647Z"
   },
   {
    "duration": 10,
    "start_time": "2023-05-12T12:57:35.734Z"
   },
   {
    "duration": 24,
    "start_time": "2023-05-12T12:57:35.746Z"
   },
   {
    "duration": 39,
    "start_time": "2023-05-12T12:57:35.772Z"
   },
   {
    "duration": 15,
    "start_time": "2023-05-12T12:57:35.812Z"
   },
   {
    "duration": 8,
    "start_time": "2023-05-12T12:57:35.829Z"
   },
   {
    "duration": 482,
    "start_time": "2023-05-12T12:57:35.839Z"
   },
   {
    "duration": 439,
    "start_time": "2023-05-12T12:57:36.322Z"
   },
   {
    "duration": 195,
    "start_time": "2023-05-12T12:57:36.763Z"
   },
   {
    "duration": 17,
    "start_time": "2023-05-12T12:57:36.962Z"
   },
   {
    "duration": 15,
    "start_time": "2023-05-12T12:57:36.981Z"
   },
   {
    "duration": 14,
    "start_time": "2023-05-12T12:57:36.998Z"
   },
   {
    "duration": 37,
    "start_time": "2023-05-12T12:57:37.014Z"
   },
   {
    "duration": 16,
    "start_time": "2023-05-12T12:57:37.053Z"
   },
   {
    "duration": 1135,
    "start_time": "2023-05-12T12:57:37.071Z"
   },
   {
    "duration": 901,
    "start_time": "2023-05-12T12:57:38.208Z"
   },
   {
    "duration": 1083,
    "start_time": "2023-05-12T12:57:39.111Z"
   },
   {
    "duration": 238,
    "start_time": "2023-05-12T12:57:40.196Z"
   },
   {
    "duration": 3,
    "start_time": "2023-05-12T12:57:40.436Z"
   },
   {
    "duration": 23,
    "start_time": "2023-05-12T12:57:40.441Z"
   },
   {
    "duration": 292,
    "start_time": "2023-05-12T12:57:40.466Z"
   },
   {
    "duration": 22,
    "start_time": "2023-05-12T13:01:16.128Z"
   },
   {
    "duration": 3,
    "start_time": "2023-05-12T13:01:39.741Z"
   },
   {
    "duration": 1418,
    "start_time": "2023-05-12T13:04:30.205Z"
   },
   {
    "duration": 795,
    "start_time": "2023-05-12T13:04:31.626Z"
   },
   {
    "duration": 41,
    "start_time": "2023-05-12T13:04:32.423Z"
   },
   {
    "duration": 64,
    "start_time": "2023-05-12T13:04:32.465Z"
   },
   {
    "duration": 66,
    "start_time": "2023-05-12T13:04:32.531Z"
   },
   {
    "duration": 8,
    "start_time": "2023-05-12T13:04:32.598Z"
   },
   {
    "duration": 24,
    "start_time": "2023-05-12T13:04:32.608Z"
   },
   {
    "duration": 6,
    "start_time": "2023-05-12T13:04:32.634Z"
   },
   {
    "duration": 45,
    "start_time": "2023-05-12T13:04:32.641Z"
   },
   {
    "duration": 33,
    "start_time": "2023-05-12T13:04:32.688Z"
   },
   {
    "duration": 488,
    "start_time": "2023-05-12T13:04:32.722Z"
   },
   {
    "duration": 414,
    "start_time": "2023-05-12T13:04:33.211Z"
   },
   {
    "duration": 198,
    "start_time": "2023-05-12T13:04:33.627Z"
   },
   {
    "duration": 5,
    "start_time": "2023-05-12T13:04:33.827Z"
   },
   {
    "duration": 41,
    "start_time": "2023-05-12T13:04:33.833Z"
   },
   {
    "duration": 22,
    "start_time": "2023-05-12T13:04:33.876Z"
   },
   {
    "duration": 30,
    "start_time": "2023-05-12T13:04:33.900Z"
   },
   {
    "duration": 19,
    "start_time": "2023-05-12T13:04:33.932Z"
   },
   {
    "duration": 1044,
    "start_time": "2023-05-12T13:04:33.953Z"
   },
   {
    "duration": 902,
    "start_time": "2023-05-12T13:04:34.999Z"
   },
   {
    "duration": 999,
    "start_time": "2023-05-12T13:04:35.903Z"
   },
   {
    "duration": 206,
    "start_time": "2023-05-12T13:04:36.904Z"
   },
   {
    "duration": 3,
    "start_time": "2023-05-12T13:04:37.112Z"
   },
   {
    "duration": 11,
    "start_time": "2023-05-12T13:04:37.116Z"
   },
   {
    "duration": 264,
    "start_time": "2023-05-12T13:04:37.128Z"
   },
   {
    "duration": 4,
    "start_time": "2023-05-12T13:06:05.345Z"
   },
   {
    "duration": 4,
    "start_time": "2023-05-12T13:06:33.222Z"
   },
   {
    "duration": 5,
    "start_time": "2023-05-12T13:06:36.491Z"
   },
   {
    "duration": 3,
    "start_time": "2023-05-12T13:06:55.418Z"
   },
   {
    "duration": 25,
    "start_time": "2023-05-12T13:19:04.592Z"
   },
   {
    "duration": 13,
    "start_time": "2023-05-12T13:23:21.795Z"
   },
   {
    "duration": 165,
    "start_time": "2023-05-12T13:30:44.009Z"
   },
   {
    "duration": 165,
    "start_time": "2023-05-12T13:35:40.658Z"
   },
   {
    "duration": 44,
    "start_time": "2023-05-12T13:36:26.382Z"
   },
   {
    "duration": 36,
    "start_time": "2023-05-12T13:36:33.593Z"
   },
   {
    "duration": 112,
    "start_time": "2023-05-12T13:37:06.910Z"
   },
   {
    "duration": 32,
    "start_time": "2023-05-12T13:37:22.723Z"
   },
   {
    "duration": 179,
    "start_time": "2023-05-12T13:41:11.216Z"
   },
   {
    "duration": 37,
    "start_time": "2023-05-12T13:41:59.105Z"
   },
   {
    "duration": 36,
    "start_time": "2023-05-12T13:42:48.935Z"
   },
   {
    "duration": 54,
    "start_time": "2023-05-12T13:57:51.545Z"
   },
   {
    "duration": 40,
    "start_time": "2023-05-12T13:58:13.336Z"
   },
   {
    "duration": 36,
    "start_time": "2023-05-12T13:58:38.807Z"
   },
   {
    "duration": 50,
    "start_time": "2023-05-12T13:58:51.981Z"
   },
   {
    "duration": 53,
    "start_time": "2023-05-12T14:37:53.504Z"
   },
   {
    "duration": 34,
    "start_time": "2023-05-12T14:39:41.395Z"
   },
   {
    "duration": 5,
    "start_time": "2023-05-12T14:40:01.213Z"
   },
   {
    "duration": 4,
    "start_time": "2023-05-12T14:40:21.517Z"
   },
   {
    "duration": 5,
    "start_time": "2023-05-12T14:42:07.509Z"
   },
   {
    "duration": 17,
    "start_time": "2023-05-12T14:51:00.495Z"
   },
   {
    "duration": 22,
    "start_time": "2023-05-12T14:52:49.106Z"
   },
   {
    "duration": 1395,
    "start_time": "2023-05-12T14:53:06.734Z"
   },
   {
    "duration": 763,
    "start_time": "2023-05-12T14:53:08.132Z"
   },
   {
    "duration": 39,
    "start_time": "2023-05-12T14:53:08.896Z"
   },
   {
    "duration": 70,
    "start_time": "2023-05-12T14:53:08.937Z"
   },
   {
    "duration": 55,
    "start_time": "2023-05-12T14:53:09.009Z"
   },
   {
    "duration": 9,
    "start_time": "2023-05-12T14:53:09.079Z"
   },
   {
    "duration": 18,
    "start_time": "2023-05-12T14:53:09.089Z"
   },
   {
    "duration": 3,
    "start_time": "2023-05-12T14:53:09.108Z"
   },
   {
    "duration": 9,
    "start_time": "2023-05-12T14:53:09.113Z"
   },
   {
    "duration": 18,
    "start_time": "2023-05-12T14:53:09.124Z"
   },
   {
    "duration": 461,
    "start_time": "2023-05-12T14:53:09.144Z"
   },
   {
    "duration": 424,
    "start_time": "2023-05-12T14:53:09.607Z"
   },
   {
    "duration": 205,
    "start_time": "2023-05-12T14:53:10.032Z"
   },
   {
    "duration": 6,
    "start_time": "2023-05-12T14:53:10.241Z"
   },
   {
    "duration": 29,
    "start_time": "2023-05-12T14:53:10.249Z"
   },
   {
    "duration": 7,
    "start_time": "2023-05-12T14:53:10.280Z"
   },
   {
    "duration": 6,
    "start_time": "2023-05-12T14:53:10.289Z"
   },
   {
    "duration": 5,
    "start_time": "2023-05-12T14:53:10.297Z"
   },
   {
    "duration": 28,
    "start_time": "2023-05-12T14:53:10.304Z"
   },
   {
    "duration": 6,
    "start_time": "2023-05-12T14:53:10.334Z"
   },
   {
    "duration": 1028,
    "start_time": "2023-05-12T14:53:10.341Z"
   },
   {
    "duration": 875,
    "start_time": "2023-05-12T14:53:11.371Z"
   },
   {
    "duration": 987,
    "start_time": "2023-05-12T14:53:12.247Z"
   },
   {
    "duration": 204,
    "start_time": "2023-05-12T14:53:13.237Z"
   },
   {
    "duration": 3,
    "start_time": "2023-05-12T14:53:13.443Z"
   },
   {
    "duration": 9,
    "start_time": "2023-05-12T14:53:13.447Z"
   },
   {
    "duration": 276,
    "start_time": "2023-05-12T14:53:13.458Z"
   },
   {
    "duration": 58,
    "start_time": "2023-05-12T14:53:13.736Z"
   },
   {
    "duration": 38,
    "start_time": "2023-05-12T14:53:13.796Z"
   },
   {
    "duration": 55,
    "start_time": "2023-05-12T14:53:13.836Z"
   },
   {
    "duration": 4,
    "start_time": "2023-05-12T14:53:13.894Z"
   },
   {
    "duration": 38,
    "start_time": "2023-05-12T14:53:13.900Z"
   },
   {
    "duration": 4,
    "start_time": "2023-05-12T14:53:13.939Z"
   },
   {
    "duration": 11,
    "start_time": "2023-05-12T14:53:13.944Z"
   },
   {
    "duration": 16,
    "start_time": "2023-05-12T14:54:38.640Z"
   },
   {
    "duration": 1389,
    "start_time": "2023-05-12T14:55:48.724Z"
   },
   {
    "duration": 733,
    "start_time": "2023-05-12T14:55:50.115Z"
   },
   {
    "duration": 46,
    "start_time": "2023-05-12T14:55:50.849Z"
   },
   {
    "duration": 51,
    "start_time": "2023-05-12T14:55:50.897Z"
   },
   {
    "duration": 68,
    "start_time": "2023-05-12T14:55:50.950Z"
   },
   {
    "duration": 9,
    "start_time": "2023-05-12T14:55:51.020Z"
   },
   {
    "duration": 14,
    "start_time": "2023-05-12T14:55:51.030Z"
   },
   {
    "duration": 5,
    "start_time": "2023-05-12T14:55:51.046Z"
   },
   {
    "duration": 6,
    "start_time": "2023-05-12T14:55:51.052Z"
   },
   {
    "duration": 4,
    "start_time": "2023-05-12T14:55:51.077Z"
   },
   {
    "duration": 427,
    "start_time": "2023-05-12T14:55:51.083Z"
   },
   {
    "duration": 414,
    "start_time": "2023-05-12T14:55:51.511Z"
   },
   {
    "duration": 197,
    "start_time": "2023-05-12T14:55:51.927Z"
   },
   {
    "duration": 5,
    "start_time": "2023-05-12T14:55:52.126Z"
   },
   {
    "duration": 11,
    "start_time": "2023-05-12T14:55:52.133Z"
   },
   {
    "duration": 6,
    "start_time": "2023-05-12T14:55:52.145Z"
   },
   {
    "duration": 28,
    "start_time": "2023-05-12T14:55:52.152Z"
   },
   {
    "duration": 33,
    "start_time": "2023-05-12T14:55:52.181Z"
   },
   {
    "duration": 40,
    "start_time": "2023-05-12T14:55:52.215Z"
   },
   {
    "duration": 4,
    "start_time": "2023-05-12T14:55:52.257Z"
   },
   {
    "duration": 907,
    "start_time": "2023-05-12T14:55:52.262Z"
   },
   {
    "duration": 793,
    "start_time": "2023-05-12T14:55:53.178Z"
   },
   {
    "duration": 961,
    "start_time": "2023-05-12T14:55:53.978Z"
   },
   {
    "duration": 203,
    "start_time": "2023-05-12T14:55:54.941Z"
   },
   {
    "duration": 2,
    "start_time": "2023-05-12T14:55:55.146Z"
   },
   {
    "duration": 7,
    "start_time": "2023-05-12T14:55:55.150Z"
   },
   {
    "duration": 236,
    "start_time": "2023-05-12T14:55:55.158Z"
   },
   {
    "duration": 18,
    "start_time": "2023-05-12T14:55:55.397Z"
   },
   {
    "duration": 362,
    "start_time": "2023-05-12T14:55:55.417Z"
   },
   {
    "duration": 4351,
    "start_time": "2023-05-12T14:55:55.781Z"
   },
   {
    "duration": 1447,
    "start_time": "2023-05-12T14:56:00.135Z"
   },
   {
    "duration": 95,
    "start_time": "2023-05-12T14:56:01.584Z"
   },
   {
    "duration": 104,
    "start_time": "2023-05-12T14:56:01.681Z"
   },
   {
    "duration": 5,
    "start_time": "2023-05-12T14:56:01.787Z"
   },
   {
    "duration": 17,
    "start_time": "2023-05-12T14:56:01.794Z"
   },
   {
    "duration": 3,
    "start_time": "2023-05-12T15:29:05.632Z"
   },
   {
    "duration": 4,
    "start_time": "2023-05-12T15:31:15.691Z"
   },
   {
    "duration": 3,
    "start_time": "2023-05-12T15:31:49.655Z"
   },
   {
    "duration": 373,
    "start_time": "2023-05-12T15:34:48.891Z"
   },
   {
    "duration": 351,
    "start_time": "2023-05-12T15:35:09.649Z"
   },
   {
    "duration": 5,
    "start_time": "2023-05-12T15:38:31.407Z"
   },
   {
    "duration": 4287,
    "start_time": "2023-05-12T15:40:41.811Z"
   },
   {
    "duration": 1482,
    "start_time": "2023-05-12T15:41:19.699Z"
   },
   {
    "duration": 74,
    "start_time": "2023-05-12T15:48:51.291Z"
   },
   {
    "duration": 452,
    "start_time": "2023-05-12T15:49:38.515Z"
   },
   {
    "duration": 390,
    "start_time": "2023-05-12T15:50:17.938Z"
   },
   {
    "duration": 976,
    "start_time": "2023-05-12T15:50:28.356Z"
   },
   {
    "duration": 979,
    "start_time": "2023-05-12T15:51:16.804Z"
   },
   {
    "duration": 1051,
    "start_time": "2023-05-12T15:51:40.592Z"
   },
   {
    "duration": 12828,
    "start_time": "2023-05-12T15:51:51.775Z"
   },
   {
    "duration": 12685,
    "start_time": "2023-05-12T15:52:36.025Z"
   },
   {
    "duration": 12732,
    "start_time": "2023-05-12T15:54:00.418Z"
   },
   {
    "duration": 12883,
    "start_time": "2023-05-12T15:54:44.438Z"
   },
   {
    "duration": 12952,
    "start_time": "2023-05-12T15:56:14.792Z"
   },
   {
    "duration": 12328,
    "start_time": "2023-05-12T16:03:30.720Z"
   },
   {
    "duration": 46275,
    "start_time": "2023-05-12T16:06:04.315Z"
   },
   {
    "duration": 45686,
    "start_time": "2023-05-12T16:09:10.712Z"
   },
   {
    "duration": 84,
    "start_time": "2023-05-12T16:15:11.513Z"
   },
   {
    "duration": 45512,
    "start_time": "2023-05-12T16:15:32.984Z"
   },
   {
    "duration": 45923,
    "start_time": "2023-05-12T16:16:45.255Z"
   },
   {
    "duration": 46878,
    "start_time": "2023-05-12T16:19:54.372Z"
   },
   {
    "duration": 36685,
    "start_time": "2023-05-12T16:21:36.412Z"
   },
   {
    "duration": 86373,
    "start_time": "2023-05-12T16:22:39.506Z"
   },
   {
    "duration": 143871,
    "start_time": "2023-05-12T16:26:17.674Z"
   },
   {
    "duration": 435085,
    "start_time": "2023-05-12T16:28:54.402Z"
   },
   {
    "duration": 44,
    "start_time": "2023-05-12T16:36:49.299Z"
   },
   {
    "duration": 336007,
    "start_time": "2023-05-12T16:37:37.495Z"
   },
   {
    "duration": 3,
    "start_time": "2023-05-12T16:43:13.504Z"
   },
   {
    "duration": 4,
    "start_time": "2023-05-12T16:44:09.437Z"
   },
   {
    "duration": 96,
    "start_time": "2023-05-12T16:44:46.489Z"
   },
   {
    "duration": 143,
    "start_time": "2023-05-12T16:45:02.022Z"
   },
   {
    "duration": 72,
    "start_time": "2023-05-12T16:46:47.755Z"
   },
   {
    "duration": 74,
    "start_time": "2023-05-12T16:48:47.781Z"
   },
   {
    "duration": 70,
    "start_time": "2023-05-12T16:48:54.565Z"
   },
   {
    "duration": 3,
    "start_time": "2023-05-12T16:49:40.730Z"
   },
   {
    "duration": 6,
    "start_time": "2023-05-12T16:49:53.398Z"
   },
   {
    "duration": 80,
    "start_time": "2023-05-12T16:50:01.897Z"
   },
   {
    "duration": 99,
    "start_time": "2023-05-12T16:50:46.044Z"
   },
   {
    "duration": 5,
    "start_time": "2023-05-12T16:51:31.264Z"
   },
   {
    "duration": 2,
    "start_time": "2023-05-12T16:53:04.154Z"
   },
   {
    "duration": 4,
    "start_time": "2023-05-12T16:53:24.132Z"
   },
   {
    "duration": 4,
    "start_time": "2023-05-12T16:53:34.200Z"
   },
   {
    "duration": 4,
    "start_time": "2023-05-12T16:53:55.896Z"
   },
   {
    "duration": 4,
    "start_time": "2023-05-12T16:54:03.175Z"
   },
   {
    "duration": 5,
    "start_time": "2023-05-12T16:54:10.868Z"
   },
   {
    "duration": 4,
    "start_time": "2023-05-12T16:54:19.738Z"
   },
   {
    "duration": 4,
    "start_time": "2023-05-12T16:54:24.295Z"
   },
   {
    "duration": 5,
    "start_time": "2023-05-12T16:54:47.513Z"
   },
   {
    "duration": 5,
    "start_time": "2023-05-12T16:54:51.691Z"
   },
   {
    "duration": 5,
    "start_time": "2023-05-12T16:54:57.049Z"
   },
   {
    "duration": 3,
    "start_time": "2023-05-12T16:55:10.685Z"
   },
   {
    "duration": 18,
    "start_time": "2023-05-12T16:55:21.875Z"
   },
   {
    "duration": 14,
    "start_time": "2023-05-12T16:55:36.075Z"
   },
   {
    "duration": 5,
    "start_time": "2023-05-12T16:56:00.311Z"
   },
   {
    "duration": 5,
    "start_time": "2023-05-12T16:56:05.200Z"
   },
   {
    "duration": 21,
    "start_time": "2023-05-12T16:56:22.886Z"
   },
   {
    "duration": 4,
    "start_time": "2023-05-12T16:56:58.678Z"
   },
   {
    "duration": 10,
    "start_time": "2023-05-12T16:57:23.524Z"
   },
   {
    "duration": 2,
    "start_time": "2023-05-12T16:58:05.714Z"
   },
   {
    "duration": 5,
    "start_time": "2023-05-12T16:58:08.436Z"
   },
   {
    "duration": 22,
    "start_time": "2023-05-12T16:58:11.775Z"
   },
   {
    "duration": 3,
    "start_time": "2023-05-12T16:58:22.966Z"
   },
   {
    "duration": 5,
    "start_time": "2023-05-12T16:58:26.317Z"
   },
   {
    "duration": 18303,
    "start_time": "2023-05-12T16:59:05.976Z"
   },
   {
    "duration": 111,
    "start_time": "2023-05-12T17:00:20.274Z"
   },
   {
    "duration": 5,
    "start_time": "2023-05-12T17:01:15.450Z"
   },
   {
    "duration": 3,
    "start_time": "2023-05-12T17:02:48.119Z"
   },
   {
    "duration": 5,
    "start_time": "2023-05-12T17:02:59.138Z"
   },
   {
    "duration": 4,
    "start_time": "2023-05-12T17:03:06.598Z"
   },
   {
    "duration": 4,
    "start_time": "2023-05-12T17:03:20.587Z"
   },
   {
    "duration": 5,
    "start_time": "2023-05-12T17:03:30.290Z"
   },
   {
    "duration": 4,
    "start_time": "2023-05-12T17:03:39.094Z"
   },
   {
    "duration": 37354,
    "start_time": "2023-05-12T17:03:49.075Z"
   },
   {
    "duration": 1374,
    "start_time": "2023-05-12T17:19:12.043Z"
   },
   {
    "duration": 737,
    "start_time": "2023-05-12T17:19:13.419Z"
   },
   {
    "duration": 49,
    "start_time": "2023-05-12T17:19:14.158Z"
   },
   {
    "duration": 54,
    "start_time": "2023-05-12T17:19:14.210Z"
   },
   {
    "duration": 63,
    "start_time": "2023-05-12T17:19:14.265Z"
   },
   {
    "duration": 8,
    "start_time": "2023-05-12T17:19:14.329Z"
   },
   {
    "duration": 43,
    "start_time": "2023-05-12T17:19:14.338Z"
   },
   {
    "duration": 3,
    "start_time": "2023-05-12T17:19:14.382Z"
   },
   {
    "duration": 10,
    "start_time": "2023-05-12T17:19:14.386Z"
   },
   {
    "duration": 6,
    "start_time": "2023-05-12T17:19:14.399Z"
   },
   {
    "duration": 425,
    "start_time": "2023-05-12T17:19:14.406Z"
   },
   {
    "duration": 386,
    "start_time": "2023-05-12T17:19:14.833Z"
   },
   {
    "duration": 180,
    "start_time": "2023-05-12T17:19:15.221Z"
   },
   {
    "duration": 4,
    "start_time": "2023-05-12T17:19:15.403Z"
   },
   {
    "duration": 11,
    "start_time": "2023-05-12T17:19:15.408Z"
   },
   {
    "duration": 6,
    "start_time": "2023-05-12T17:19:15.420Z"
   },
   {
    "duration": 6,
    "start_time": "2023-05-12T17:19:15.428Z"
   },
   {
    "duration": 10,
    "start_time": "2023-05-12T17:19:15.435Z"
   },
   {
    "duration": 45,
    "start_time": "2023-05-12T17:19:15.447Z"
   },
   {
    "duration": 5,
    "start_time": "2023-05-12T17:19:15.493Z"
   },
   {
    "duration": 997,
    "start_time": "2023-05-12T17:19:15.499Z"
   },
   {
    "duration": 840,
    "start_time": "2023-05-12T17:19:16.498Z"
   },
   {
    "duration": 963,
    "start_time": "2023-05-12T17:19:17.340Z"
   },
   {
    "duration": 207,
    "start_time": "2023-05-12T17:19:18.305Z"
   },
   {
    "duration": 3,
    "start_time": "2023-05-12T17:19:18.514Z"
   },
   {
    "duration": 9,
    "start_time": "2023-05-12T17:19:18.518Z"
   },
   {
    "duration": 258,
    "start_time": "2023-05-12T17:19:18.529Z"
   },
   {
    "duration": 3,
    "start_time": "2023-05-12T17:19:18.790Z"
   },
   {
    "duration": 15,
    "start_time": "2023-05-12T17:19:18.795Z"
   },
   {
    "duration": 17,
    "start_time": "2023-05-12T17:19:18.811Z"
   },
   {
    "duration": 19,
    "start_time": "2023-05-12T17:19:18.830Z"
   },
   {
    "duration": 13,
    "start_time": "2023-05-12T17:19:18.850Z"
   },
   {
    "duration": 1339,
    "start_time": "2023-05-12T17:21:43.591Z"
   },
   {
    "duration": 758,
    "start_time": "2023-05-12T17:21:44.931Z"
   },
   {
    "duration": 44,
    "start_time": "2023-05-12T17:21:45.691Z"
   },
   {
    "duration": 83,
    "start_time": "2023-05-12T17:21:45.736Z"
   },
   {
    "duration": 69,
    "start_time": "2023-05-12T17:21:45.821Z"
   },
   {
    "duration": 10,
    "start_time": "2023-05-12T17:21:45.892Z"
   },
   {
    "duration": 14,
    "start_time": "2023-05-12T17:21:45.904Z"
   },
   {
    "duration": 3,
    "start_time": "2023-05-12T17:21:45.920Z"
   },
   {
    "duration": 7,
    "start_time": "2023-05-12T17:21:45.924Z"
   },
   {
    "duration": 6,
    "start_time": "2023-05-12T17:21:45.933Z"
   },
   {
    "duration": 499,
    "start_time": "2023-05-12T17:21:45.940Z"
   },
   {
    "duration": 405,
    "start_time": "2023-05-12T17:21:46.441Z"
   },
   {
    "duration": 181,
    "start_time": "2023-05-12T17:21:46.847Z"
   },
   {
    "duration": 4,
    "start_time": "2023-05-12T17:21:47.030Z"
   },
   {
    "duration": 14,
    "start_time": "2023-05-12T17:21:47.036Z"
   },
   {
    "duration": 10,
    "start_time": "2023-05-12T17:21:47.051Z"
   },
   {
    "duration": 18,
    "start_time": "2023-05-12T17:21:47.063Z"
   },
   {
    "duration": 10,
    "start_time": "2023-05-12T17:21:47.083Z"
   },
   {
    "duration": 27,
    "start_time": "2023-05-12T17:21:47.095Z"
   },
   {
    "duration": 4,
    "start_time": "2023-05-12T17:21:47.124Z"
   },
   {
    "duration": 964,
    "start_time": "2023-05-12T17:21:47.130Z"
   },
   {
    "duration": 849,
    "start_time": "2023-05-12T17:21:48.096Z"
   },
   {
    "duration": 975,
    "start_time": "2023-05-12T17:21:48.947Z"
   },
   {
    "duration": 205,
    "start_time": "2023-05-12T17:21:49.924Z"
   },
   {
    "duration": 2,
    "start_time": "2023-05-12T17:21:50.131Z"
   },
   {
    "duration": 15,
    "start_time": "2023-05-12T17:21:50.135Z"
   },
   {
    "duration": 220,
    "start_time": "2023-05-12T17:21:50.151Z"
   },
   {
    "duration": 7,
    "start_time": "2023-05-12T17:21:50.372Z"
   },
   {
    "duration": 12,
    "start_time": "2023-05-12T17:21:50.380Z"
   },
   {
    "duration": 6,
    "start_time": "2023-05-12T17:21:50.393Z"
   },
   {
    "duration": 6,
    "start_time": "2023-05-12T17:21:50.400Z"
   },
   {
    "duration": 43058,
    "start_time": "2023-05-12T17:22:10.971Z"
   },
   {
    "duration": 140222,
    "start_time": "2023-05-12T17:24:52.178Z"
   },
   {
    "duration": 278374,
    "start_time": "2023-05-12T17:28:35.799Z"
   },
   {
    "duration": 192,
    "start_time": "2023-05-12T17:34:21.961Z"
   },
   {
    "duration": 4,
    "start_time": "2023-05-12T17:34:53.388Z"
   },
   {
    "duration": 37398,
    "start_time": "2023-05-12T17:35:42.218Z"
   },
   {
    "duration": 114213,
    "start_time": "2023-05-12T17:36:39.875Z"
   },
   {
    "duration": 1139,
    "start_time": "2023-05-12T17:39:55.047Z"
   },
   {
    "duration": 748,
    "start_time": "2023-05-12T17:40:10.539Z"
   },
   {
    "duration": 4,
    "start_time": "2023-05-12T17:45:48.282Z"
   },
   {
    "duration": 13,
    "start_time": "2023-05-12T17:46:35.346Z"
   },
   {
    "duration": 7,
    "start_time": "2023-05-12T17:47:13.882Z"
   },
   {
    "duration": 1160,
    "start_time": "2023-05-12T17:47:16.816Z"
   },
   {
    "duration": 1355,
    "start_time": "2023-05-12T17:47:38.497Z"
   },
   {
    "duration": 767,
    "start_time": "2023-05-12T17:47:39.854Z"
   },
   {
    "duration": 41,
    "start_time": "2023-05-12T17:47:40.623Z"
   },
   {
    "duration": 56,
    "start_time": "2023-05-12T17:47:40.678Z"
   },
   {
    "duration": 74,
    "start_time": "2023-05-12T17:47:40.736Z"
   },
   {
    "duration": 9,
    "start_time": "2023-05-12T17:47:40.811Z"
   },
   {
    "duration": 14,
    "start_time": "2023-05-12T17:47:40.822Z"
   },
   {
    "duration": 3,
    "start_time": "2023-05-12T17:47:40.838Z"
   },
   {
    "duration": 9,
    "start_time": "2023-05-12T17:47:40.843Z"
   },
   {
    "duration": 5,
    "start_time": "2023-05-12T17:47:40.877Z"
   },
   {
    "duration": 465,
    "start_time": "2023-05-12T17:47:40.884Z"
   },
   {
    "duration": 399,
    "start_time": "2023-05-12T17:47:41.351Z"
   },
   {
    "duration": 175,
    "start_time": "2023-05-12T17:47:41.752Z"
   },
   {
    "duration": 4,
    "start_time": "2023-05-12T17:47:41.928Z"
   },
   {
    "duration": 36,
    "start_time": "2023-05-12T17:47:41.934Z"
   },
   {
    "duration": 20,
    "start_time": "2023-05-12T17:47:41.972Z"
   },
   {
    "duration": 34,
    "start_time": "2023-05-12T17:47:41.994Z"
   },
   {
    "duration": 21,
    "start_time": "2023-05-12T17:47:42.030Z"
   },
   {
    "duration": 51,
    "start_time": "2023-05-12T17:47:42.053Z"
   },
   {
    "duration": 7,
    "start_time": "2023-05-12T17:47:42.105Z"
   },
   {
    "duration": 971,
    "start_time": "2023-05-12T17:47:42.113Z"
   },
   {
    "duration": 813,
    "start_time": "2023-05-12T17:47:43.086Z"
   },
   {
    "duration": 958,
    "start_time": "2023-05-12T17:47:43.901Z"
   },
   {
    "duration": 196,
    "start_time": "2023-05-12T17:47:44.861Z"
   },
   {
    "duration": 2,
    "start_time": "2023-05-12T17:47:45.059Z"
   },
   {
    "duration": 17,
    "start_time": "2023-05-12T17:47:45.062Z"
   },
   {
    "duration": 224,
    "start_time": "2023-05-12T17:47:45.080Z"
   },
   {
    "duration": 106,
    "start_time": "2023-05-12T17:47:49.711Z"
   },
   {
    "duration": 10,
    "start_time": "2023-05-12T17:48:29.980Z"
   },
   {
    "duration": 4,
    "start_time": "2023-05-12T17:48:42.107Z"
   },
   {
    "duration": 1192,
    "start_time": "2023-05-12T17:48:50.044Z"
   },
   {
    "duration": 1444,
    "start_time": "2023-05-12T17:52:14.755Z"
   },
   {
    "duration": 758,
    "start_time": "2023-05-12T17:52:16.201Z"
   },
   {
    "duration": 50,
    "start_time": "2023-05-12T17:52:16.960Z"
   },
   {
    "duration": 69,
    "start_time": "2023-05-12T17:52:17.011Z"
   },
   {
    "duration": 55,
    "start_time": "2023-05-12T17:52:17.083Z"
   },
   {
    "duration": 9,
    "start_time": "2023-05-12T17:52:17.140Z"
   },
   {
    "duration": 36,
    "start_time": "2023-05-12T17:52:17.150Z"
   },
   {
    "duration": 3,
    "start_time": "2023-05-12T17:52:17.188Z"
   },
   {
    "duration": 5,
    "start_time": "2023-05-12T17:52:17.193Z"
   },
   {
    "duration": 4,
    "start_time": "2023-05-12T17:52:17.199Z"
   },
   {
    "duration": 427,
    "start_time": "2023-05-12T17:52:17.205Z"
   },
   {
    "duration": 378,
    "start_time": "2023-05-12T17:52:17.633Z"
   },
   {
    "duration": 194,
    "start_time": "2023-05-12T17:52:18.014Z"
   },
   {
    "duration": 4,
    "start_time": "2023-05-12T17:52:18.210Z"
   },
   {
    "duration": 9,
    "start_time": "2023-05-12T17:52:18.216Z"
   },
   {
    "duration": 5,
    "start_time": "2023-05-12T17:52:18.227Z"
   },
   {
    "duration": 6,
    "start_time": "2023-05-12T17:52:18.233Z"
   },
   {
    "duration": 4,
    "start_time": "2023-05-12T17:52:18.241Z"
   },
   {
    "duration": 45,
    "start_time": "2023-05-12T17:52:18.247Z"
   },
   {
    "duration": 4,
    "start_time": "2023-05-12T17:52:18.294Z"
   },
   {
    "duration": 963,
    "start_time": "2023-05-12T17:52:18.300Z"
   },
   {
    "duration": 830,
    "start_time": "2023-05-12T17:52:19.264Z"
   },
   {
    "duration": 920,
    "start_time": "2023-05-12T17:52:20.095Z"
   },
   {
    "duration": 185,
    "start_time": "2023-05-12T17:52:21.017Z"
   },
   {
    "duration": 3,
    "start_time": "2023-05-12T17:52:21.203Z"
   },
   {
    "duration": 8,
    "start_time": "2023-05-12T17:52:21.208Z"
   },
   {
    "duration": 247,
    "start_time": "2023-05-12T17:52:21.217Z"
   },
   {
    "duration": 9,
    "start_time": "2023-05-12T17:52:25.854Z"
   },
   {
    "duration": 900,
    "start_time": "2023-05-12T17:52:29.791Z"
   },
   {
    "duration": 16,
    "start_time": "2023-05-12T17:53:13.717Z"
   },
   {
    "duration": 832,
    "start_time": "2023-05-12T17:53:15.752Z"
   },
   {
    "duration": 14,
    "start_time": "2023-05-12T17:54:11.692Z"
   },
   {
    "duration": 983,
    "start_time": "2023-05-12T17:54:15.415Z"
   },
   {
    "duration": 12,
    "start_time": "2023-05-12T17:55:08.577Z"
   },
   {
    "duration": 885,
    "start_time": "2023-05-12T17:55:10.751Z"
   },
   {
    "duration": 7,
    "start_time": "2023-05-12T17:56:31.946Z"
   },
   {
    "duration": 182,
    "start_time": "2023-05-12T17:56:41.957Z"
   },
   {
    "duration": 3,
    "start_time": "2023-05-12T17:56:51.454Z"
   },
   {
    "duration": 42325,
    "start_time": "2023-05-12T17:56:55.896Z"
   },
   {
    "duration": 42521,
    "start_time": "2023-05-12T17:58:21.466Z"
   },
   {
    "duration": 276516,
    "start_time": "2023-05-12T18:00:03.775Z"
   },
   {
    "duration": 4,
    "start_time": "2023-05-12T18:04:40.293Z"
   },
   {
    "duration": 1436,
    "start_time": "2023-05-12T18:08:23.253Z"
   },
   {
    "duration": 780,
    "start_time": "2023-05-12T18:08:24.691Z"
   },
   {
    "duration": 48,
    "start_time": "2023-05-12T18:08:25.472Z"
   },
   {
    "duration": 72,
    "start_time": "2023-05-12T18:08:25.523Z"
   },
   {
    "duration": 64,
    "start_time": "2023-05-12T18:08:25.596Z"
   },
   {
    "duration": 22,
    "start_time": "2023-05-12T18:08:25.662Z"
   },
   {
    "duration": 15,
    "start_time": "2023-05-12T18:08:25.686Z"
   },
   {
    "duration": 6,
    "start_time": "2023-05-12T18:08:25.702Z"
   },
   {
    "duration": 5,
    "start_time": "2023-05-12T18:08:25.710Z"
   },
   {
    "duration": 4,
    "start_time": "2023-05-12T18:08:25.718Z"
   },
   {
    "duration": 489,
    "start_time": "2023-05-12T18:08:25.724Z"
   },
   {
    "duration": 422,
    "start_time": "2023-05-12T18:08:26.215Z"
   },
   {
    "duration": 197,
    "start_time": "2023-05-12T18:08:26.639Z"
   },
   {
    "duration": 4,
    "start_time": "2023-05-12T18:08:26.838Z"
   },
   {
    "duration": 10,
    "start_time": "2023-05-12T18:08:26.844Z"
   },
   {
    "duration": 23,
    "start_time": "2023-05-12T18:08:26.856Z"
   },
   {
    "duration": 29,
    "start_time": "2023-05-12T18:08:26.880Z"
   },
   {
    "duration": 32,
    "start_time": "2023-05-12T18:08:26.911Z"
   },
   {
    "duration": 53,
    "start_time": "2023-05-12T18:08:26.945Z"
   },
   {
    "duration": 6,
    "start_time": "2023-05-12T18:08:27.000Z"
   },
   {
    "duration": 1001,
    "start_time": "2023-05-12T18:08:27.008Z"
   },
   {
    "duration": 811,
    "start_time": "2023-05-12T18:08:28.011Z"
   },
   {
    "duration": 939,
    "start_time": "2023-05-12T18:08:28.824Z"
   },
   {
    "duration": 207,
    "start_time": "2023-05-12T18:08:29.765Z"
   },
   {
    "duration": 3,
    "start_time": "2023-05-12T18:08:29.977Z"
   },
   {
    "duration": 7,
    "start_time": "2023-05-12T18:08:29.982Z"
   },
   {
    "duration": 252,
    "start_time": "2023-05-12T18:08:29.990Z"
   },
   {
    "duration": 1282,
    "start_time": "2023-05-12T18:08:43.704Z"
   },
   {
    "duration": 127,
    "start_time": "2023-05-12T18:09:32.980Z"
   },
   {
    "duration": 1375,
    "start_time": "2023-05-12T18:10:20.065Z"
   },
   {
    "duration": 753,
    "start_time": "2023-05-12T18:10:21.442Z"
   },
   {
    "duration": 40,
    "start_time": "2023-05-12T18:10:22.197Z"
   },
   {
    "duration": 65,
    "start_time": "2023-05-12T18:10:22.239Z"
   },
   {
    "duration": 73,
    "start_time": "2023-05-12T18:10:22.306Z"
   },
   {
    "duration": 9,
    "start_time": "2023-05-12T18:10:22.381Z"
   },
   {
    "duration": 19,
    "start_time": "2023-05-12T18:10:22.392Z"
   },
   {
    "duration": 15,
    "start_time": "2023-05-12T18:10:22.412Z"
   },
   {
    "duration": 19,
    "start_time": "2023-05-12T18:10:22.429Z"
   },
   {
    "duration": 14,
    "start_time": "2023-05-12T18:10:22.450Z"
   },
   {
    "duration": 464,
    "start_time": "2023-05-12T18:10:22.466Z"
   },
   {
    "duration": 394,
    "start_time": "2023-05-12T18:10:22.931Z"
   },
   {
    "duration": 190,
    "start_time": "2023-05-12T18:10:23.326Z"
   },
   {
    "duration": 5,
    "start_time": "2023-05-12T18:10:23.519Z"
   },
   {
    "duration": 26,
    "start_time": "2023-05-12T18:10:23.526Z"
   },
   {
    "duration": 19,
    "start_time": "2023-05-12T18:10:23.554Z"
   },
   {
    "duration": 33,
    "start_time": "2023-05-12T18:10:23.575Z"
   },
   {
    "duration": 43,
    "start_time": "2023-05-12T18:10:23.610Z"
   },
   {
    "duration": 54,
    "start_time": "2023-05-12T18:10:23.655Z"
   },
   {
    "duration": 26,
    "start_time": "2023-05-12T18:10:23.711Z"
   },
   {
    "duration": 1004,
    "start_time": "2023-05-12T18:10:23.739Z"
   },
   {
    "duration": 844,
    "start_time": "2023-05-12T18:10:24.745Z"
   },
   {
    "duration": 1021,
    "start_time": "2023-05-12T18:10:25.591Z"
   },
   {
    "duration": 211,
    "start_time": "2023-05-12T18:10:26.614Z"
   },
   {
    "duration": 3,
    "start_time": "2023-05-12T18:10:26.827Z"
   },
   {
    "duration": 13,
    "start_time": "2023-05-12T18:10:26.831Z"
   },
   {
    "duration": 247,
    "start_time": "2023-05-12T18:10:26.846Z"
   },
   {
    "duration": 45,
    "start_time": "2023-05-12T18:10:31.770Z"
   },
   {
    "duration": 1341,
    "start_time": "2023-05-13T06:21:59.012Z"
   },
   {
    "duration": 737,
    "start_time": "2023-05-13T06:22:00.356Z"
   },
   {
    "duration": 38,
    "start_time": "2023-05-13T06:22:01.094Z"
   },
   {
    "duration": 72,
    "start_time": "2023-05-13T06:22:01.134Z"
   },
   {
    "duration": 62,
    "start_time": "2023-05-13T06:22:01.208Z"
   },
   {
    "duration": 28,
    "start_time": "2023-05-13T06:22:01.272Z"
   },
   {
    "duration": 29,
    "start_time": "2023-05-13T06:22:01.302Z"
   },
   {
    "duration": 24,
    "start_time": "2023-05-13T06:22:01.332Z"
   },
   {
    "duration": 29,
    "start_time": "2023-05-13T06:22:01.357Z"
   },
   {
    "duration": 48,
    "start_time": "2023-05-13T06:22:01.388Z"
   },
   {
    "duration": 444,
    "start_time": "2023-05-13T06:22:01.438Z"
   },
   {
    "duration": 384,
    "start_time": "2023-05-13T06:22:01.883Z"
   },
   {
    "duration": 173,
    "start_time": "2023-05-13T06:22:02.269Z"
   },
   {
    "duration": 3,
    "start_time": "2023-05-13T06:22:02.445Z"
   },
   {
    "duration": 9,
    "start_time": "2023-05-13T06:22:02.449Z"
   },
   {
    "duration": 18,
    "start_time": "2023-05-13T06:22:02.460Z"
   },
   {
    "duration": 5,
    "start_time": "2023-05-13T06:22:02.480Z"
   },
   {
    "duration": 9,
    "start_time": "2023-05-13T06:22:02.486Z"
   },
   {
    "duration": 21,
    "start_time": "2023-05-13T06:22:22.203Z"
   },
   {
    "duration": 4,
    "start_time": "2023-05-13T06:22:28.521Z"
   },
   {
    "duration": 861,
    "start_time": "2023-05-13T06:22:32.191Z"
   },
   {
    "duration": 1334,
    "start_time": "2023-05-13T06:23:26.283Z"
   },
   {
    "duration": 17,
    "start_time": "2023-05-13T06:24:06.974Z"
   },
   {
    "duration": 811,
    "start_time": "2023-05-13T06:25:05.562Z"
   },
   {
    "duration": 951,
    "start_time": "2023-05-13T06:25:18.385Z"
   },
   {
    "duration": 793,
    "start_time": "2023-05-13T06:25:27.899Z"
   },
   {
    "duration": 190,
    "start_time": "2023-05-13T06:25:39.783Z"
   },
   {
    "duration": 301,
    "start_time": "2023-05-13T06:25:51.979Z"
   },
   {
    "duration": 12,
    "start_time": "2023-05-13T06:27:14.659Z"
   },
   {
    "duration": 3,
    "start_time": "2023-05-13T06:27:22.435Z"
   },
   {
    "duration": 8,
    "start_time": "2023-05-13T06:27:24.040Z"
   },
   {
    "duration": 215,
    "start_time": "2023-05-13T06:27:25.894Z"
   },
   {
    "duration": 225,
    "start_time": "2023-05-13T06:28:25.677Z"
   },
   {
    "duration": 205,
    "start_time": "2023-05-13T06:28:49.933Z"
   },
   {
    "duration": 212,
    "start_time": "2023-05-13T06:29:02.166Z"
   },
   {
    "duration": 34,
    "start_time": "2023-05-13T06:29:45.038Z"
   },
   {
    "duration": 3,
    "start_time": "2023-05-13T06:30:01.620Z"
   },
   {
    "duration": 1329,
    "start_time": "2023-05-13T06:32:21.219Z"
   },
   {
    "duration": 729,
    "start_time": "2023-05-13T06:32:22.549Z"
   },
   {
    "duration": 38,
    "start_time": "2023-05-13T06:32:23.280Z"
   },
   {
    "duration": 66,
    "start_time": "2023-05-13T06:32:23.320Z"
   },
   {
    "duration": 51,
    "start_time": "2023-05-13T06:32:23.388Z"
   },
   {
    "duration": 9,
    "start_time": "2023-05-13T06:32:23.441Z"
   },
   {
    "duration": 34,
    "start_time": "2023-05-13T06:32:23.451Z"
   },
   {
    "duration": 3,
    "start_time": "2023-05-13T06:32:23.487Z"
   },
   {
    "duration": 12,
    "start_time": "2023-05-13T06:32:23.491Z"
   },
   {
    "duration": 4,
    "start_time": "2023-05-13T06:32:23.505Z"
   },
   {
    "duration": 431,
    "start_time": "2023-05-13T06:32:23.511Z"
   },
   {
    "duration": 392,
    "start_time": "2023-05-13T06:32:23.943Z"
   },
   {
    "duration": 179,
    "start_time": "2023-05-13T06:32:24.337Z"
   },
   {
    "duration": 4,
    "start_time": "2023-05-13T06:32:24.517Z"
   },
   {
    "duration": 11,
    "start_time": "2023-05-13T06:32:24.523Z"
   },
   {
    "duration": 15,
    "start_time": "2023-05-13T06:32:24.535Z"
   },
   {
    "duration": 30,
    "start_time": "2023-05-13T06:32:24.551Z"
   },
   {
    "duration": 9,
    "start_time": "2023-05-13T06:32:24.583Z"
   },
   {
    "duration": 5,
    "start_time": "2023-05-13T06:32:24.594Z"
   },
   {
    "duration": 17,
    "start_time": "2023-05-13T06:32:29.001Z"
   },
   {
    "duration": 5,
    "start_time": "2023-05-13T06:32:36.612Z"
   },
   {
    "duration": 895,
    "start_time": "2023-05-13T06:32:39.433Z"
   },
   {
    "duration": 785,
    "start_time": "2023-05-13T06:32:43.638Z"
   },
   {
    "duration": 4,
    "start_time": "2023-05-13T06:33:09.172Z"
   },
   {
    "duration": 1301,
    "start_time": "2023-05-13T06:33:28.421Z"
   },
   {
    "duration": 3,
    "start_time": "2023-05-13T06:33:47.562Z"
   },
   {
    "duration": 7,
    "start_time": "2023-05-13T06:35:26.575Z"
   },
   {
    "duration": 206820,
    "start_time": "2023-05-13T06:36:29.860Z"
   },
   {
    "duration": 31827,
    "start_time": "2023-05-13T06:40:24.972Z"
   },
   {
    "duration": 1084,
    "start_time": "2023-05-13T06:41:06.795Z"
   },
   {
    "duration": 1397,
    "start_time": "2023-05-13T06:41:20.582Z"
   },
   {
    "duration": 1454221,
    "start_time": "2023-05-13T06:44:31.628Z"
   },
   {
    "duration": 2297,
    "start_time": "2023-05-13T08:18:54.416Z"
   },
   {
    "duration": 3408,
    "start_time": "2023-05-13T08:18:56.718Z"
   },
   {
    "duration": 109,
    "start_time": "2023-05-13T08:19:00.148Z"
   },
   {
    "duration": 2250,
    "start_time": "2023-05-13T08:19:00.260Z"
   },
   {
    "duration": 60,
    "start_time": "2023-05-13T08:19:02.513Z"
   },
   {
    "duration": 734,
    "start_time": "2023-05-13T08:19:02.574Z"
   },
   {
    "duration": 53,
    "start_time": "2023-05-13T08:19:03.309Z"
   },
   {
    "duration": 27,
    "start_time": "2023-05-13T08:19:03.364Z"
   },
   {
    "duration": 75,
    "start_time": "2023-05-13T08:19:03.393Z"
   },
   {
    "duration": 7,
    "start_time": "2023-05-13T08:19:03.470Z"
   },
   {
    "duration": 113,
    "start_time": "2023-05-13T08:19:03.478Z"
   },
   {
    "duration": 97,
    "start_time": "2023-05-13T08:19:03.603Z"
   },
   {
    "duration": 528,
    "start_time": "2023-05-13T08:19:03.707Z"
   },
   {
    "duration": 385,
    "start_time": "2023-05-13T08:19:04.246Z"
   },
   {
    "duration": 184,
    "start_time": "2023-05-13T08:19:04.633Z"
   },
   {
    "duration": 17,
    "start_time": "2023-05-13T08:19:04.824Z"
   },
   {
    "duration": 94,
    "start_time": "2023-05-13T08:19:04.846Z"
   },
   {
    "duration": 23,
    "start_time": "2023-05-13T08:19:04.944Z"
   },
   {
    "duration": 1525,
    "start_time": "2023-05-13T08:19:04.968Z"
   },
   {
    "duration": 0,
    "start_time": "2023-05-13T08:19:06.501Z"
   },
   {
    "duration": 0,
    "start_time": "2023-05-13T08:19:06.507Z"
   },
   {
    "duration": 0,
    "start_time": "2023-05-13T08:19:06.512Z"
   },
   {
    "duration": 0,
    "start_time": "2023-05-13T08:19:06.515Z"
   },
   {
    "duration": 0,
    "start_time": "2023-05-13T08:19:06.525Z"
   },
   {
    "duration": 0,
    "start_time": "2023-05-13T08:19:06.526Z"
   },
   {
    "duration": 0,
    "start_time": "2023-05-13T08:19:06.528Z"
   },
   {
    "duration": 0,
    "start_time": "2023-05-13T08:19:06.529Z"
   },
   {
    "duration": 0,
    "start_time": "2023-05-13T08:19:06.530Z"
   },
   {
    "duration": 0,
    "start_time": "2023-05-13T08:19:06.531Z"
   },
   {
    "duration": 0,
    "start_time": "2023-05-13T08:19:06.532Z"
   },
   {
    "duration": 0,
    "start_time": "2023-05-13T08:19:06.533Z"
   },
   {
    "duration": 0,
    "start_time": "2023-05-13T08:19:06.535Z"
   },
   {
    "duration": 0,
    "start_time": "2023-05-13T08:19:06.536Z"
   },
   {
    "duration": 0,
    "start_time": "2023-05-13T08:19:06.537Z"
   },
   {
    "duration": 0,
    "start_time": "2023-05-13T08:19:06.548Z"
   },
   {
    "duration": 0,
    "start_time": "2023-05-13T08:19:06.549Z"
   },
   {
    "duration": 0,
    "start_time": "2023-05-13T08:19:06.554Z"
   },
   {
    "duration": 907,
    "start_time": "2023-05-13T08:20:38.727Z"
   },
   {
    "duration": 27,
    "start_time": "2023-05-13T08:20:50.311Z"
   },
   {
    "duration": 822,
    "start_time": "2023-05-13T08:20:50.342Z"
   },
   {
    "duration": 956,
    "start_time": "2023-05-13T08:20:51.166Z"
   },
   {
    "duration": 796,
    "start_time": "2023-05-13T08:20:52.135Z"
   },
   {
    "duration": 335,
    "start_time": "2023-05-13T08:20:52.948Z"
   },
   {
    "duration": 3,
    "start_time": "2023-05-13T08:20:53.303Z"
   },
   {
    "duration": 10,
    "start_time": "2023-05-13T08:20:53.307Z"
   },
   {
    "duration": 308,
    "start_time": "2023-05-13T08:20:53.318Z"
   },
   {
    "duration": 14,
    "start_time": "2023-05-13T08:20:53.627Z"
   },
   {
    "duration": 40,
    "start_time": "2023-05-13T08:20:53.643Z"
   },
   {
    "duration": 67,
    "start_time": "2023-05-13T08:20:53.684Z"
   },
   {
    "duration": 26,
    "start_time": "2023-05-13T08:20:53.752Z"
   },
   {
    "duration": 4,
    "start_time": "2023-05-13T08:20:53.780Z"
   },
   {
    "duration": 57,
    "start_time": "2023-05-13T08:20:53.791Z"
   },
   {
    "duration": 14,
    "start_time": "2023-05-13T08:20:53.850Z"
   },
   {
    "duration": 13837,
    "start_time": "2023-05-13T08:20:53.865Z"
   },
   {
    "duration": 903169,
    "start_time": "2023-05-13T08:21:07.703Z"
   },
   {
    "duration": 3423,
    "start_time": "2023-05-13T08:36:10.873Z"
   },
   {
    "duration": 538165,
    "start_time": "2023-05-13T08:45:14.137Z"
   },
   {
    "duration": 27,
    "start_time": "2023-05-13T08:58:26.883Z"
   },
   {
    "duration": 16822,
    "start_time": "2023-05-13T09:01:07.408Z"
   },
   {
    "duration": 62745,
    "start_time": "2023-05-13T09:01:37.161Z"
   },
   {
    "duration": 115188,
    "start_time": "2023-05-13T09:03:03.476Z"
   },
   {
    "duration": 602370,
    "start_time": "2023-05-13T09:07:42.455Z"
   },
   {
    "duration": 12,
    "start_time": "2023-05-13T09:17:44.839Z"
   },
   {
    "duration": 2301,
    "start_time": "2023-05-13T09:19:38.371Z"
   },
   {
    "duration": 1007840,
    "start_time": "2023-05-13T09:20:06.283Z"
   },
   {
    "duration": 1527,
    "start_time": "2023-05-13T10:19:51.311Z"
   },
   {
    "duration": 491,
    "start_time": "2023-05-13T10:19:52.840Z"
   },
   {
    "duration": 99,
    "start_time": "2023-05-13T10:19:53.333Z"
   },
   {
    "duration": 308,
    "start_time": "2023-05-13T10:19:53.434Z"
   },
   {
    "duration": 57,
    "start_time": "2023-05-13T10:19:53.745Z"
   },
   {
    "duration": 74,
    "start_time": "2023-05-13T10:19:53.803Z"
   },
   {
    "duration": 37,
    "start_time": "2023-05-13T10:19:53.879Z"
   },
   {
    "duration": 17,
    "start_time": "2023-05-13T10:19:53.918Z"
   },
   {
    "duration": 20,
    "start_time": "2023-05-13T10:19:53.937Z"
   },
   {
    "duration": 21,
    "start_time": "2023-05-13T10:19:53.959Z"
   },
   {
    "duration": 46,
    "start_time": "2023-05-13T10:19:53.982Z"
   },
   {
    "duration": 19,
    "start_time": "2023-05-13T10:19:54.030Z"
   },
   {
    "duration": 486,
    "start_time": "2023-05-13T10:19:54.050Z"
   },
   {
    "duration": 400,
    "start_time": "2023-05-13T10:19:54.540Z"
   },
   {
    "duration": 191,
    "start_time": "2023-05-13T10:19:54.941Z"
   },
   {
    "duration": 7,
    "start_time": "2023-05-13T10:19:55.134Z"
   },
   {
    "duration": 110,
    "start_time": "2023-05-13T10:19:55.142Z"
   },
   {
    "duration": 9,
    "start_time": "2023-05-13T10:19:55.254Z"
   },
   {
    "duration": 948,
    "start_time": "2023-05-13T10:19:55.264Z"
   },
   {
    "duration": 23,
    "start_time": "2023-05-13T10:19:56.214Z"
   },
   {
    "duration": 915,
    "start_time": "2023-05-13T10:19:56.240Z"
   },
   {
    "duration": 924,
    "start_time": "2023-05-13T10:19:57.157Z"
   },
   {
    "duration": 881,
    "start_time": "2023-05-13T10:19:58.090Z"
   },
   {
    "duration": 229,
    "start_time": "2023-05-13T10:19:58.973Z"
   },
   {
    "duration": 7,
    "start_time": "2023-05-13T10:19:59.203Z"
   },
   {
    "duration": 32,
    "start_time": "2023-05-13T10:19:59.211Z"
   },
   {
    "duration": 400,
    "start_time": "2023-05-13T10:19:59.246Z"
   },
   {
    "duration": 4,
    "start_time": "2023-05-13T10:19:59.648Z"
   },
   {
    "duration": 5,
    "start_time": "2023-05-13T10:19:59.653Z"
   },
   {
    "duration": 10,
    "start_time": "2023-05-13T10:19:59.659Z"
   },
   {
    "duration": 35,
    "start_time": "2023-05-13T10:19:59.671Z"
   },
   {
    "duration": 4,
    "start_time": "2023-05-13T10:19:59.718Z"
   },
   {
    "duration": 6,
    "start_time": "2023-05-13T10:19:59.723Z"
   },
   {
    "duration": 4,
    "start_time": "2023-05-13T10:19:59.730Z"
   },
   {
    "duration": 6,
    "start_time": "2023-05-13T10:19:59.736Z"
   },
   {
    "duration": 13831,
    "start_time": "2023-05-13T10:19:59.743Z"
   },
   {
    "duration": 460835,
    "start_time": "2023-05-13T10:20:13.575Z"
   },
   {
    "duration": 5575,
    "start_time": "2023-05-13T10:27:54.416Z"
   },
   {
    "duration": 3,
    "start_time": "2023-05-13T10:27:59.993Z"
   },
   {
    "duration": 12966,
    "start_time": "2023-05-13T10:27:59.998Z"
   },
   {
    "duration": 455202,
    "start_time": "2023-05-13T10:28:12.967Z"
   },
   {
    "duration": 3323,
    "start_time": "2023-05-13T10:35:48.171Z"
   },
   {
    "duration": 140,
    "start_time": "2023-05-13T10:35:51.498Z"
   },
   {
    "duration": 0,
    "start_time": "2023-05-13T10:35:51.639Z"
   },
   {
    "duration": 0,
    "start_time": "2023-05-13T10:35:51.641Z"
   },
   {
    "duration": 0,
    "start_time": "2023-05-13T10:35:51.642Z"
   },
   {
    "duration": 0,
    "start_time": "2023-05-13T10:35:51.643Z"
   },
   {
    "duration": 1537,
    "start_time": "2023-05-13T10:39:01.772Z"
   },
   {
    "duration": 3,
    "start_time": "2023-05-13T10:39:11.003Z"
   },
   {
    "duration": 14583,
    "start_time": "2023-05-13T10:39:14.109Z"
   },
   {
    "duration": 194651,
    "start_time": "2023-05-13T10:39:54.071Z"
   },
   {
    "duration": 2140,
    "start_time": "2023-05-13T10:44:38.680Z"
   },
   {
    "duration": 3,
    "start_time": "2023-05-13T10:44:52.481Z"
   },
   {
    "duration": 10,
    "start_time": "2023-05-13T10:44:55.784Z"
   },
   {
    "duration": 11,
    "start_time": "2023-05-13T10:47:41.780Z"
   },
   {
    "duration": 5,
    "start_time": "2023-05-13T10:48:05.222Z"
   },
   {
    "duration": 3,
    "start_time": "2023-05-13T10:50:19.561Z"
   },
   {
    "duration": 4,
    "start_time": "2023-05-13T10:50:26.839Z"
   },
   {
    "duration": 20,
    "start_time": "2023-05-13T10:50:36.383Z"
   },
   {
    "duration": 112,
    "start_time": "2023-05-13T10:50:39.529Z"
   },
   {
    "duration": 7,
    "start_time": "2023-05-13T10:51:14.241Z"
   },
   {
    "duration": 8,
    "start_time": "2023-05-13T10:59:48.071Z"
   },
   {
    "duration": 7784,
    "start_time": "2023-05-13T11:00:23.161Z"
   },
   {
    "duration": 4,
    "start_time": "2023-05-13T11:01:32.127Z"
   },
   {
    "duration": 7839,
    "start_time": "2023-05-13T11:01:50.984Z"
   },
   {
    "duration": 12,
    "start_time": "2023-05-13T12:29:09.711Z"
   },
   {
    "duration": 4,
    "start_time": "2023-05-13T12:30:01.168Z"
   },
   {
    "duration": 5,
    "start_time": "2023-05-13T12:31:10.015Z"
   },
   {
    "duration": 5,
    "start_time": "2023-05-13T12:31:26.752Z"
   },
   {
    "duration": 4,
    "start_time": "2023-05-13T12:36:04.036Z"
   },
   {
    "duration": 11,
    "start_time": "2023-05-13T12:58:24.718Z"
   },
   {
    "duration": 6,
    "start_time": "2023-05-13T12:59:10.255Z"
   },
   {
    "duration": 10,
    "start_time": "2023-05-13T12:59:15.907Z"
   },
   {
    "duration": 19,
    "start_time": "2023-05-13T13:00:00.983Z"
   },
   {
    "duration": 8,
    "start_time": "2023-05-13T13:00:19.245Z"
   },
   {
    "duration": 18,
    "start_time": "2023-05-13T13:01:32.980Z"
   },
   {
    "duration": 7546,
    "start_time": "2023-05-13T13:01:54.504Z"
   },
   {
    "duration": 3,
    "start_time": "2023-05-13T13:04:04.928Z"
   },
   {
    "duration": 8068,
    "start_time": "2023-05-13T13:04:07.946Z"
   },
   {
    "duration": 13,
    "start_time": "2023-05-13T13:04:46.424Z"
   },
   {
    "duration": 7844,
    "start_time": "2023-05-13T13:05:11.254Z"
   },
   {
    "duration": 9636,
    "start_time": "2023-05-13T13:06:34.041Z"
   },
   {
    "duration": 8030,
    "start_time": "2023-05-13T13:07:13.111Z"
   },
   {
    "duration": 3,
    "start_time": "2023-05-13T13:08:39.831Z"
   },
   {
    "duration": 667,
    "start_time": "2023-05-13T13:09:14.813Z"
   },
   {
    "duration": 5,
    "start_time": "2023-05-13T13:11:47.900Z"
   },
   {
    "duration": 5,
    "start_time": "2023-05-13T13:15:05.362Z"
   },
   {
    "duration": 7266,
    "start_time": "2023-05-13T13:15:24.164Z"
   },
   {
    "duration": 614,
    "start_time": "2023-05-13T13:16:00.781Z"
   },
   {
    "duration": 3,
    "start_time": "2023-05-13T13:16:04.877Z"
   },
   {
    "duration": 3,
    "start_time": "2023-05-13T13:17:22.243Z"
   },
   {
    "duration": 7370,
    "start_time": "2023-05-13T13:17:24.606Z"
   },
   {
    "duration": 625,
    "start_time": "2023-05-13T13:17:35.838Z"
   },
   {
    "duration": 3,
    "start_time": "2023-05-13T13:17:39.662Z"
   },
   {
    "duration": 3,
    "start_time": "2023-05-13T13:18:39.855Z"
   },
   {
    "duration": 7519,
    "start_time": "2023-05-13T13:18:41.760Z"
   },
   {
    "duration": 4,
    "start_time": "2023-05-13T13:20:36.213Z"
   },
   {
    "duration": 31,
    "start_time": "2023-05-13T13:20:38.584Z"
   },
   {
    "duration": 3,
    "start_time": "2023-05-13T13:26:45.409Z"
   },
   {
    "duration": 11,
    "start_time": "2023-05-13T13:26:47.762Z"
   },
   {
    "duration": 3,
    "start_time": "2023-05-13T13:26:57.146Z"
   },
   {
    "duration": 7643,
    "start_time": "2023-05-13T13:27:00.604Z"
   },
   {
    "duration": 3,
    "start_time": "2023-05-13T13:27:34.423Z"
   },
   {
    "duration": 8152,
    "start_time": "2023-05-13T13:27:39.663Z"
   },
   {
    "duration": 3,
    "start_time": "2023-05-13T13:28:52.809Z"
   },
   {
    "duration": 7475,
    "start_time": "2023-05-13T13:28:56.446Z"
   },
   {
    "duration": 633,
    "start_time": "2023-05-13T13:29:32.718Z"
   },
   {
    "duration": 612,
    "start_time": "2023-05-13T13:29:48.446Z"
   },
   {
    "duration": 3,
    "start_time": "2023-05-13T13:29:52.207Z"
   },
   {
    "duration": 3,
    "start_time": "2023-05-13T13:31:44.336Z"
   },
   {
    "duration": 624,
    "start_time": "2023-05-13T13:33:25.250Z"
   },
   {
    "duration": 4,
    "start_time": "2023-05-13T13:33:27.944Z"
   },
   {
    "duration": 12,
    "start_time": "2023-05-13T13:34:48.310Z"
   },
   {
    "duration": 2,
    "start_time": "2023-05-13T13:34:57.655Z"
   },
   {
    "duration": 3,
    "start_time": "2023-05-13T13:35:01.020Z"
   },
   {
    "duration": 4,
    "start_time": "2023-05-13T13:35:03.830Z"
   },
   {
    "duration": 7,
    "start_time": "2023-05-13T13:38:09.200Z"
   },
   {
    "duration": 212,
    "start_time": "2023-05-13T13:38:17.678Z"
   },
   {
    "duration": 1243,
    "start_time": "2023-05-13T13:39:12.417Z"
   },
   {
    "duration": 390,
    "start_time": "2023-05-13T13:39:13.662Z"
   },
   {
    "duration": 58,
    "start_time": "2023-05-13T13:39:14.053Z"
   },
   {
    "duration": 349,
    "start_time": "2023-05-13T13:39:14.113Z"
   },
   {
    "duration": 68,
    "start_time": "2023-05-13T13:39:14.465Z"
   },
   {
    "duration": 71,
    "start_time": "2023-05-13T13:39:14.535Z"
   },
   {
    "duration": 34,
    "start_time": "2023-05-13T13:39:14.607Z"
   },
   {
    "duration": 7,
    "start_time": "2023-05-13T13:39:14.643Z"
   },
   {
    "duration": 48,
    "start_time": "2023-05-13T13:39:14.651Z"
   },
   {
    "duration": 12,
    "start_time": "2023-05-13T13:39:14.700Z"
   },
   {
    "duration": 22,
    "start_time": "2023-05-13T13:39:14.713Z"
   },
   {
    "duration": 10,
    "start_time": "2023-05-13T13:39:14.736Z"
   },
   {
    "duration": 393,
    "start_time": "2023-05-13T13:39:14.747Z"
   },
   {
    "duration": 418,
    "start_time": "2023-05-13T13:39:15.144Z"
   },
   {
    "duration": 190,
    "start_time": "2023-05-13T13:39:15.563Z"
   },
   {
    "duration": 8,
    "start_time": "2023-05-13T13:39:15.756Z"
   },
   {
    "duration": 29,
    "start_time": "2023-05-13T13:39:15.765Z"
   },
   {
    "duration": 8,
    "start_time": "2023-05-13T13:39:15.796Z"
   },
   {
    "duration": 949,
    "start_time": "2023-05-13T13:39:15.805Z"
   },
   {
    "duration": 19,
    "start_time": "2023-05-13T13:39:16.756Z"
   },
   {
    "duration": 897,
    "start_time": "2023-05-13T13:39:16.777Z"
   },
   {
    "duration": 1043,
    "start_time": "2023-05-13T13:39:17.675Z"
   },
   {
    "duration": 771,
    "start_time": "2023-05-13T13:39:18.719Z"
   },
   {
    "duration": 171,
    "start_time": "2023-05-13T13:39:19.494Z"
   },
   {
    "duration": 3,
    "start_time": "2023-05-13T13:39:19.666Z"
   },
   {
    "duration": 54,
    "start_time": "2023-05-13T13:39:19.670Z"
   },
   {
    "duration": 427,
    "start_time": "2023-05-13T13:39:19.726Z"
   },
   {
    "duration": 4,
    "start_time": "2023-05-13T13:39:20.154Z"
   },
   {
    "duration": 15,
    "start_time": "2023-05-13T13:39:20.160Z"
   },
   {
    "duration": 44,
    "start_time": "2023-05-13T13:39:20.178Z"
   },
   {
    "duration": 18,
    "start_time": "2023-05-13T13:39:20.224Z"
   },
   {
    "duration": 15,
    "start_time": "2023-05-13T13:39:20.243Z"
   },
   {
    "duration": 21,
    "start_time": "2023-05-13T13:39:20.259Z"
   },
   {
    "duration": 38,
    "start_time": "2023-05-13T13:39:20.281Z"
   },
   {
    "duration": 18,
    "start_time": "2023-05-13T13:39:20.321Z"
   },
   {
    "duration": 13236,
    "start_time": "2023-05-13T13:39:20.341Z"
   },
   {
    "duration": 427054,
    "start_time": "2023-05-13T13:39:33.578Z"
   },
   {
    "duration": 2269,
    "start_time": "2023-05-13T13:46:40.634Z"
   },
   {
    "duration": 3,
    "start_time": "2023-05-13T13:46:42.904Z"
   },
   {
    "duration": 12455,
    "start_time": "2023-05-13T13:46:42.910Z"
   },
   {
    "duration": 193071,
    "start_time": "2023-05-13T13:46:55.369Z"
   },
   {
    "duration": 2256,
    "start_time": "2023-05-13T13:50:08.441Z"
   },
   {
    "duration": 4,
    "start_time": "2023-05-13T13:50:10.699Z"
   },
   {
    "duration": 213,
    "start_time": "2023-05-13T13:50:10.704Z"
   },
   {
    "duration": 0,
    "start_time": "2023-05-13T13:50:10.919Z"
   },
   {
    "duration": 0,
    "start_time": "2023-05-13T13:50:10.920Z"
   },
   {
    "duration": 0,
    "start_time": "2023-05-13T13:50:10.921Z"
   },
   {
    "duration": 0,
    "start_time": "2023-05-13T13:50:10.922Z"
   },
   {
    "duration": 0,
    "start_time": "2023-05-13T13:50:10.924Z"
   },
   {
    "duration": 14,
    "start_time": "2023-05-13T13:55:19.317Z"
   },
   {
    "duration": 3,
    "start_time": "2023-05-13T13:55:28.812Z"
   },
   {
    "duration": 11,
    "start_time": "2023-05-13T13:55:34.112Z"
   },
   {
    "duration": 3,
    "start_time": "2023-05-13T13:56:43.162Z"
   },
   {
    "duration": 3,
    "start_time": "2023-05-13T13:56:49.150Z"
   },
   {
    "duration": 4,
    "start_time": "2023-05-13T13:56:53.129Z"
   },
   {
    "duration": 3,
    "start_time": "2023-05-13T13:57:11.022Z"
   },
   {
    "duration": 7492,
    "start_time": "2023-05-13T13:57:13.379Z"
   },
   {
    "duration": 602,
    "start_time": "2023-05-13T13:57:22.925Z"
   },
   {
    "duration": 5,
    "start_time": "2023-05-13T13:57:26.242Z"
   },
   {
    "duration": 3,
    "start_time": "2023-05-13T14:00:39.121Z"
   },
   {
    "duration": 4,
    "start_time": "2023-05-13T14:00:47.344Z"
   },
   {
    "duration": 1255,
    "start_time": "2023-05-13T14:27:27.234Z"
   },
   {
    "duration": 400,
    "start_time": "2023-05-13T14:27:28.506Z"
   },
   {
    "duration": 48,
    "start_time": "2023-05-13T14:27:28.911Z"
   },
   {
    "duration": 288,
    "start_time": "2023-05-13T14:27:28.962Z"
   },
   {
    "duration": 60,
    "start_time": "2023-05-13T14:27:29.251Z"
   },
   {
    "duration": 89,
    "start_time": "2023-05-13T14:27:29.315Z"
   },
   {
    "duration": 29,
    "start_time": "2023-05-13T14:27:29.406Z"
   },
   {
    "duration": 9,
    "start_time": "2023-05-13T14:27:29.436Z"
   },
   {
    "duration": 12,
    "start_time": "2023-05-13T14:27:29.447Z"
   },
   {
    "duration": 6,
    "start_time": "2023-05-13T14:27:29.461Z"
   },
   {
    "duration": 8,
    "start_time": "2023-05-13T14:27:29.468Z"
   },
   {
    "duration": 5,
    "start_time": "2023-05-13T14:27:29.477Z"
   },
   {
    "duration": 395,
    "start_time": "2023-05-13T14:27:29.485Z"
   },
   {
    "duration": 352,
    "start_time": "2023-05-13T14:27:29.881Z"
   },
   {
    "duration": 164,
    "start_time": "2023-05-13T14:27:30.235Z"
   },
   {
    "duration": 11,
    "start_time": "2023-05-13T14:27:30.400Z"
   },
   {
    "duration": 5,
    "start_time": "2023-05-13T14:27:30.413Z"
   },
   {
    "duration": 32,
    "start_time": "2023-05-13T14:27:30.421Z"
   },
   {
    "duration": 815,
    "start_time": "2023-05-13T14:27:30.454Z"
   },
   {
    "duration": 23,
    "start_time": "2023-05-13T14:27:31.270Z"
   },
   {
    "duration": 791,
    "start_time": "2023-05-13T14:27:31.307Z"
   },
   {
    "duration": 841,
    "start_time": "2023-05-13T14:27:32.099Z"
   },
   {
    "duration": 699,
    "start_time": "2023-05-13T14:27:32.942Z"
   },
   {
    "duration": 176,
    "start_time": "2023-05-13T14:27:33.643Z"
   },
   {
    "duration": 3,
    "start_time": "2023-05-13T14:27:33.820Z"
   },
   {
    "duration": 14,
    "start_time": "2023-05-13T14:27:33.825Z"
   },
   {
    "duration": 310,
    "start_time": "2023-05-13T14:27:33.840Z"
   },
   {
    "duration": 3,
    "start_time": "2023-05-13T14:27:34.155Z"
   },
   {
    "duration": 10,
    "start_time": "2023-05-13T14:27:34.160Z"
   },
   {
    "duration": 35,
    "start_time": "2023-05-13T14:27:34.171Z"
   },
   {
    "duration": 16,
    "start_time": "2023-05-13T14:27:34.207Z"
   },
   {
    "duration": 13,
    "start_time": "2023-05-13T14:27:34.224Z"
   },
   {
    "duration": 6,
    "start_time": "2023-05-13T14:27:34.239Z"
   },
   {
    "duration": 18,
    "start_time": "2023-05-13T14:27:34.247Z"
   },
   {
    "duration": 9,
    "start_time": "2023-05-13T14:27:34.267Z"
   },
   {
    "duration": 13663,
    "start_time": "2023-05-13T14:27:34.278Z"
   },
   {
    "duration": 432204,
    "start_time": "2023-05-13T14:27:47.943Z"
   },
   {
    "duration": 3739,
    "start_time": "2023-05-13T14:35:00.148Z"
   },
   {
    "duration": 5,
    "start_time": "2023-05-13T14:35:03.888Z"
   },
   {
    "duration": 12763,
    "start_time": "2023-05-13T14:35:03.895Z"
   },
   {
    "duration": 197466,
    "start_time": "2023-05-13T14:35:16.660Z"
   },
   {
    "duration": 4667,
    "start_time": "2023-05-13T14:38:34.128Z"
   },
   {
    "duration": 2,
    "start_time": "2023-05-13T14:38:38.797Z"
   },
   {
    "duration": 34,
    "start_time": "2023-05-13T14:38:38.801Z"
   },
   {
    "duration": 18,
    "start_time": "2023-05-13T14:38:38.837Z"
   },
   {
    "duration": 16,
    "start_time": "2023-05-13T14:38:38.857Z"
   },
   {
    "duration": 7846,
    "start_time": "2023-05-13T14:38:38.875Z"
   },
   {
    "duration": 642,
    "start_time": "2023-05-13T14:38:46.724Z"
   },
   {
    "duration": 3,
    "start_time": "2023-05-13T14:38:47.368Z"
   },
   {
    "duration": 1939,
    "start_time": "2023-05-14T14:25:20.606Z"
   },
   {
    "duration": 2296,
    "start_time": "2023-05-14T14:25:22.555Z"
   },
   {
    "duration": 77,
    "start_time": "2023-05-14T14:25:24.854Z"
   },
   {
    "duration": 1636,
    "start_time": "2023-05-14T14:25:24.937Z"
   },
   {
    "duration": 80,
    "start_time": "2023-05-14T14:25:26.574Z"
   },
   {
    "duration": 237,
    "start_time": "2023-05-14T14:25:26.656Z"
   },
   {
    "duration": 54,
    "start_time": "2023-05-14T14:25:26.895Z"
   },
   {
    "duration": 10,
    "start_time": "2023-05-14T14:25:26.951Z"
   },
   {
    "duration": 3,
    "start_time": "2023-05-14T14:25:26.962Z"
   },
   {
    "duration": 4,
    "start_time": "2023-05-14T14:25:26.967Z"
   },
   {
    "duration": 25,
    "start_time": "2023-05-14T14:27:40.832Z"
   },
   {
    "duration": 13,
    "start_time": "2023-05-14T14:33:20.057Z"
   },
   {
    "duration": 4,
    "start_time": "2023-05-14T14:33:23.091Z"
   },
   {
    "duration": 505,
    "start_time": "2023-05-14T14:33:27.293Z"
   },
   {
    "duration": 127,
    "start_time": "2023-05-14T14:46:18.184Z"
   },
   {
    "duration": 4,
    "start_time": "2023-05-14T14:46:33.467Z"
   },
   {
    "duration": 409,
    "start_time": "2023-05-14T14:46:33.473Z"
   },
   {
    "duration": 85,
    "start_time": "2023-05-14T14:46:33.884Z"
   },
   {
    "duration": 311,
    "start_time": "2023-05-14T14:46:33.971Z"
   },
   {
    "duration": 61,
    "start_time": "2023-05-14T14:46:34.285Z"
   },
   {
    "duration": 84,
    "start_time": "2023-05-14T14:46:34.348Z"
   },
   {
    "duration": 53,
    "start_time": "2023-05-14T14:46:34.433Z"
   },
   {
    "duration": 7,
    "start_time": "2023-05-14T14:46:34.488Z"
   },
   {
    "duration": 23,
    "start_time": "2023-05-14T14:46:34.496Z"
   },
   {
    "duration": 19,
    "start_time": "2023-05-14T14:46:34.521Z"
   },
   {
    "duration": 42,
    "start_time": "2023-05-14T14:46:34.545Z"
   },
   {
    "duration": 4,
    "start_time": "2023-05-14T14:46:34.592Z"
   },
   {
    "duration": 416,
    "start_time": "2023-05-14T14:46:34.598Z"
   },
   {
    "duration": 470,
    "start_time": "2023-05-14T14:46:35.017Z"
   },
   {
    "duration": 206,
    "start_time": "2023-05-14T14:46:35.488Z"
   },
   {
    "duration": 13,
    "start_time": "2023-05-14T14:46:35.696Z"
   },
   {
    "duration": 41,
    "start_time": "2023-05-14T14:46:35.711Z"
   },
   {
    "duration": 22,
    "start_time": "2023-05-14T14:46:35.754Z"
   },
   {
    "duration": 1099,
    "start_time": "2023-05-14T14:46:35.778Z"
   },
   {
    "duration": 16,
    "start_time": "2023-05-14T14:46:36.879Z"
   },
   {
    "duration": 902,
    "start_time": "2023-05-14T14:46:36.896Z"
   },
   {
    "duration": 990,
    "start_time": "2023-05-14T14:46:37.800Z"
   },
   {
    "duration": 979,
    "start_time": "2023-05-14T14:46:38.792Z"
   },
   {
    "duration": 256,
    "start_time": "2023-05-14T14:46:44.196Z"
   },
   {
    "duration": 87,
    "start_time": "2023-05-14T14:52:32.433Z"
   },
   {
    "duration": 54,
    "start_time": "2023-05-14T14:52:37.754Z"
   },
   {
    "duration": 185,
    "start_time": "2023-05-14T14:55:09.087Z"
   },
   {
    "duration": 2,
    "start_time": "2023-05-14T14:55:15.037Z"
   },
   {
    "duration": 8,
    "start_time": "2023-05-14T14:55:17.388Z"
   },
   {
    "duration": 200,
    "start_time": "2023-05-14T14:59:04.993Z"
   },
   {
    "duration": 9,
    "start_time": "2023-05-14T15:17:54.444Z"
   },
   {
    "duration": 3,
    "start_time": "2023-05-14T15:20:31.995Z"
   },
   {
    "duration": 16,
    "start_time": "2023-05-14T15:20:36.047Z"
   },
   {
    "duration": 1401,
    "start_time": "2023-05-14T15:21:05.066Z"
   },
   {
    "duration": 400,
    "start_time": "2023-05-14T15:21:06.469Z"
   },
   {
    "duration": 65,
    "start_time": "2023-05-14T15:21:06.871Z"
   },
   {
    "duration": 284,
    "start_time": "2023-05-14T15:21:06.939Z"
   },
   {
    "duration": 52,
    "start_time": "2023-05-14T15:21:07.225Z"
   },
   {
    "duration": 80,
    "start_time": "2023-05-14T15:21:07.279Z"
   },
   {
    "duration": 33,
    "start_time": "2023-05-14T15:21:07.361Z"
   },
   {
    "duration": 20,
    "start_time": "2023-05-14T15:21:07.395Z"
   },
   {
    "duration": 19,
    "start_time": "2023-05-14T15:21:07.419Z"
   },
   {
    "duration": 8,
    "start_time": "2023-05-14T15:21:07.446Z"
   },
   {
    "duration": 18,
    "start_time": "2023-05-14T15:21:07.456Z"
   },
   {
    "duration": 5,
    "start_time": "2023-05-14T15:21:07.476Z"
   },
   {
    "duration": 441,
    "start_time": "2023-05-14T15:21:07.483Z"
   },
   {
    "duration": 377,
    "start_time": "2023-05-14T15:21:07.928Z"
   },
   {
    "duration": 172,
    "start_time": "2023-05-14T15:21:08.312Z"
   },
   {
    "duration": 25,
    "start_time": "2023-05-14T15:21:08.486Z"
   },
   {
    "duration": 8,
    "start_time": "2023-05-14T15:21:08.512Z"
   },
   {
    "duration": 6,
    "start_time": "2023-05-14T15:21:08.521Z"
   },
   {
    "duration": 955,
    "start_time": "2023-05-14T15:21:08.533Z"
   },
   {
    "duration": 29,
    "start_time": "2023-05-14T15:21:09.490Z"
   },
   {
    "duration": 852,
    "start_time": "2023-05-14T15:21:09.526Z"
   },
   {
    "duration": 1008,
    "start_time": "2023-05-14T15:21:10.380Z"
   },
   {
    "duration": 926,
    "start_time": "2023-05-14T15:21:11.389Z"
   },
   {
    "duration": 211,
    "start_time": "2023-05-14T15:21:12.318Z"
   },
   {
    "duration": 7,
    "start_time": "2023-05-14T15:21:12.531Z"
   },
   {
    "duration": 10,
    "start_time": "2023-05-14T15:21:12.544Z"
   },
   {
    "duration": 376,
    "start_time": "2023-05-14T15:21:12.561Z"
   },
   {
    "duration": 9,
    "start_time": "2023-05-14T15:21:12.940Z"
   },
   {
    "duration": 12,
    "start_time": "2023-05-14T15:21:12.953Z"
   },
   {
    "duration": 17,
    "start_time": "2023-05-14T15:21:12.968Z"
   },
   {
    "duration": 4,
    "start_time": "2023-05-14T15:21:12.987Z"
   },
   {
    "duration": 5,
    "start_time": "2023-05-14T15:21:12.994Z"
   },
   {
    "duration": 6,
    "start_time": "2023-05-14T15:21:13.001Z"
   },
   {
    "duration": 9,
    "start_time": "2023-05-14T15:21:13.009Z"
   },
   {
    "duration": 161,
    "start_time": "2023-05-14T15:21:13.019Z"
   },
   {
    "duration": 0,
    "start_time": "2023-05-14T15:21:13.182Z"
   },
   {
    "duration": 0,
    "start_time": "2023-05-14T15:21:13.184Z"
   },
   {
    "duration": 0,
    "start_time": "2023-05-14T15:21:13.185Z"
   },
   {
    "duration": 0,
    "start_time": "2023-05-14T15:21:13.186Z"
   },
   {
    "duration": 0,
    "start_time": "2023-05-14T15:21:13.188Z"
   },
   {
    "duration": 0,
    "start_time": "2023-05-14T15:21:13.189Z"
   },
   {
    "duration": 0,
    "start_time": "2023-05-14T15:21:13.190Z"
   },
   {
    "duration": 0,
    "start_time": "2023-05-14T15:21:13.208Z"
   },
   {
    "duration": 0,
    "start_time": "2023-05-14T15:21:13.209Z"
   },
   {
    "duration": 0,
    "start_time": "2023-05-14T15:21:13.210Z"
   },
   {
    "duration": 0,
    "start_time": "2023-05-14T15:21:13.213Z"
   },
   {
    "duration": 0,
    "start_time": "2023-05-14T15:21:13.215Z"
   },
   {
    "duration": 0,
    "start_time": "2023-05-14T15:21:13.216Z"
   },
   {
    "duration": 0,
    "start_time": "2023-05-14T15:21:13.217Z"
   },
   {
    "duration": 0,
    "start_time": "2023-05-14T15:21:13.218Z"
   },
   {
    "duration": 0,
    "start_time": "2023-05-14T15:21:13.219Z"
   },
   {
    "duration": 3,
    "start_time": "2023-05-14T15:22:38.981Z"
   },
   {
    "duration": 9,
    "start_time": "2023-05-14T15:24:18.266Z"
   },
   {
    "duration": 22,
    "start_time": "2023-05-14T15:25:19.201Z"
   },
   {
    "duration": 9,
    "start_time": "2023-05-14T15:26:04.553Z"
   },
   {
    "duration": 5,
    "start_time": "2023-05-14T15:27:58.904Z"
   },
   {
    "duration": 9,
    "start_time": "2023-05-14T15:28:19.689Z"
   },
   {
    "duration": 1279,
    "start_time": "2023-05-14T15:29:04.360Z"
   },
   {
    "duration": 385,
    "start_time": "2023-05-14T15:29:05.641Z"
   },
   {
    "duration": 64,
    "start_time": "2023-05-14T15:29:06.028Z"
   },
   {
    "duration": 264,
    "start_time": "2023-05-14T15:29:06.093Z"
   },
   {
    "duration": 60,
    "start_time": "2023-05-14T15:29:06.359Z"
   },
   {
    "duration": 72,
    "start_time": "2023-05-14T15:29:06.420Z"
   },
   {
    "duration": 45,
    "start_time": "2023-05-14T15:29:06.493Z"
   },
   {
    "duration": 8,
    "start_time": "2023-05-14T15:29:06.540Z"
   },
   {
    "duration": 14,
    "start_time": "2023-05-14T15:29:06.550Z"
   },
   {
    "duration": 6,
    "start_time": "2023-05-14T15:29:06.566Z"
   },
   {
    "duration": 16,
    "start_time": "2023-05-14T15:29:06.573Z"
   },
   {
    "duration": 5,
    "start_time": "2023-05-14T15:29:06.591Z"
   },
   {
    "duration": 436,
    "start_time": "2023-05-14T15:29:06.597Z"
   },
   {
    "duration": 358,
    "start_time": "2023-05-14T15:29:07.037Z"
   },
   {
    "duration": 184,
    "start_time": "2023-05-14T15:29:07.397Z"
   },
   {
    "duration": 10,
    "start_time": "2023-05-14T15:29:07.583Z"
   },
   {
    "duration": 26,
    "start_time": "2023-05-14T15:29:07.595Z"
   },
   {
    "duration": 17,
    "start_time": "2023-05-14T15:29:07.622Z"
   },
   {
    "duration": 914,
    "start_time": "2023-05-14T15:29:07.640Z"
   },
   {
    "duration": 16,
    "start_time": "2023-05-14T15:29:08.555Z"
   },
   {
    "duration": 806,
    "start_time": "2023-05-14T15:29:08.572Z"
   },
   {
    "duration": 894,
    "start_time": "2023-05-14T15:29:09.380Z"
   },
   {
    "duration": 803,
    "start_time": "2023-05-14T15:29:10.276Z"
   },
   {
    "duration": 184,
    "start_time": "2023-05-14T15:29:11.081Z"
   },
   {
    "duration": 3,
    "start_time": "2023-05-14T15:29:11.266Z"
   },
   {
    "duration": 27,
    "start_time": "2023-05-14T15:29:11.270Z"
   },
   {
    "duration": 322,
    "start_time": "2023-05-14T15:29:11.299Z"
   },
   {
    "duration": 10,
    "start_time": "2023-05-14T15:29:11.623Z"
   },
   {
    "duration": 31,
    "start_time": "2023-05-14T15:29:11.636Z"
   },
   {
    "duration": 12,
    "start_time": "2023-05-14T15:29:18.818Z"
   },
   {
    "duration": 4,
    "start_time": "2023-05-14T15:29:30.176Z"
   },
   {
    "duration": 6,
    "start_time": "2023-05-14T15:29:59.688Z"
   },
   {
    "duration": 394,
    "start_time": "2023-05-14T15:29:59.696Z"
   },
   {
    "duration": 65,
    "start_time": "2023-05-14T15:30:00.092Z"
   },
   {
    "duration": 267,
    "start_time": "2023-05-14T15:30:00.159Z"
   },
   {
    "duration": 49,
    "start_time": "2023-05-14T15:30:00.428Z"
   },
   {
    "duration": 90,
    "start_time": "2023-05-14T15:30:00.478Z"
   },
   {
    "duration": 50,
    "start_time": "2023-05-14T15:30:00.569Z"
   },
   {
    "duration": 19,
    "start_time": "2023-05-14T15:30:00.626Z"
   },
   {
    "duration": 18,
    "start_time": "2023-05-14T15:30:00.647Z"
   },
   {
    "duration": 23,
    "start_time": "2023-05-14T15:30:00.668Z"
   },
   {
    "duration": 39,
    "start_time": "2023-05-14T15:30:00.693Z"
   },
   {
    "duration": 7,
    "start_time": "2023-05-14T15:30:00.734Z"
   },
   {
    "duration": 410,
    "start_time": "2023-05-14T15:30:00.743Z"
   },
   {
    "duration": 380,
    "start_time": "2023-05-14T15:30:01.155Z"
   },
   {
    "duration": 165,
    "start_time": "2023-05-14T15:30:01.537Z"
   },
   {
    "duration": 10,
    "start_time": "2023-05-14T15:30:01.705Z"
   },
   {
    "duration": 40,
    "start_time": "2023-05-14T15:30:01.716Z"
   },
   {
    "duration": 39,
    "start_time": "2023-05-14T15:30:01.758Z"
   },
   {
    "duration": 929,
    "start_time": "2023-05-14T15:30:01.799Z"
   },
   {
    "duration": 22,
    "start_time": "2023-05-14T15:30:02.737Z"
   },
   {
    "duration": 925,
    "start_time": "2023-05-14T15:30:02.761Z"
   },
   {
    "duration": 858,
    "start_time": "2023-05-14T15:30:03.688Z"
   },
   {
    "duration": 928,
    "start_time": "2023-05-14T15:30:04.548Z"
   },
   {
    "duration": 186,
    "start_time": "2023-05-14T15:30:05.477Z"
   },
   {
    "duration": 3,
    "start_time": "2023-05-14T15:30:05.665Z"
   },
   {
    "duration": 19,
    "start_time": "2023-05-14T15:30:05.669Z"
   },
   {
    "duration": 255,
    "start_time": "2023-05-14T15:30:05.689Z"
   },
   {
    "duration": 4,
    "start_time": "2023-05-14T15:30:05.948Z"
   },
   {
    "duration": 9,
    "start_time": "2023-05-14T15:30:05.954Z"
   },
   {
    "duration": 28,
    "start_time": "2023-05-14T15:30:05.965Z"
   },
   {
    "duration": 9,
    "start_time": "2023-05-14T15:30:05.995Z"
   },
   {
    "duration": 28,
    "start_time": "2023-05-14T15:30:06.006Z"
   },
   {
    "duration": 15,
    "start_time": "2023-05-14T15:30:06.036Z"
   },
   {
    "duration": 5,
    "start_time": "2023-05-14T15:30:06.053Z"
   },
   {
    "duration": 29,
    "start_time": "2023-05-14T15:30:06.060Z"
   },
   {
    "duration": 11,
    "start_time": "2023-05-14T15:30:06.091Z"
   },
   {
    "duration": 11545,
    "start_time": "2023-05-14T15:30:06.104Z"
   },
   {
    "duration": 388647,
    "start_time": "2023-05-14T15:30:17.651Z"
   },
   {
    "duration": 3732,
    "start_time": "2023-05-14T15:36:46.299Z"
   },
   {
    "duration": 4,
    "start_time": "2023-05-14T15:36:50.036Z"
   },
   {
    "duration": 11621,
    "start_time": "2023-05-14T15:36:50.043Z"
   },
   {
    "duration": 175188,
    "start_time": "2023-05-14T15:37:01.666Z"
   },
   {
    "duration": 3362,
    "start_time": "2023-05-14T15:39:56.855Z"
   },
   {
    "duration": 4,
    "start_time": "2023-05-14T15:40:00.218Z"
   },
   {
    "duration": 85,
    "start_time": "2023-05-14T15:40:00.223Z"
   },
   {
    "duration": 5,
    "start_time": "2023-05-14T15:40:00.309Z"
   },
   {
    "duration": 38,
    "start_time": "2023-05-14T15:40:00.316Z"
   },
   {
    "duration": 6520,
    "start_time": "2023-05-14T15:40:00.355Z"
   },
   {
    "duration": 549,
    "start_time": "2023-05-14T15:40:06.877Z"
   },
   {
    "duration": 7,
    "start_time": "2023-05-14T15:40:07.427Z"
   },
   {
    "duration": 9,
    "start_time": "2023-05-14T15:40:07.439Z"
   },
   {
    "duration": 115,
    "start_time": "2023-05-14T15:40:07.449Z"
   },
   {
    "duration": 4,
    "start_time": "2023-05-14T15:47:12.152Z"
   },
   {
    "duration": 7,
    "start_time": "2023-05-14T15:47:14.666Z"
   },
   {
    "duration": 10,
    "start_time": "2023-05-14T15:47:30.738Z"
   },
   {
    "duration": 12,
    "start_time": "2023-05-14T15:48:56.529Z"
   },
   {
    "duration": 4,
    "start_time": "2023-05-14T15:48:58.897Z"
   },
   {
    "duration": 156,
    "start_time": "2023-05-14T15:51:21.220Z"
   },
   {
    "duration": 1428,
    "start_time": "2023-05-14T15:59:00.237Z"
   },
   {
    "duration": 419,
    "start_time": "2023-05-14T15:59:01.666Z"
   },
   {
    "duration": 79,
    "start_time": "2023-05-14T15:59:02.087Z"
   },
   {
    "duration": 290,
    "start_time": "2023-05-14T15:59:02.168Z"
   },
   {
    "duration": 65,
    "start_time": "2023-05-14T15:59:02.460Z"
   },
   {
    "duration": 104,
    "start_time": "2023-05-14T15:59:02.532Z"
   },
   {
    "duration": 43,
    "start_time": "2023-05-14T15:59:02.638Z"
   },
   {
    "duration": 11,
    "start_time": "2023-05-14T15:59:02.683Z"
   },
   {
    "duration": 3,
    "start_time": "2023-05-14T15:59:02.696Z"
   },
   {
    "duration": 16,
    "start_time": "2023-05-14T15:59:02.701Z"
   },
   {
    "duration": 23,
    "start_time": "2023-05-14T15:59:02.718Z"
   },
   {
    "duration": 9,
    "start_time": "2023-05-14T15:59:02.750Z"
   },
   {
    "duration": 508,
    "start_time": "2023-05-14T15:59:02.762Z"
   },
   {
    "duration": 400,
    "start_time": "2023-05-14T15:59:03.274Z"
   },
   {
    "duration": 193,
    "start_time": "2023-05-14T15:59:03.675Z"
   },
   {
    "duration": 10,
    "start_time": "2023-05-14T15:59:03.871Z"
   },
   {
    "duration": 28,
    "start_time": "2023-05-14T15:59:03.883Z"
   },
   {
    "duration": 19,
    "start_time": "2023-05-14T15:59:03.917Z"
   },
   {
    "duration": 992,
    "start_time": "2023-05-14T15:59:03.947Z"
   },
   {
    "duration": 16,
    "start_time": "2023-05-14T15:59:04.953Z"
   },
   {
    "duration": 861,
    "start_time": "2023-05-14T15:59:04.971Z"
   },
   {
    "duration": 970,
    "start_time": "2023-05-14T15:59:05.834Z"
   },
   {
    "duration": 824,
    "start_time": "2023-05-14T15:59:06.806Z"
   },
   {
    "duration": 200,
    "start_time": "2023-05-14T15:59:07.631Z"
   },
   {
    "duration": 10,
    "start_time": "2023-05-14T15:59:07.833Z"
   },
   {
    "duration": 10,
    "start_time": "2023-05-14T15:59:07.845Z"
   },
   {
    "duration": 332,
    "start_time": "2023-05-14T15:59:07.856Z"
   },
   {
    "duration": 4,
    "start_time": "2023-05-14T15:59:08.190Z"
   },
   {
    "duration": 13,
    "start_time": "2023-05-14T15:59:08.196Z"
   },
   {
    "duration": 4,
    "start_time": "2023-05-14T15:59:08.210Z"
   },
   {
    "duration": 11,
    "start_time": "2023-05-14T15:59:08.217Z"
   },
   {
    "duration": 11,
    "start_time": "2023-05-14T15:59:08.230Z"
   },
   {
    "duration": 14,
    "start_time": "2023-05-14T15:59:08.242Z"
   },
   {
    "duration": 4,
    "start_time": "2023-05-14T15:59:08.257Z"
   },
   {
    "duration": 11,
    "start_time": "2023-05-14T15:59:08.263Z"
   },
   {
    "duration": 9,
    "start_time": "2023-05-14T15:59:08.275Z"
   },
   {
    "duration": 11484,
    "start_time": "2023-05-14T15:59:08.285Z"
   },
   {
    "duration": 386546,
    "start_time": "2023-05-14T15:59:19.771Z"
   },
   {
    "duration": 2408,
    "start_time": "2023-05-14T16:05:46.325Z"
   },
   {
    "duration": 2,
    "start_time": "2023-05-14T16:05:48.736Z"
   },
   {
    "duration": 11742,
    "start_time": "2023-05-14T16:05:48.742Z"
   },
   {
    "duration": 174247,
    "start_time": "2023-05-14T16:06:00.486Z"
   },
   {
    "duration": 3190,
    "start_time": "2023-05-14T16:08:54.736Z"
   },
   {
    "duration": 8,
    "start_time": "2023-05-14T16:08:57.929Z"
   },
   {
    "duration": 67,
    "start_time": "2023-05-14T16:08:57.942Z"
   },
   {
    "duration": 6,
    "start_time": "2023-05-14T16:08:58.014Z"
   },
   {
    "duration": 18,
    "start_time": "2023-05-14T16:08:58.022Z"
   },
   {
    "duration": 6496,
    "start_time": "2023-05-14T16:08:58.042Z"
   },
   {
    "duration": 516,
    "start_time": "2023-05-14T16:09:04.540Z"
   },
   {
    "duration": 3,
    "start_time": "2023-05-14T16:09:05.058Z"
   },
   {
    "duration": 4,
    "start_time": "2023-05-14T16:09:05.062Z"
   },
   {
    "duration": 9,
    "start_time": "2023-05-14T16:09:05.068Z"
   },
   {
    "duration": 19,
    "start_time": "2023-05-14T16:09:05.078Z"
   },
   {
    "duration": 1315,
    "start_time": "2023-05-14T16:13:10.615Z"
   },
   {
    "duration": 388,
    "start_time": "2023-05-14T16:13:11.931Z"
   },
   {
    "duration": 58,
    "start_time": "2023-05-14T16:13:12.323Z"
   },
   {
    "duration": 307,
    "start_time": "2023-05-14T16:13:12.382Z"
   },
   {
    "duration": 65,
    "start_time": "2023-05-14T16:13:12.692Z"
   },
   {
    "duration": 76,
    "start_time": "2023-05-14T16:13:12.760Z"
   },
   {
    "duration": 32,
    "start_time": "2023-05-14T16:13:12.838Z"
   },
   {
    "duration": 7,
    "start_time": "2023-05-14T16:13:12.871Z"
   },
   {
    "duration": 3,
    "start_time": "2023-05-14T16:13:12.879Z"
   },
   {
    "duration": 33,
    "start_time": "2023-05-14T16:13:12.884Z"
   },
   {
    "duration": 16,
    "start_time": "2023-05-14T16:13:12.921Z"
   },
   {
    "duration": 6,
    "start_time": "2023-05-14T16:13:12.939Z"
   },
   {
    "duration": 400,
    "start_time": "2023-05-14T16:13:12.946Z"
   },
   {
    "duration": 373,
    "start_time": "2023-05-14T16:13:13.348Z"
   },
   {
    "duration": 172,
    "start_time": "2023-05-14T16:13:13.726Z"
   },
   {
    "duration": 19,
    "start_time": "2023-05-14T16:13:13.899Z"
   },
   {
    "duration": 9,
    "start_time": "2023-05-14T16:13:13.920Z"
   },
   {
    "duration": 11,
    "start_time": "2023-05-14T16:13:13.931Z"
   },
   {
    "duration": 895,
    "start_time": "2023-05-14T16:13:13.944Z"
   },
   {
    "duration": 19,
    "start_time": "2023-05-14T16:13:14.841Z"
   },
   {
    "duration": 783,
    "start_time": "2023-05-14T16:13:14.862Z"
   },
   {
    "duration": 866,
    "start_time": "2023-05-14T16:13:15.646Z"
   },
   {
    "duration": 773,
    "start_time": "2023-05-14T16:13:16.518Z"
   },
   {
    "duration": 186,
    "start_time": "2023-05-14T16:13:17.293Z"
   },
   {
    "duration": 3,
    "start_time": "2023-05-14T16:13:17.481Z"
   },
   {
    "duration": 21,
    "start_time": "2023-05-14T16:13:17.486Z"
   },
   {
    "duration": 352,
    "start_time": "2023-05-14T16:13:17.509Z"
   },
   {
    "duration": 5,
    "start_time": "2023-05-14T16:13:17.863Z"
   },
   {
    "duration": 11,
    "start_time": "2023-05-14T16:13:17.869Z"
   },
   {
    "duration": 12,
    "start_time": "2023-05-14T16:13:17.881Z"
   },
   {
    "duration": 9,
    "start_time": "2023-05-14T16:13:17.895Z"
   },
   {
    "duration": 28,
    "start_time": "2023-05-14T16:13:17.906Z"
   },
   {
    "duration": 7,
    "start_time": "2023-05-14T16:13:17.937Z"
   },
   {
    "duration": 14,
    "start_time": "2023-05-14T16:13:17.945Z"
   },
   {
    "duration": 15,
    "start_time": "2023-05-14T16:13:17.960Z"
   },
   {
    "duration": 12,
    "start_time": "2023-05-14T16:13:17.976Z"
   },
   {
    "duration": 11654,
    "start_time": "2023-05-14T16:13:17.990Z"
   },
   {
    "duration": 388032,
    "start_time": "2023-05-14T16:13:29.645Z"
   },
   {
    "duration": 3351,
    "start_time": "2023-05-14T16:19:57.679Z"
   },
   {
    "duration": 6,
    "start_time": "2023-05-14T16:20:01.105Z"
   },
   {
    "duration": 11354,
    "start_time": "2023-05-14T16:20:01.118Z"
   },
   {
    "duration": 171204,
    "start_time": "2023-05-14T16:20:12.474Z"
   },
   {
    "duration": 2034,
    "start_time": "2023-05-14T16:23:03.679Z"
   },
   {
    "duration": 5,
    "start_time": "2023-05-14T16:23:05.718Z"
   },
   {
    "duration": 14,
    "start_time": "2023-05-14T16:23:05.729Z"
   },
   {
    "duration": 5,
    "start_time": "2023-05-14T16:23:05.744Z"
   },
   {
    "duration": 4,
    "start_time": "2023-05-14T16:23:05.750Z"
   },
   {
    "duration": 6367,
    "start_time": "2023-05-14T16:23:05.755Z"
   },
   {
    "duration": 527,
    "start_time": "2023-05-14T16:23:12.123Z"
   },
   {
    "duration": 4,
    "start_time": "2023-05-14T16:23:12.652Z"
   },
   {
    "duration": 5,
    "start_time": "2023-05-14T16:23:12.657Z"
   },
   {
    "duration": 9,
    "start_time": "2023-05-14T16:23:12.663Z"
   },
   {
    "duration": 3,
    "start_time": "2023-05-14T16:23:12.674Z"
   },
   {
    "duration": 7,
    "start_time": "2023-05-14T16:24:07.721Z"
   },
   {
    "duration": 2,
    "start_time": "2023-05-14T16:24:14.092Z"
   },
   {
    "duration": 2,
    "start_time": "2023-05-14T16:24:24.228Z"
   },
   {
    "duration": 5,
    "start_time": "2023-05-14T16:24:26.728Z"
   },
   {
    "duration": 612,
    "start_time": "2023-05-14T16:25:02.077Z"
   },
   {
    "duration": 4,
    "start_time": "2023-05-14T16:25:06.863Z"
   },
   {
    "duration": 4,
    "start_time": "2023-05-14T16:25:17.526Z"
   },
   {
    "duration": 8,
    "start_time": "2023-05-14T16:25:23.940Z"
   },
   {
    "duration": 6,
    "start_time": "2023-05-14T16:25:26.641Z"
   }
  ],
  "kernelspec": {
   "display_name": "Python 3 (ipykernel)",
   "language": "python",
   "name": "python3"
  },
  "language_info": {
   "codemirror_mode": {
    "name": "ipython",
    "version": 3
   },
   "file_extension": ".py",
   "mimetype": "text/x-python",
   "name": "python",
   "nbconvert_exporter": "python",
   "pygments_lexer": "ipython3",
   "version": "3.10.9"
  },
  "toc": {
   "base_numbering": 1,
   "nav_menu": {},
   "number_sections": true,
   "sideBar": false,
   "skip_h1_title": true,
   "title_cell": "Содержание",
   "title_sidebar": "Contents",
   "toc_cell": true,
   "toc_position": {
    "height": "99.9961px",
    "left": "20.9922px",
    "top": "179.23px",
    "width": "165px"
   },
   "toc_section_display": true,
   "toc_window_display": true
  }
 },
 "nbformat": 4,
 "nbformat_minor": 2
}
